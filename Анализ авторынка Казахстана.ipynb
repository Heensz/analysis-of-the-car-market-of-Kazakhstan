{
 "cells": [
  {
   "cell_type": "code",
   "execution_count": 1,
   "id": "95d67e95",
   "metadata": {},
   "outputs": [],
   "source": [
    "import pandas as pd\n",
    "from unidecode import unidecode\n",
    "import Levenshtein as lev\n",
    "import calendar\n",
    "import matplotlib.pyplot as plt"
   ]
  },
  {
   "cell_type": "markdown",
   "id": "3703ff1c",
   "metadata": {},
   "source": [
    "# Анализ авторынка Казахстана"
   ]
  },
  {
   "cell_type": "markdown",
   "id": "53776da6",
   "metadata": {},
   "source": [
    "Описание проекта: Целью проекта является анализ авторынка Республики Казахстан.\n",
    "\n",
    "Описание данных: В нашем распоряжении \"сырые\" данные по продажам автомобилей в Казахстане за 2019 год. Данные получены из\n",
    "официальной статистики VAG, после перевода из эксель в csv обнаружились множественные\n",
    "проблемы с исходными данными: некорректные разделители десятичных разрядов, несоответствие\n",
    "данных типу данных. Дополнительной проблемой является то, что статистику собирал не один\n",
    "человек, поэтому есть неявные дубликаты, а также одни и те же\n",
    "признаки могут быть записаны как на русском, так и на английском языке.\n",
    "План работы:\n",
    "1. Очистка данных  \n",
    "    1.1 Правильно загрузить данные с нужным разделителем десятичных разрядов;  \n",
    "    1.2 Привести данные в столбцах к корректным типам;  \n",
    "    1.3 Избавиться от лишних столбцов;  \n",
    "    1.4 Избавиться от неявных дубликатов в столбца;  \n",
    "    1.5 Решить что сделать с пропусками данных;  \n",
    "    1.6 Разобраться с аномалиями;  \n",
    "    1.7 Добавить категориальные столбцы.  \n",
    "2. Исследовательский анализ:  \n",
    "    2.1 Признаки столбцов     \n",
    "    2.2 Анализ строк (Упорядочены ли строки: по индексу/дате/признаку/что-то_ещё. Есть ли мутлтииндексы.)  \n",
    "    2.3 Анализ явных дубликатов.  \n",
    "    2.4 Анализ пропусков (Определение типа пропусков (MCAR, MAR, MNAR))    \n",
    "    2.5 Анализ типов данных. Разделить на числовые категориальные (упорядоченные/неупорядоченные), текстовые, временные.  \n",
    "    2.6 Изменение типа данных и кодирование переменных.  \n",
    "    2.7 Анализ числовых признаков.  \n",
    "    2.8 Анализ категориальных признаков.\n",
    "3. Анализ рынка   \n",
    "    3.1 Топовые марки на рынке Казахстана.  \n",
    "    3.2 Продажи на рынке Казахстана всех марок в денежном и натуральном выражении.  \n",
    "    3.3 Динамика продаж в целом по рынку (помесячно).  \n",
    "    3.4 Динамика продаж по категориям (помесячно): тип топлива, класс, сегмент.  \n",
    "    3.5 Продажи по регионам.  \n",
    "    3.6 Продажи по автоцентрам. "
   ]
  },
  {
   "cell_type": "markdown",
   "id": "fd2975ad",
   "metadata": {},
   "source": [
    "## Очистка данных"
   ]
  },
  {
   "cell_type": "code",
   "execution_count": 2,
   "id": "d279b197",
   "metadata": {
    "scrolled": true
   },
   "outputs": [
    {
     "name": "stdout",
     "output_type": "stream",
     "text": [
      "    Год   Месяц     Компания Бренд Модель Модификация Год выпуска  \\\n",
      "0  2019     Май  Mercur Auto  Audi     A3        TFSI        2018   \n",
      "1  2019  Август  Mercur Auto  Audi     A3        TFSI        2018   \n",
      "2  2019  Апрель  Mercur Auto  Audi     A4        TFSI        2018   \n",
      "3  2019    Июль  Mercur Auto  Audi     A4        TFSI        2018   \n",
      "4  2019    Июль  Mercur Auto  Audi     A4        TFSI        2018   \n",
      "\n",
      "  Страна-производитель Вид топлива Объём двиг, л,  ... Тип клиента  \\\n",
      "0             Германия      Бензин            1,4  ...   Физ. Лицо   \n",
      "1             Германия      Бензин            1,4  ...    Юр. Лицо   \n",
      "2             Германия      Бензин            1,4  ...   Физ. Лицо   \n",
      "3             Германия      Бензин            1,4  ...    Юр. Лицо   \n",
      "4             Германия      Бензин            1,4  ...   Физ. Лицо   \n",
      "\n",
      "  Форма расчета Количество Цена, USD Продажа, USD   Область  \\\n",
      "0   безналичный        1.0  28115.00     28115.00  г.Алматы   \n",
      "1      наличный        1.0  32246.99     32246.99  г.Алматы   \n",
      "2   безналичный        1.0  32000.00     32000.00  г.Алматы   \n",
      "3   безналичный        1.0  31929.00     31929.00  г.Алматы   \n",
      "4      наличный        1.0  31929.00     31929.00  г.Алматы   \n",
      "\n",
      "      Сегментация 2013  Класс 2013  Сегментация Eng  Локализация производства  \n",
      "0  Легковые автомобили     C класс                C                    Импорт  \n",
      "1  Легковые автомобили     C класс                C                    Импорт  \n",
      "2  Легковые автомобили     D класс                D                    Импорт  \n",
      "3  Легковые автомобили     D класс                D                    Импорт  \n",
      "4  Легковые автомобили     D класс                D                    Импорт  \n",
      "\n",
      "[5 rows x 25 columns]\n"
     ]
    }
   ],
   "source": [
    "#загрузим датасет\n",
    "file_path = 'C:\\\\Users\\\\Redmi\\\\Desktop\\\\авторынок  казахстана\\\\auto_kz_2019.csv'\n",
    "df = pd.read_csv(file_path, sep = ';',decimal=\",\")\n",
    "print(df.head())"
   ]
  },
  {
   "cell_type": "code",
   "execution_count": 3,
   "id": "27600e05",
   "metadata": {},
   "outputs": [],
   "source": [
    "# Приводим названия столбцов к нижнему регистру\n",
    "df.columns = df.columns.str.lower()\n",
    "# Заменяем пробелы и дефисы на нижние подчеркивания\n",
    "df.columns = df.columns.str.replace('[ \\-]', '_', regex=True)\n",
    "# Заменяем пробелы с запятыми и запятые на пробелы\n",
    "df.columns = df.columns.str.replace('[ ,\\,]', '', regex=True)"
   ]
  },
  {
   "cell_type": "code",
   "execution_count": 4,
   "id": "2ef45414",
   "metadata": {},
   "outputs": [],
   "source": [
    "#перевод названия столбцов на английский\n",
    "translation_dict = {\n",
    "    'год': 'year',\n",
    "    'месяц': 'month',\n",
    "    'компания': 'company',\n",
    "    'бренд': 'brand',\n",
    "    'модель': 'model',\n",
    "    'модификация': 'modification',\n",
    "    'год_выпуска': 'manufacturing_year',\n",
    "    'страна_производитель': 'manufacturer_country',\n",
    "    'вид_топлива': 'fuel_type',\n",
    "    'объём_двиг_л': 'engine_capacity_liters',\n",
    "    'коробка_передач': 'transmission_type',\n",
    "    'тип_привода': 'drive_type',\n",
    "    'сегмент': 'segment',\n",
    "    'регион': 'region',\n",
    "    'наименование_дилерского_центра': 'dealer_center_name',\n",
    "    'тип_клиента': 'customer_type',\n",
    "    'форма_расчета': 'payment_form',\n",
    "    'количество': 'quantity',\n",
    "    'цена_usd': 'price_usd',\n",
    "    'продажа_usd': 'sale_usd',\n",
    "    'область': 'area',\n",
    "    'сегментация_2013': 'segmentation_2013',\n",
    "    'класс_2013': 'class_2013',\n",
    "    'сегментация_eng': 'segmentation_eng',\n",
    "    'локализация_производства': 'production_localization'\n",
    "}"
   ]
  },
  {
   "cell_type": "code",
   "execution_count": 5,
   "id": "11ab4913",
   "metadata": {},
   "outputs": [],
   "source": [
    "# Применяем перевод названий столбцов\n",
    "df = df.rename(columns=translation_dict)"
   ]
  },
  {
   "cell_type": "markdown",
   "id": "7bfd22c9",
   "metadata": {},
   "source": [
    "По какой-то причине в столбце с объёмом двигателя разделитель не поменялся на точку, сделаем замену методом replace."
   ]
  },
  {
   "cell_type": "code",
   "execution_count": 6,
   "id": "a9c85681",
   "metadata": {},
   "outputs": [],
   "source": [
    "# Преобразование столбца price_usd с заменой запятых на точки\n",
    "df['engine_capacity_liters'] = df['engine_capacity_liters'].str.replace(',', '.')\n"
   ]
  },
  {
   "cell_type": "code",
   "execution_count": 7,
   "id": "00924cf1",
   "metadata": {},
   "outputs": [],
   "source": [
    "#удалим лишние столбцы\n",
    "df = df.drop(['modification', 'segment', 'dealer_center_name', 'payment_form', 'segmentation_eng', 'production_localization'], axis=1)"
   ]
  },
  {
   "cell_type": "code",
   "execution_count": 8,
   "id": "0b0e5f4f",
   "metadata": {
    "scrolled": false
   },
   "outputs": [
    {
     "name": "stdout",
     "output_type": "stream",
     "text": [
      "<class 'pandas.core.frame.DataFrame'>\n",
      "RangeIndex: 39966 entries, 0 to 39965\n",
      "Data columns (total 19 columns):\n",
      " #   Column                  Non-Null Count  Dtype  \n",
      "---  ------                  --------------  -----  \n",
      " 0   year                    39966 non-null  int64  \n",
      " 1   month                   39966 non-null  object \n",
      " 2   company                 39966 non-null  object \n",
      " 3   brand                   39966 non-null  object \n",
      " 4   model                   39966 non-null  object \n",
      " 5   manufacturing_year      39465 non-null  object \n",
      " 6   manufacturer_country    39966 non-null  object \n",
      " 7   fuel_type               36826 non-null  object \n",
      " 8   engine_capacity_liters  35708 non-null  object \n",
      " 9   transmission_type       36711 non-null  object \n",
      " 10  drive_type              35677 non-null  object \n",
      " 11  region                  39966 non-null  object \n",
      " 12  customer_type           32919 non-null  object \n",
      " 13  quantity                39960 non-null  float64\n",
      " 14  price_usd               39966 non-null  float64\n",
      " 15  sale_usd                39966 non-null  float64\n",
      " 16  area                    39966 non-null  object \n",
      " 17  segmentation_2013       39966 non-null  object \n",
      " 18  class_2013              39966 non-null  object \n",
      "dtypes: float64(3), int64(1), object(15)\n",
      "memory usage: 5.8+ MB\n"
     ]
    }
   ],
   "source": [
    "#посмотрим информацию о датафрейме\n",
    "df.info()"
   ]
  },
  {
   "cell_type": "markdown",
   "id": "f2130587",
   "metadata": {},
   "source": [
    "Распишем смысл каждого столбца. Оценим важность каждого столбца для исследования.\n",
    "* year – год продажи (2019)  \n",
    "* month – месяц продажи (январь - сентябрь) - важный столбец  \n",
    "* company – название автоцентра в котором продана машина - важный столбец, например, для оценки наиболее рентабельных автоцентров  \n",
    "* brand – название продаваемой марки автомобиля - важный столбец, потому что необходимо знать, какие бренды чаще или реже продвются  \n",
    "* model – название модели автомобиля - важный столбец, потому что необходимо знать, какие модели чаще или реже продвются  \n",
    "* manufacturing_year – год производства автомобиля - важный столбец  \n",
    "* manufacturer_country – страна, где произведен автомобиль - важный столбец  \n",
    "* fuel_type – бензин, дизель, электричество, гибрид    \n",
    "* engine_capacity_liters – объем двигателя автомобиля в литрах    \n",
    "* transmission_type – тип коробки переключения передач   \n",
    "* drive_type – тип привода   \n",
    "* region – регион продажи - важный столбец, так как нам необходимо знать, в каких регионах лучше или хуже продаются авто  \n",
    "* quantity – количество автомобилей в заказе - важный столбец, благодаря ему, например, можно посчитать среднее количество машин в 1 чеке  \n",
    "* price_usd – цена автомобиля USD  - важный столбец, например, для сравнения цен на авто в разных автоцентрах  \n",
    "* sale_usd – цена заказа USD (цена авто умноженная на количество и за вычетом скидок если есть)  - важный столбец, например, для подсчёта выручки или среднего чека  \n",
    "* area – область продажи - важный столбец   \n",
    "* segmentation_2013 – сегмент автомобиля,   \n",
    "* class_2013 – класс автомобиля актуальный  "
   ]
  },
  {
   "cell_type": "code",
   "execution_count": 9,
   "id": "3776d24a",
   "metadata": {
    "scrolled": true
   },
   "outputs": [
    {
     "data": {
      "text/plain": [
       "year                         0\n",
       "month                        0\n",
       "company                      0\n",
       "brand                        0\n",
       "model                        0\n",
       "manufacturing_year         501\n",
       "manufacturer_country         0\n",
       "fuel_type                 3140\n",
       "engine_capacity_liters    4258\n",
       "transmission_type         3255\n",
       "drive_type                4289\n",
       "region                       0\n",
       "customer_type             7047\n",
       "quantity                     6\n",
       "price_usd                    0\n",
       "sale_usd                     0\n",
       "area                         0\n",
       "segmentation_2013            0\n",
       "class_2013                   0\n",
       "dtype: int64"
      ]
     },
     "execution_count": 9,
     "metadata": {},
     "output_type": "execute_result"
    }
   ],
   "source": [
    "#посмотрим количество пропусков\n",
    "df.isna().sum()"
   ]
  },
  {
   "cell_type": "code",
   "execution_count": 10,
   "id": "1aa2c086",
   "metadata": {},
   "outputs": [
    {
     "data": {
      "text/plain": [
       "39960"
      ]
     },
     "execution_count": 10,
     "metadata": {},
     "output_type": "execute_result"
    }
   ],
   "source": [
    "#удалим строки, где в quantity пропуски\n",
    "df=df.dropna(subset=['quantity'])\n",
    "#проверим изменения\n",
    "df.quantity.count()"
   ]
  },
  {
   "cell_type": "markdown",
   "id": "9d43e8a2",
   "metadata": {},
   "source": [
    "В столбце manufacturing_year немного пропусков 501, \n",
    "fuel_type 3140 пропусков, \n",
    "engine_capacity_liters 4258, \n",
    "transmission_type 3255 и drive_type 4289. Эти столбцы отражают характеристики авто, они не столь важны для анализа рынка, поэтому просто поставим на место пропусков заглушки в виде 0 для удобства работы."
   ]
  },
  {
   "cell_type": "code",
   "execution_count": 11,
   "id": "2953782b",
   "metadata": {},
   "outputs": [
    {
     "data": {
      "text/plain": [
       "year                      0\n",
       "month                     0\n",
       "company                   0\n",
       "brand                     0\n",
       "model                     0\n",
       "manufacturing_year        0\n",
       "manufacturer_country      0\n",
       "fuel_type                 0\n",
       "engine_capacity_liters    0\n",
       "transmission_type         0\n",
       "drive_type                0\n",
       "region                    0\n",
       "customer_type             0\n",
       "quantity                  0\n",
       "price_usd                 0\n",
       "sale_usd                  0\n",
       "area                      0\n",
       "segmentation_2013         0\n",
       "class_2013                0\n",
       "dtype: int64"
      ]
     },
     "execution_count": 11,
     "metadata": {},
     "output_type": "execute_result"
    }
   ],
   "source": [
    "#заменим пропуски\n",
    "def fill_missing_values(df_to_fill, columns_to_fill):\n",
    "    for column in columns_to_fill:\n",
    "        df_to_fill[column] = df_to_fill[column].fillna('0')\n",
    "    return df_to_fill\n",
    "\n",
    "# Применим функцию к DataFrame\n",
    "columns_to_fill = ['manufacturing_year', 'fuel_type', 'engine_capacity_liters', 'transmission_type', 'drive_type','customer_type']\n",
    "df = fill_missing_values(df, columns_to_fill)\n",
    "df.isna().sum()"
   ]
  },
  {
   "cell_type": "code",
   "execution_count": 12,
   "id": "2303cbeb",
   "metadata": {},
   "outputs": [],
   "source": [
    "# удаление лишних пробелов в конце значений строковых столбцов\n",
    "for column in df.columns:\n",
    "    if df[column].dtype == \"object\":\n",
    "        df[column] = df[column].str.replace(r' $', '', regex=True)"
   ]
  },
  {
   "cell_type": "code",
   "execution_count": 13,
   "id": "dbd9080e",
   "metadata": {},
   "outputs": [
    {
     "name": "stdout",
     "output_type": "stream",
     "text": [
      "Неявные дубликаты:\n",
      "Similar values found in 'company': 'Mercur Auto' and 'Mercur Autos'\n",
      "Similar values found in 'company': 'Caspian Motors' and 'Каспиан Моторс'\n",
      "Similar values found in 'company': 'Autokapital' and 'Автокапитал'\n",
      "Similar values found in 'company': 'ММС Рус' and 'MMC RUS'\n",
      "Similar values found in 'company': 'Равон Моторс Казахстан' and 'Ravon Motors Kazakstan'\n",
      "Similar values found in 'customer_type': 'Физ. Лицо' and 'физ.лицо'\n",
      "Similar values found in 'customer_type': 'Физ. Лицо' and 'ФизЛицо'\n",
      "Similar values found in 'customer_type': 'Юр. Лицо' and 'Юр.Лицо'\n",
      "Similar values found in 'customer_type': 'Юр. Лицо' and 'ЮрЛицо'\n",
      "Similar values found in 'customer_type': 'Юр.Лицо' and 'ЮрЛицо'\n",
      "Similar values found in 'customer_type': 'физ.лицо' and 'ФизЛицо'\n"
     ]
    }
   ],
   "source": [
    "#функция для поиска неявных дублей\n",
    "def translate_and_find_similar(df, columns_to_compare):\n",
    "    def similar_values(value1, value2):\n",
    "        value1_lower = unidecode(value1).lower()\n",
    "        value2_lower = unidecode(value2).lower()\n",
    "        return lev.distance(value1_lower, value2_lower) <= 2\n",
    "    \n",
    "    for column in columns_to_compare:\n",
    "        if df[column].dtype == \"object\":\n",
    "            unique_values = df[column].unique()\n",
    "            num_unique_values = len(unique_values)\n",
    "            \n",
    "            for i in range(num_unique_values):\n",
    "                for j in range(i + 1, num_unique_values):\n",
    "                    value1, value2 = unique_values[i], unique_values[j]\n",
    "                    if similar_values(value1, value2):\n",
    "                        print(f\"Similar values found in '{column}': '{value1}' and '{value2}'\")\n",
    "\n",
    "# Список столбцов, по которым нужно искать похожие значения\n",
    "columns_to_compare = ['company','customer_type']\n",
    "\n",
    "# Применение функции\n",
    "print(\"Неявные дубликаты:\")\n",
    "translate_and_find_similar(df, columns_to_compare)"
   ]
  },
  {
   "cell_type": "code",
   "execution_count": 14,
   "id": "be0bb683",
   "metadata": {
    "scrolled": true
   },
   "outputs": [
    {
     "name": "stdout",
     "output_type": "stream",
     "text": [
      "Уникальные значения в 'year': [2019]\n",
      "\n",
      "Уникальные значения в 'month': ['Август' 'Апрель' 'Июль' 'Июнь' 'Май' 'Март' 'Сентябрь' 'Февраль'\n",
      " 'Январь']\n",
      "\n",
      "Уникальные значения в 'company': ['Allur Auto' 'Almaty Motors Premium' 'Astana Motors' 'Autokapital'\n",
      " 'Caspian Motors' 'Daewoo Bus Kazakhstan' 'Eurasia Motor Premium'\n",
      " 'Hino Motors' 'Hyundai Com Trans Kazakhstan' 'MAN Truck & Bus Kazakhstan'\n",
      " 'MMC RUS' 'Mercur Auto' 'Mercur Autos' 'Nissan Manufacturing RUS'\n",
      " 'Ravon Motors Kazakstan' 'Renault Россия' 'Scandinavian Motors'\n",
      " 'Scania Central Asia' 'Subaru Kazakhstan' 'TERRA MOTORS'\n",
      " 'Toyota Motor Kazakhstan' 'Volkswagen Group Rus' 'Автодом Motors KST'\n",
      " 'Автокапитал' 'Автомир ГК' 'Автомир-Центр' 'Автоцентр-Бавария'\n",
      " 'БИПЭК АВТО' 'Вираж' 'Каспиан Моторс' 'Лифан Моторс Рус' 'ММС Рус'\n",
      " 'Равон Моторс Казахстан' 'СВС-ТРАНС' 'СемАЗ' 'ТК КАМАЗ'\n",
      " 'ТОО \"Eurasia Motor Zhaik\"' 'УзАвто-Казахстан' 'Хино Моторс Казахстан']\n",
      "\n",
      "Уникальные значения в 'brand': ['ANKAI' 'Audi' 'BMW' 'Cadillac' 'Chevrolet' 'Daewoo' 'Dong Feng' 'Ford'\n",
      " 'Foton' 'GAZ' 'Hino' 'Hyundai' 'Hyundai Truck & Bus' 'Infiniti' 'Isuzu'\n",
      " 'Iveco' 'Jac' 'Jaguar' 'KAMAZ' 'Kia' 'Lada' 'Land Rover' 'Lexus' 'Lifan'\n",
      " 'MAN' 'Mazda' 'Mercedes-Benz' 'Mercedes-Benz Trucks' 'Mini' 'Mitsubishi'\n",
      " 'Nefaz' 'Nissan' 'Peugeot' 'Porsche' 'Ravon' 'Renault' 'Scania' 'Shacman'\n",
      " 'Skoda' 'Subaru' 'Toyota' 'UAZ' 'Volkswagen' 'Volvo' 'Yutong' 'Урал']\n",
      "\n",
      "Уникальные значения в 'model': ['2206' '2217' '2310' '2705' '2752' '3' '3 серия' '300' '301' '3151'\n",
      " '3221' '32551' '3302' '3303' '3308' '3309' '3741' '3909' '3962' '4308'\n",
      " '4311' '43118' '4320' '4320-1951-40' '4320-1951-60' '43253' '43502'\n",
      " '44108' '45141' '45142' '45143' '4x4' '5 серия' '500' '5299' '53215'\n",
      " '53504' '53605' '54115' '5490' '5557' '58815Z' '6' '6 серия' '65111'\n",
      " '65115' '65116' '65117' '6520' '65206' '65225' '66052' '6606' '7 серия'\n",
      " '8 серия' '911 Carrera S' 'A-Class' 'A3' 'A4' 'A6' 'A7' 'A8' 'ASX'\n",
      " 'Accent' 'Actros' 'Almera' 'Amarok' 'Arkana' 'Aveo' 'BC 095' 'BC 211 MA'\n",
      " 'BJ1069VDJEA-F1' 'BJ3253DMPKB-AD' 'BS 106 A' 'BS 106 D' 'BWC6665GA5'\n",
      " 'C-Class' 'C-HR' 'CLA-Class' 'CLS-Class' 'CX-5' 'CX-9' 'Cabrio'\n",
      " 'Caddy Kasten' 'Caddy Maxi Kombi' 'Camaro' 'Camry' 'Captiva' 'Caravelle'\n",
      " 'Cargo' 'Cayenne' 'Cerato' 'Corolla' 'Countryman' 'County' 'Creta'\n",
      " 'D-MAX' 'Daily' 'Daily A' 'Daily V' 'Discovery' 'Discovery Sport'\n",
      " 'Dokker' 'Duster' 'E-Class' 'E-PACE' 'ES' 'EX8' 'Eclipse Cross' 'Elantra'\n",
      " 'Escalade' 'F-Pace' 'F-Type' 'Fiesta' 'Forester' 'G-Class' 'G-Series'\n",
      " 'GLA-Class' 'GLC Coupe' 'GLC-Class' 'GLE Coupe' 'GLE-Class' 'GLS-Class'\n",
      " 'GX' 'Granta' 'H350' 'HD 160' 'HD 170' 'HD 35' 'HD 65' 'HD 78' 'HD 79'\n",
      " 'HF-D105' 'HFF6124G03EV3' 'HFF6127GZ-4' 'HFF6850G' 'HIGHLANDER'\n",
      " 'HILUX DC' 'Hatch' 'I-Pace' 'Jetta' 'Juke' 'Kalina' 'Kaptur' 'Kodiaq'\n",
      " 'Koleos' 'LC Prado' 'LC200' 'LS' 'LX' 'Largus' 'Legacy' 'Logan' 'MYWAY'\n",
      " 'Macan' 'Master' 'Mondeo' 'Multivan' 'Murano' 'Murman' 'N120' 'N56' 'N75'\n",
      " 'NMR' 'NMS85' 'NPR' 'NPS' 'NQR' 'NX' 'Nexia R3' 'Next' 'Niva' 'Octavia'\n",
      " 'Optima' 'Outback' 'Outlander' 'P-Series' 'Pajero IV' 'Pajero Sport'\n",
      " 'Panamera' 'Partner Panel Van' 'Patriot' 'Patriot Pickup' 'Picanto'\n",
      " 'Polo' 'Q5' 'Q50' 'Q7' 'Q8' 'QX50' 'QX60' 'QX80' 'Qashqai' 'Quoris'\n",
      " 'R-Series' 'R4' 'RAV4' 'RS5' 'RX' 'RXH' 'Range Rover'\n",
      " 'Range Rover Evoque' 'Range Rover Sport' 'Range Rover Velar' 'Rapid'\n",
      " 'Rio' 'S-Class' 'S-Series' 'S3' 'S5' 'S7' 'S90' 'SX3258DR384' 'Sandero'\n",
      " 'Santa Fe' 'Setra' 'Solano' 'Sonata' 'Sorento' 'Soul' 'Sportage'\n",
      " 'Sprinter' 'Stinger' 'Stralis' 'Superb' 'T6' 'TG' 'TQ-1/H-1' 'Tahoe'\n",
      " 'Teramont' 'Terrano' 'Tiguan' 'Tipper' 'Touareg' 'Tourismo' 'Tracker'\n",
      " 'Transporter' 'Transporter Kasten' 'Transporter Kombi' 'Traverse'\n",
      " 'Tucson' 'UX' 'Universe' 'V-Class' 'V90' 'Vesta' 'Vito' 'X-Trail' 'X1'\n",
      " 'X2' 'X200' 'X3' 'X4' 'X5' 'X50' 'X6' 'X60' 'X7' 'X70' 'XC40' 'XC60'\n",
      " 'XC90' 'XE' 'XF' 'XJ' 'XRAY' 'XT5' 'XV' 'Z4' 'ZK6108HGH' 'i8' 'iev' 'ВИС']\n",
      "\n",
      "Уникальные значения в 'manufacturing_year': ['0' '2011' '2013' '2014' '2016' '2017' '2018' '2019' '2\\xa0018'\n",
      " '2\\xa0019']\n",
      "\n",
      "Уникальные значения в 'manufacturer_country': ['UK' 'Австрия' 'Белоруссия' 'Бельгия' 'Венгрия' 'Германия' 'Испания'\n",
      " 'Китай' 'Корея' 'Нидерланды' 'Польша' 'Республика Казахстан'\n",
      " 'Российская Федерация' 'США' 'Таиланд' 'Турция' 'Узбекистан' 'Швеция'\n",
      " 'Япония']\n",
      "\n",
      "Уникальные значения в 'fuel_type': ['0' '1,6' '2' 'Бензин' 'Дизель' 'Электричество' 'Электро' 'бензин'\n",
      " 'гибрид' 'дизель']\n",
      "\n",
      "Уникальные значения в 'engine_capacity_liters': ['#Н/Д' '0' '1.2' '1.248' '1.2T' '1.33' '1.4' '1.4 Turbo' '1.485' '1.5'\n",
      " '1.591' '1.596' '1.598' '1.6' '1.6 MPI' '1.6 T-GDI' '1.69' '1.7' '1.774'\n",
      " '1.8' '1.998' '1.999' '10.5' '10.7' '11' '11.7' '12' '12.3' '12.7' '12.8'\n",
      " '13' '13.7' '14.7' '15.7' '16.7' '17.7' '18.7' '19.7' '2' '2.0'\n",
      " '2.0 CRDI' '2.0 MPI' '2.0h' '2.2' '2.359' '2.4' '2.4 GDI' '2.4 MPI'\n",
      " '2.4G' '2.5' '2.5 CRDI VGT' '2.5 CRDI WGT' '2.693' '2.7' '2.8' '2.9'\n",
      " '20.7' '21.7' '22.7' '23.7' '24.7' '25.7' '26.7' '3' '3.0 L' '3.342'\n",
      " '3.47' '3.5' '3.6' '3.7' '3.8' '3.9' '4' '4.0' '4.3' '4.3.' '4.4' '4.6'\n",
      " '4.7' '4.9' '4.98' '4.98 L.' '400 Л.С.' '5' '5.2' '5.5' '5.6' '5.7' '6.2'\n",
      " '6.5' '6.6' '6.7' '6.7L' '7.5' '7.6' '7.7' '8.4 L.' '8.7' '88 KWH' '9.7'\n",
      " 'AT' 'MT']\n",
      "\n",
      "Уникальные значения в 'transmission_type': [' 7 АКП' '#Н/Д' '0' '12AT' '12АТ' '4 АТ' '4AT' '4WD' '4АТ' '5 AT' '5 МТ'\n",
      " '5AT' '5M' '5MT' '5АТ' '5М' '5МТ' '6 AT' '6 DSG' '6 MT' '6 АТ' '6 МТ'\n",
      " '6A' '6AT' '6DSG' '6M/T' '6MT' '6А' '6АТ' '6МТ' '7 DCT' '7 DSG'\n",
      " '7 АКПП (PDK)' '7 АКПП PDK' '7AT' '7DCT' '7DSG' '7G-TRONIC' '7АКП' '7АТ'\n",
      " '8' '8 AT' '8 АКПП (PDK)' '8 АКПП Tiptronic S' '8 АТ' '8-ступ АКПП' '8A'\n",
      " '8AT' '8АКПП' '8АТ' '9AT' '9G-TRONIC' 'A/T' 'AMT' 'AT' 'CVT'\n",
      " 'CVT (вариATор)' 'CVT (вариатор)' 'CVT(вAриATор)' 'DCT' 'DSG' 'M/T' 'MT'\n",
      " 'PDK' 'Powershift S6' 'S-Tronic' 'S-tronic' 'Steptronic' 'TDI'\n",
      " 'Tiptronic' 'А/T' 'АT' 'АКП' 'АКПП' 'АТ' 'М/T' 'МT' 'МКП' 'МКПП' 'МТ'\n",
      " 'Мех.' 'Передний' 'РЕДУКТОР']\n",
      "\n",
      "Уникальные значения в 'drive_type': ['#Н/Д' '0' '2 WD' '2WD' '4 WD' '4Motion' '4WD' '4X2' '4X4' '4x2' '4x4'\n",
      " '4х2' '4х2.2' '4х4' 'AWD' 'FF' 'FWD' 'RWD' 'quattro' 'Астана' 'Задний'\n",
      " 'Передний' 'Передний (FF)' 'Полный' 'передний' 'полный']\n",
      "\n",
      "Уникальные значения в 'region': ['Актау' 'Актобе' 'Алматы' 'Атырау' 'Зыряновск' 'Караганда' 'Каскелен'\n",
      " 'Кокшетау' 'Костанай' 'Кульсары' 'Кызылорда' 'Нур-Султан' 'Павлодар'\n",
      " 'Петропавловск' 'Риддер' 'Рудный' 'Сарыагаш' 'Семей' 'Талдыкорган'\n",
      " 'Тараз' 'Туркестан' 'Уральск' 'Усть-Каменогорск' 'Шымкент' 'ЭКСПОРТ'\n",
      " 'Экибастуз']\n",
      "\n",
      "Уникальные значения в 'customer_type': ['0' 'Корп. клиент' 'Физ. Лицо' 'ФизЛицо' 'Юр. Лицо' 'Юр.Лицо' 'ЮрЛицо'\n",
      " 'физ.лицо' 'физическое' 'юридическое']\n",
      "\n",
      "Уникальные значения в 'quantity': [ -1.   1.   2.   3.   4.   5.   6.   7.   8.   9.  10.  11.  12.  13.\n",
      "  14.  15.  16.  17.  18.  19.  20.  21.  22.  23.  24.  25.  26.  27.\n",
      "  28.  29.  30.  31.  32.  33.  34.  35.  36.  37.  38.  40.  41.  42.\n",
      "  43.  46.  47.  50.  51.  54.  60.  62.  63.  66.  70.  79. 100. 115.]\n",
      "\n",
      "Уникальные значения в 'price_usd': [  7100.         7300.         7362.995171 ... 305252.0154   307986.3633\n",
      " 328510.9706  ]\n",
      "\n",
      "Уникальные значения в 'sale_usd': [ -35588.25     7100.       7300.    ... 2277367.677 3157811.637\n",
      " 3778206.264]\n",
      "\n",
      "Уникальные значения в 'area': ['Акмолинская область' 'Актюбинская область' 'Алматинская область'\n",
      " 'Атырауская область' 'Восточно-Казахстанская область'\n",
      " 'Жамбылская область' 'Западно-Казахстанская область'\n",
      " 'Карагандинская область' 'Костанайская область' 'Кызылординская область'\n",
      " 'Мангистауская область' 'Павлодарская область'\n",
      " 'Северо-Казахстанская область' 'Туркестанская область' 'Экспорт область'\n",
      " 'Южно-Казахстанская область' 'г.Алматы' 'г.Нур-Султан']\n",
      "\n",
      "Уникальные значения в 'segmentation_2013': ['Внедорожники' 'Коммерческие автомобили' 'Легковые автомобили' 'Минивэны'\n",
      " 'Пикапы']\n",
      "\n",
      "Уникальные значения в 'class_2013': ['A класс' 'B класс' 'C класс' 'D класс' 'E класс' 'F класс' 'Pick-ups'\n",
      " 'Большие автобусы' 'Компактвэн' 'Компактные SUV'\n",
      " 'Крупнотоннажные грузовики' 'Малотоннажные грузовики' 'Микроавтобусы'\n",
      " 'Полноразмерные SUV' 'Полноразмерный Минивэн' 'Развозные автомобили'\n",
      " 'Спортивные автомобили' 'Среднеразмерные SUV' 'Среднетоннажные грузовики'\n",
      " 'Средние автобусы' 'Субкомпактные SUV']\n",
      "\n"
     ]
    }
   ],
   "source": [
    "# функция для просмотра уникальных значений во всех столбцах\n",
    "for column in df.columns:\n",
    "    unique_values = df[column].sort_values().unique()\n",
    "    print(f\"Уникальные значения в '{column}': {unique_values}\\n\")"
   ]
  },
  {
   "cell_type": "markdown",
   "id": "368bcf78",
   "metadata": {},
   "source": [
    "* Дубли в company: 'Mercur Auto' and 'Mercur Autos' - это разные компании с похожими названиями, остальное - дубликаты: 'Caspian Motors' and 'Каспиан Моторс', 'Autokapital' and 'Автокапитал', 'ММС Рус' and 'MMC RUS', 'Равон Моторс Казахстан' and 'Ravon Motors Kazakstan'\n",
    "* В brand дублей нет\n",
    "* В model: 3 и 3 серия, '6' '6 серия' похоже на дубли, в значении 'TQ-1/H-1' как будто слиплись 2 вида моделей. Изучить модели и сравнить модели с брендом.\n",
    "* manufacturing_year есть 2 странных значения '2\\xa0018' '2\\xa0019'. Необходимо детальнее изучить столбец\n",
    "* В manufacturer_country нет дубликатов\n",
    "* fuel_type 1.6, 2 - эти значения не относятся к виду топлива, скорее всего в этот столбец попал объём двигателя, а значение 0 не может относиться ни к тому ни к другому. \n",
    "* engine_capacity_liters '#Н/Д', '0', '88 KWH', '400 Л.С.', 'AT', 'MT' - в этот столбец попали значения из других столбцов - мощность двигателя и тип коробки передач. Также есть неявные дубли '2' '2.0' '2.0h' '3' '3.0 L' '4' '4.0' '4.3' '4.3.' '4.98' '4.98 L.' '6.7' '6.7L'  Необходимо детальнее изучить столбец\n",
    "* transmission_type '#Н/Д', '4WD', 'Передний' - значения из drive_type. Странные значения 'TDI' (двигатель на дизеле) и просто '8', Необходимо детальнее изучить столбец и разбить на механику и автомат. С помощью сервиса regex  удалось структурировать значения, после их анализа выяснилось, что все значения, где есть M(рус или англ) - это механика. После анализа оставшихся значений стало понятно, что все остальные значения, а именно: с буквой A(рус или англ), DSG, DCT, tronic(Tronic), CVT, Powershift, РЕДУКТОР, относятся к автомату.\n",
    "* drive_type '#Н/Д' ('FWD', 'FF', 2 WD' '2WD'-передний) ('AWD' 'quattro' '4Motion' '4 WD''4WD'  '4X4'  '4x4'  '4х4'-полный) ('4X2' '4x2' '4х2' '4х2.2'-неполный) ('RWD' задний), попало значение 'Астана'. Необходимо детальнее изучить столбец и разбить на передний, задний, полный и неполный приводы.\n",
    "* region нет дублей\n",
    "* customer_type': 'Физ. Лицо' and 'физ.лицо', 'ФизЛицо', 'Юр. Лицо', 'Юр.Лицо', 'ЮрЛицо'\n",
    "* В quantity значение '-1' - это возврат, а большое число проданных автомобилей 100 и 115 (возможно опт продажа таксопарку или на экспорт).\n",
    "* price_usd - необходимо посмотреть выбросы (построить boxplot)\n",
    "* В sale_usd странные значения -35588.25 (скорее всего сумма возврата) и 0 (проусков нет и заглушек в 0 нет) - надо посмотреть количество таких значений и тоже проверить на выбросы\n",
    "* В area всё впорядке\n",
    "* segmentation_2013 норм\n",
    "* В class_2013 всё норм"
   ]
  },
  {
   "cell_type": "code",
   "execution_count": 15,
   "id": "9dbf461d",
   "metadata": {},
   "outputs": [
    {
     "name": "stdout",
     "output_type": "stream",
     "text": [
      "Будет удалено строк: 1316\n"
     ]
    }
   ],
   "source": [
    "# задаём условия для удаления строк с ошибочными значениями в столбцах\n",
    "condition = (\n",
    "    (df['fuel_type'].isin(['2', '1,6'])) |\n",
    "    (df['engine_capacity_liters'].isin(['88 KWH', 'AT', 'MT'])) |\n",
    "    (df['transmission_type'].isin(['TDI', '8', '4WD', 'Передний'])) |\n",
    "    (df['manufacturing_year'].isin(['2\\xa0018', '2\\xa0019'])) |\n",
    "    (df['drive_type'] == 'Астана')\n",
    ")\n",
    "\n",
    "# Подсчет количества удаляемых строк\n",
    "count_deleted = len(df[condition])\n",
    "print(f'Будет удалено строк: {count_deleted}')\n",
    "\n"
   ]
  },
  {
   "cell_type": "code",
   "execution_count": 16,
   "id": "91018592",
   "metadata": {},
   "outputs": [
    {
     "name": "stdout",
     "output_type": "stream",
     "text": [
      "1316\n"
     ]
    }
   ],
   "source": [
    "# Удаление строк\n",
    "df = df[~condition]\n",
    "#проверим результат\n",
    "print(39960 - df['model'].count())"
   ]
  },
  {
   "cell_type": "markdown",
   "id": "f5a3900f",
   "metadata": {},
   "source": [
    " \n",
    "Далее: \n",
    "* удалим столбцы месяц и год\n",
    "* удаляем неявные дубликаты\n",
    "* кодируем страны в столбце страна производства в alpha3 (RUS, KAZ, USA и т.д.)\n",
    "* кодируем тип топлива в (F - fuel, D - diesel, E - electro, HYB - hybrid)\n",
    "* приведем в порядок столбец объем двигателя \n",
    "* столбцы регион и область - привести к нижнему регистру с заглавной буквы\n",
    "* столбец тип трансмиссии - оставим два типа трансмиссии: механика и автомат\n",
    "* столбцы тип топлива, тип трансмиссии, тип привода, сегмент 2013 и класс 2013 переводим в категориальные"
   ]
  },
  {
   "cell_type": "markdown",
   "id": "54d476f0",
   "metadata": {},
   "source": [
    "Строки удалились корректно. Теперь удалим неявные дубликаты."
   ]
  },
  {
   "cell_type": "code",
   "execution_count": 17,
   "id": "24458764",
   "metadata": {},
   "outputs": [
    {
     "name": "stdout",
     "output_type": "stream",
     "text": [
      "Similar values found in 'company': 'Mercur Auto' and 'Mercur Autos'\n",
      "None\n"
     ]
    }
   ],
   "source": [
    "#удалим дубли в company: 'Caspian Motors' and 'Каспиан Моторс', 'Autokapital' and 'Автокапитал', 'ММС Рус' and 'MMC RUS', 'Равон Моторс Казахстан' and 'Ravon Motors Kazakstan'\n",
    "duplicates_company = {\n",
    "    'Каспиан Моторс':'Caspian Motors', \n",
    "    'Автокапитал':'Autokapital', \n",
    "    'MMC RUS':'ММС Рус', \n",
    "    'Равон Моторс Казахстан':'Ravon Motors Kazakstan',\n",
    "    'Hino Motors':'Хино Моторс Казахстан'}\n",
    "df['company'] = df['company'].replace(duplicates_company)\n",
    "#проверим, удалились ли дубликаты с помощью функции\n",
    "print(translate_and_find_similar(df, ['company']))\n"
   ]
  },
  {
   "cell_type": "code",
   "execution_count": 18,
   "id": "dc9b7665",
   "metadata": {},
   "outputs": [
    {
     "data": {
      "text/html": [
       "<div>\n",
       "<style scoped>\n",
       "    .dataframe tbody tr th:only-of-type {\n",
       "        vertical-align: middle;\n",
       "    }\n",
       "\n",
       "    .dataframe tbody tr th {\n",
       "        vertical-align: top;\n",
       "    }\n",
       "\n",
       "    .dataframe thead th {\n",
       "        text-align: right;\n",
       "    }\n",
       "</style>\n",
       "<table border=\"1\" class=\"dataframe\">\n",
       "  <thead>\n",
       "    <tr style=\"text-align: right;\">\n",
       "      <th></th>\n",
       "      <th>model</th>\n",
       "      <th>brand</th>\n",
       "    </tr>\n",
       "  </thead>\n",
       "  <tbody>\n",
       "    <tr>\n",
       "      <th>31</th>\n",
       "      <td>3 серия</td>\n",
       "      <td>BMW</td>\n",
       "    </tr>\n",
       "    <tr>\n",
       "      <th>62</th>\n",
       "      <td>6 серия</td>\n",
       "      <td>BMW</td>\n",
       "    </tr>\n",
       "    <tr>\n",
       "      <th>9566</th>\n",
       "      <td>TQ-1/H-1</td>\n",
       "      <td>Hyundai</td>\n",
       "    </tr>\n",
       "    <tr>\n",
       "      <th>20223</th>\n",
       "      <td>3</td>\n",
       "      <td>Mazda</td>\n",
       "    </tr>\n",
       "    <tr>\n",
       "      <th>20228</th>\n",
       "      <td>6</td>\n",
       "      <td>Mazda</td>\n",
       "    </tr>\n",
       "  </tbody>\n",
       "</table>\n",
       "</div>"
      ],
      "text/plain": [
       "          model    brand\n",
       "31      3 серия      BMW\n",
       "62      6 серия      BMW\n",
       "9566   TQ-1/H-1  Hyundai\n",
       "20223         3    Mazda\n",
       "20228         6    Mazda"
      ]
     },
     "execution_count": 18,
     "metadata": {},
     "output_type": "execute_result"
    }
   ],
   "source": [
    "# сравним модели и бренды \n",
    "df.query('model == \"3\"|model == \"3 серия\"|model == \"6\"|model == \"6 серия\"|model == \"TQ-1/H-1\"')[['model', 'brand']].drop_duplicates()\n"
   ]
  },
  {
   "cell_type": "markdown",
   "id": "96d8e114",
   "metadata": {},
   "source": [
    "Получились уникальные значения, получается, в model нет дублей."
   ]
  },
  {
   "cell_type": "code",
   "execution_count": 19,
   "id": "54d60065",
   "metadata": {},
   "outputs": [
    {
     "data": {
      "text/html": [
       "<div>\n",
       "<style scoped>\n",
       "    .dataframe tbody tr th:only-of-type {\n",
       "        vertical-align: middle;\n",
       "    }\n",
       "\n",
       "    .dataframe tbody tr th {\n",
       "        vertical-align: top;\n",
       "    }\n",
       "\n",
       "    .dataframe thead th {\n",
       "        text-align: right;\n",
       "    }\n",
       "</style>\n",
       "<table border=\"1\" class=\"dataframe\">\n",
       "  <thead>\n",
       "    <tr style=\"text-align: right;\">\n",
       "      <th></th>\n",
       "      <th>brand</th>\n",
       "      <th>model</th>\n",
       "    </tr>\n",
       "  </thead>\n",
       "  <tbody>\n",
       "    <tr>\n",
       "      <th>39544</th>\n",
       "      <td>Jaguar</td>\n",
       "      <td>I-Pace</td>\n",
       "    </tr>\n",
       "  </tbody>\n",
       "</table>\n",
       "</div>"
      ],
      "text/plain": [
       "        brand   model\n",
       "39544  Jaguar  I-Pace"
      ]
     },
     "execution_count": 19,
     "metadata": {},
     "output_type": "execute_result"
    }
   ],
   "source": [
    "#посмотрим у какой модели вместо объёма двигателя мощность\n",
    "df.query('engine_capacity_liters == \"400 Л.С.\"')[['brand','model']].drop_duplicates()"
   ]
  },
  {
   "cell_type": "code",
   "execution_count": 20,
   "id": "e70f90ac",
   "metadata": {},
   "outputs": [],
   "source": [
    "# удалим дубли в engine_capacity_liters '2' '2.0' '2.0h' '3' '3.0 L' '4' '4.0' '4.3' '4.3.' '4.98' '4.98 L.' '6.7' '6.7L'\n",
    "duplicates_engine_capacity_liters = {\n",
    "    '2':'2.0', \n",
    "    '2.0h':'2.0', \n",
    "    '3':'3.0', \n",
    "    '3.0 L':'3.0',\n",
    "    '4':'4.0',\n",
    "    '4.3.':'4.3',\n",
    "    '4.98 L.':'4.98',\n",
    "    '6.7L':'6.7',\n",
    "    '8.4 L.':'8.4'}\n",
    "df['company'] = df['company'].replace(duplicates_company)"
   ]
  },
  {
   "cell_type": "code",
   "execution_count": 21,
   "id": "b800bf61",
   "metadata": {},
   "outputs": [
    {
     "name": "stdout",
     "output_type": "stream",
     "text": [
      "engine_capacity_liters\n",
      "#Н/Д                                    [Corolla, HILUX DC]\n",
      "0         [BJ3253DMPKB-AD, 2310, 2705, 2752, 3221, 3302,...\n",
      "1.2                                      [Qashqai, X-Trail]\n",
      "1.248                                     [Cerato, Picanto]\n",
      "1.2T                                                 [C-HR]\n",
      "                                ...                        \n",
      "7.6                                                   [500]\n",
      "7.7                                                  [Niva]\n",
      "8.4 L.                                        [HFF6127GZ-4]\n",
      "8.7                                       [Niva, NMR, Polo]\n",
      "9.7                                                  [Niva]\n",
      "Name: model, Length: 99, dtype: object\n"
     ]
    }
   ],
   "source": [
    "#оценим соответствие модели и объёма двигателя\n",
    "print(df.groupby('engine_capacity_liters')['model'].unique())"
   ]
  },
  {
   "cell_type": "code",
   "execution_count": 22,
   "id": "5cd0fc63",
   "metadata": {},
   "outputs": [
    {
     "data": {
      "text/plain": [
       "array(['Физ. Лицо', 'Юр. Лицо', '0'], dtype=object)"
      ]
     },
     "execution_count": 22,
     "metadata": {},
     "output_type": "execute_result"
    }
   ],
   "source": [
    "#удалим неявные дубли в customer_type': 'Физ. Лицо' and 'физ.лицо', 'ФизЛицо', 'Юр. Лицо', 'Юр.Лицо', 'ЮрЛицо' с использованием регулярных выражений\n",
    "df['customer_type'] = df['customer_type'].str.replace(r'(?i)физ(\\.)? *лицо|физическое', 'Физ. Лицо', regex=True)\n",
    "df['customer_type'] = df['customer_type'].str.replace(r'(?i)(юр(\\.)? *лицо|юридическое|корп(\\.)? *клиент)', 'Юр. Лицо', regex=True)\n",
    "#проверим изменения\n",
    "df['customer_type'].unique()"
   ]
  },
  {
   "cell_type": "code",
   "execution_count": 23,
   "id": "5f4bdc59",
   "metadata": {},
   "outputs": [
    {
     "data": {
      "text/plain": [
       "'Модель авто возврат:'"
      ]
     },
     "metadata": {},
     "output_type": "display_data"
    },
    {
     "data": {
      "text/html": [
       "<div>\n",
       "<style scoped>\n",
       "    .dataframe tbody tr th:only-of-type {\n",
       "        vertical-align: middle;\n",
       "    }\n",
       "\n",
       "    .dataframe tbody tr th {\n",
       "        vertical-align: top;\n",
       "    }\n",
       "\n",
       "    .dataframe thead th {\n",
       "        text-align: right;\n",
       "    }\n",
       "</style>\n",
       "<table border=\"1\" class=\"dataframe\">\n",
       "  <thead>\n",
       "    <tr style=\"text-align: right;\">\n",
       "      <th></th>\n",
       "      <th>model</th>\n",
       "      <th>brand</th>\n",
       "      <th>sale_usd</th>\n",
       "    </tr>\n",
       "  </thead>\n",
       "  <tbody>\n",
       "    <tr>\n",
       "      <th>25728</th>\n",
       "      <td>Superb</td>\n",
       "      <td>Skoda</td>\n",
       "      <td>-35588.25</td>\n",
       "    </tr>\n",
       "  </tbody>\n",
       "</table>\n",
       "</div>"
      ],
      "text/plain": [
       "        model  brand  sale_usd\n",
       "25728  Superb  Skoda -35588.25"
      ]
     },
     "metadata": {},
     "output_type": "display_data"
    },
    {
     "name": "stdout",
     "output_type": "stream",
     "text": [
      "Количество заказов с 1 машиной в чеке: 92.87 %\n"
     ]
    },
    {
     "data": {
      "text/plain": [
       "'Модели, количество которых в чеке больше 50:'"
      ]
     },
     "metadata": {},
     "output_type": "display_data"
    },
    {
     "data": {
      "text/html": [
       "<div>\n",
       "<style scoped>\n",
       "    .dataframe tbody tr th:only-of-type {\n",
       "        vertical-align: middle;\n",
       "    }\n",
       "\n",
       "    .dataframe tbody tr th {\n",
       "        vertical-align: top;\n",
       "    }\n",
       "\n",
       "    .dataframe thead th {\n",
       "        text-align: right;\n",
       "    }\n",
       "</style>\n",
       "<table border=\"1\" class=\"dataframe\">\n",
       "  <thead>\n",
       "    <tr style=\"text-align: right;\">\n",
       "      <th></th>\n",
       "      <th>brand</th>\n",
       "      <th>model</th>\n",
       "      <th>quantity</th>\n",
       "    </tr>\n",
       "  </thead>\n",
       "  <tbody>\n",
       "    <tr>\n",
       "      <th>17031</th>\n",
       "      <td>Lada</td>\n",
       "      <td>Granta</td>\n",
       "      <td>50.0</td>\n",
       "    </tr>\n",
       "    <tr>\n",
       "      <th>17102</th>\n",
       "      <td>Lada</td>\n",
       "      <td>Granta</td>\n",
       "      <td>50.0</td>\n",
       "    </tr>\n",
       "    <tr>\n",
       "      <th>17194</th>\n",
       "      <td>Lada</td>\n",
       "      <td>Granta</td>\n",
       "      <td>50.0</td>\n",
       "    </tr>\n",
       "    <tr>\n",
       "      <th>17684</th>\n",
       "      <td>Lada</td>\n",
       "      <td>Largus</td>\n",
       "      <td>50.0</td>\n",
       "    </tr>\n",
       "    <tr>\n",
       "      <th>39561</th>\n",
       "      <td>Daewoo</td>\n",
       "      <td>BC 095</td>\n",
       "      <td>50.0</td>\n",
       "    </tr>\n",
       "    <tr>\n",
       "      <th>17525</th>\n",
       "      <td>Lada</td>\n",
       "      <td>Largus</td>\n",
       "      <td>51.0</td>\n",
       "    </tr>\n",
       "    <tr>\n",
       "      <th>16858</th>\n",
       "      <td>Lada</td>\n",
       "      <td>4x4</td>\n",
       "      <td>54.0</td>\n",
       "    </tr>\n",
       "    <tr>\n",
       "      <th>16363</th>\n",
       "      <td>Kia</td>\n",
       "      <td>Rio</td>\n",
       "      <td>60.0</td>\n",
       "    </tr>\n",
       "    <tr>\n",
       "      <th>38423</th>\n",
       "      <td>Volkswagen</td>\n",
       "      <td>Polo</td>\n",
       "      <td>62.0</td>\n",
       "    </tr>\n",
       "    <tr>\n",
       "      <th>38424</th>\n",
       "      <td>Volkswagen</td>\n",
       "      <td>Polo</td>\n",
       "      <td>62.0</td>\n",
       "    </tr>\n",
       "    <tr>\n",
       "      <th>16299</th>\n",
       "      <td>Kia</td>\n",
       "      <td>Rio</td>\n",
       "      <td>63.0</td>\n",
       "    </tr>\n",
       "    <tr>\n",
       "      <th>16968</th>\n",
       "      <td>Lada</td>\n",
       "      <td>4x4</td>\n",
       "      <td>66.0</td>\n",
       "    </tr>\n",
       "    <tr>\n",
       "      <th>13699</th>\n",
       "      <td>Jac</td>\n",
       "      <td>S3</td>\n",
       "      <td>70.0</td>\n",
       "    </tr>\n",
       "    <tr>\n",
       "      <th>38408</th>\n",
       "      <td>Volkswagen</td>\n",
       "      <td>Polo</td>\n",
       "      <td>79.0</td>\n",
       "    </tr>\n",
       "    <tr>\n",
       "      <th>25555</th>\n",
       "      <td>Skoda</td>\n",
       "      <td>Octavia</td>\n",
       "      <td>100.0</td>\n",
       "    </tr>\n",
       "    <tr>\n",
       "      <th>16885</th>\n",
       "      <td>Lada</td>\n",
       "      <td>4x4</td>\n",
       "      <td>115.0</td>\n",
       "    </tr>\n",
       "  </tbody>\n",
       "</table>\n",
       "</div>"
      ],
      "text/plain": [
       "            brand    model  quantity\n",
       "17031        Lada   Granta      50.0\n",
       "17102        Lada   Granta      50.0\n",
       "17194        Lada   Granta      50.0\n",
       "17684        Lada   Largus      50.0\n",
       "39561      Daewoo   BC 095      50.0\n",
       "17525        Lada   Largus      51.0\n",
       "16858        Lada      4x4      54.0\n",
       "16363         Kia      Rio      60.0\n",
       "38423  Volkswagen     Polo      62.0\n",
       "38424  Volkswagen     Polo      62.0\n",
       "16299         Kia      Rio      63.0\n",
       "16968        Lada      4x4      66.0\n",
       "13699         Jac       S3      70.0\n",
       "38408  Volkswagen     Polo      79.0\n",
       "25555       Skoda  Octavia     100.0\n",
       "16885        Lada      4x4     115.0"
      ]
     },
     "metadata": {},
     "output_type": "display_data"
    }
   ],
   "source": [
    "display(\"Модель авто возврат:\", df.query('quantity == -1')[['model', 'brand', 'sale_usd']])\n",
    "print(\"Количество заказов с 1 машиной в чеке:\", round((df.query('quantity == 1')['model'].count())/df['model'].count()*100, 2), \"%\")\n",
    "display(\"Модели, количество которых в чеке больше 50:\",df.query('quantity >= 50')[['brand','model', 'quantity']].sort_values(by='quantity'))\n"
   ]
  },
  {
   "cell_type": "markdown",
   "id": "1a2f6aa4",
   "metadata": {},
   "source": [
    "* \"-1\" это точно возврат - цена Superb Skoda правда около 3.5 млн\n",
    "* большинство заказов (92.87 %) - 1 машина в чеке\n",
    "* Больших заказов (от 50 машин в чеке) немного (16), в них бюджетные авто, скорее всего это оптовые заказы(таксопарки, курьерские доставки и т.д.)"
   ]
  },
  {
   "cell_type": "code",
   "execution_count": 24,
   "id": "3fb5131e",
   "metadata": {},
   "outputs": [
    {
     "data": {
      "text/plain": [
       "array(['DEU', 'USA', 'AUT', 'KAZ', 'RUS', 'KOR', 'JPN', 'THA', 'CHN',\n",
       "       'UK', 'UZB', 'HUN', 'TUR', 'ESP', 'NLD', 'POL', 'SWE', 'BLR',\n",
       "       'BEL'], dtype=object)"
      ]
     },
     "execution_count": 24,
     "metadata": {},
     "output_type": "execute_result"
    }
   ],
   "source": [
    "#кодируем страны в столбце страна производства в alpha3 (RUS, KAZ, USA и т.д.)\n",
    "country_codes = {'Австрия': \"AUT\",\n",
    "        \"Белоруссия\": \"BLR\",\n",
    "        \"Бельгия\": \"BEL\",\n",
    "        \"Венгрия\": \"HUN\",\n",
    "        \"Германия\": \"DEU\",\n",
    "        \"Испания\": \"ESP\",\n",
    "        \"Китай\": \"CHN\",\n",
    "        \"Корея\": \"KOR\",\n",
    "        \"Нидерланды\": \"NLD\",\n",
    "        \"Польша\": \"POL\",\n",
    "        \"Республика Казахстан\": \"KAZ\",\n",
    "        \"Российская Федерация\": \"RUS\",\n",
    "        \"США\": \"USA\",\n",
    "        \"Таиланд\": \"THA\",\n",
    "        \"Турция\": \"TUR\",\n",
    "        \"Узбекистан\": \"UZB\",\n",
    "        \"Швеция\": \"SWE\",\n",
    "        \"Япония\": \"JPN\",\n",
    "    }\n",
    "for index, row in df.iterrows():\n",
    "    country=row['manufacturer_country']\n",
    "    if country in country_codes:\n",
    "        df.at[index, 'manufacturer_country']=country_codes[country]\n",
    "df['manufacturer_country'].unique()"
   ]
  },
  {
   "cell_type": "code",
   "execution_count": 25,
   "id": "28a2336a",
   "metadata": {},
   "outputs": [
    {
     "data": {
      "text/plain": [
       "array(['Бензин', 'Дизель', '0', 'Гибрид', 'Электро'], dtype=object)"
      ]
     },
     "execution_count": 25,
     "metadata": {},
     "output_type": "execute_result"
    }
   ],
   "source": [
    "#кодируем тип топлива (F - fuel, D - diesel, E - electro, HYB - hybrid)\n",
    "df['fuel_type'] = df['fuel_type'].str.replace('бензин', 'Бензин').str.replace('дизель', 'Дизель').str.replace('Электричество', 'Электро').str.replace('гибрид', 'Гибрид')\n",
    "df['fuel_type'].unique()"
   ]
  },
  {
   "cell_type": "code",
   "execution_count": 26,
   "id": "9fae0121",
   "metadata": {},
   "outputs": [
    {
     "data": {
      "text/plain": [
       "array(['FWD - передний привод', '4WD - полный привод',\n",
       "       'RWD - задний привод', '2WD - неполный привод', '0', '#Н/Д'],\n",
       "      dtype=object)"
      ]
     },
     "execution_count": 26,
     "metadata": {},
     "output_type": "execute_result"
    }
   ],
   "source": [
    "#кодирукм тип привода ('FWD', 'FF', 2 WD' '2WD'-передний) ('AWD' 'quattro' '4Motion' '4 WD''4WD'  '4X4'  '4x4'  '4х4'-полный) ('4X2' '4x2' '4х2' '4х2.2'-неполный) ('RWD' задний)\n",
    "def code_drive_type(cell):\n",
    "    if cell in ['4WD', 'quattro', 'Полный', 'полный', 'AWD', '4 WD', '4Motion','4X4', '4x4', '4х4']:\n",
    "        return '4WD - полный привод'\n",
    "    elif cell in ['передний', 'FWD', 'Передний', 'Передний (FF)', 'FF']:\n",
    "        return 'FWD - передний привод'\n",
    "    elif cell in ['Задний', 'RWD']:\n",
    "        return 'RWD - задний привод'\n",
    "    elif cell in ['4X2', '4x2', '4х2', '4х2.2', '2 WD', '2WD']:\n",
    "        return '2WD - неполный привод'\n",
    "    else:\n",
    "        return cell\n",
    "df['drive_type'] = df['drive_type'].apply(code_drive_type)\n",
    "df['drive_type'].unique()"
   ]
  },
  {
   "cell_type": "code",
   "execution_count": 44,
   "id": "f87f7420",
   "metadata": {},
   "outputs": [
    {
     "data": {
      "text/plain": [
       "MT      3295\n",
       "Мех.    2044\n",
       "5МТ      993\n",
       "5 МТ     618\n",
       "5MT      568\n",
       "AMT      396\n",
       "6MT      357\n",
       "6 MT     197\n",
       "МТ       104\n",
       "МКП       35\n",
       "МКПП      34\n",
       "6МТ       20\n",
       "МT        17\n",
       "6M/T      16\n",
       "5M        12\n",
       "6 МТ       9\n",
       "5М         5\n",
       "М/T        5\n",
       "M/T        2\n",
       "dtype: int64"
      ]
     },
     "execution_count": 44,
     "metadata": {},
     "output_type": "execute_result"
    }
   ],
   "source": [
    "#столбец тип трансмиссии - оставим два типа трансмиссии: механика и автомат\n",
    "# Фильтрация строк, содержащих искомую подстроку\n",
    "filtered_df = df[df['transmission_type'].str.contains(r'.*[МM].*', case=False, na=False)]\n",
    "# Получение списка строк из отфильтрованного DataFrame\n",
    "result_list = filtered_df['transmission_type'].tolist()\n",
    "# Создание Series, чтоб посмотреть уникальные значения и их количество\n",
    "pd.Series(result_list).value_counts()"
   ]
  },
  {
   "cell_type": "code",
   "execution_count": 28,
   "id": "64e9ad50",
   "metadata": {},
   "outputs": [],
   "source": [
    "#столбцы регион и область - привести к нижнему регистру с заглавной буквы \n"
   ]
  },
  {
   "cell_type": "code",
   "execution_count": 29,
   "id": "61293f01",
   "metadata": {},
   "outputs": [
    {
     "data": {
      "text/plain": [
       "0   2019-05-01\n",
       "1   2019-08-01\n",
       "2   2019-04-01\n",
       "3   2019-07-01\n",
       "4   2019-07-01\n",
       "Name: date, dtype: datetime64[ns]"
      ]
     },
     "execution_count": 29,
     "metadata": {},
     "output_type": "execute_result"
    }
   ],
   "source": [
    "#преобразуем названия месяцев в числа\n",
    "def monthToNum(shortMonth):\n",
    "    return {\n",
    "            'Январь': 1,\n",
    "            'Февраль': 2,\n",
    "            'Март': 3,\n",
    "            'Апрель': 4,\n",
    "            'Май': 5,\n",
    "            'Июнь': 6,\n",
    "            'Июль': 7,\n",
    "            'Август': 8,\n",
    "            'Сентябрь': 9, \n",
    "            'Октябрь': 10,\n",
    "            'Ноябрь': 11,\n",
    "            'Декабрь': 12\n",
    "    }[shortMonth]\n",
    "# Применяем функцию к столбцу 'month' и создаем новый столбец 'number_month'\n",
    "df['number_month'] = df['month'].apply(monthToNum)\n",
    "#преобразуем месяц и год в строковые значения для объединения в один столбец\n",
    "df['year'] = df['year'].astype('str')\n",
    "df['number_month'] = df['number_month'].astype('str')\n",
    "# Объединяем год и месяц с разделителем '-'\n",
    "df['date'] = df['year'] + '-' + df['number_month']\n",
    "# Преобразовываем столбец 'date' в тип данных datetime\n",
    "df['date'] = pd.to_datetime(df['date'], format='%Y-%m')\n",
    "#проверим изменения \n",
    "df['date'].head()"
   ]
  },
  {
   "cell_type": "code",
   "execution_count": 30,
   "id": "d949e71f",
   "metadata": {},
   "outputs": [],
   "source": [
    "#df['engine_capacity_liters']=df['engine_capacity_liters'].astype('float')"
   ]
  },
  {
   "cell_type": "code",
   "execution_count": 31,
   "id": "40878902",
   "metadata": {},
   "outputs": [],
   "source": [
    "#изменяем тип данных в нужных столбцах на int\n",
    "def type_str(df, value):\n",
    "    df[value] = df[value].astype('int')\n",
    "    return df\n",
    "s = ['year','number_month', 'manufacturing_year','quantity']\n",
    "df = type_str(df, s)"
   ]
  },
  {
   "cell_type": "code",
   "execution_count": 32,
   "id": "5ee084dd",
   "metadata": {},
   "outputs": [],
   "source": [
    "#изменяем тип данных в нужных столбцах на string\n",
    "def type_str(df, value):\n",
    "    df[value] = df[value].astype('string')\n",
    "    return df\n",
    "s = ['month', 'company', 'model', 'brand','manufacturer_country','transmission_type','region','customer_type','area']\n",
    "df = type_str(df, s)"
   ]
  },
  {
   "cell_type": "code",
   "execution_count": 33,
   "id": "afd15be3",
   "metadata": {},
   "outputs": [
    {
     "name": "stdout",
     "output_type": "stream",
     "text": [
      "<class 'pandas.core.frame.DataFrame'>\n",
      "Int64Index: 38644 entries, 0 to 39965\n",
      "Data columns (total 21 columns):\n",
      " #   Column                  Non-Null Count  Dtype         \n",
      "---  ------                  --------------  -----         \n",
      " 0   year                    38644 non-null  int32         \n",
      " 1   month                   38644 non-null  string        \n",
      " 2   company                 38644 non-null  string        \n",
      " 3   brand                   38644 non-null  string        \n",
      " 4   model                   38644 non-null  string        \n",
      " 5   manufacturing_year      38644 non-null  int32         \n",
      " 6   manufacturer_country    38644 non-null  string        \n",
      " 7   fuel_type               38644 non-null  object        \n",
      " 8   engine_capacity_liters  38644 non-null  object        \n",
      " 9   transmission_type       38644 non-null  string        \n",
      " 10  drive_type              38644 non-null  object        \n",
      " 11  region                  38644 non-null  string        \n",
      " 12  customer_type           38644 non-null  string        \n",
      " 13  quantity                38644 non-null  int32         \n",
      " 14  price_usd               38644 non-null  float64       \n",
      " 15  sale_usd                38644 non-null  float64       \n",
      " 16  area                    38644 non-null  string        \n",
      " 17  segmentation_2013       38644 non-null  object        \n",
      " 18  class_2013              38644 non-null  object        \n",
      " 19  number_month            38644 non-null  int32         \n",
      " 20  date                    38644 non-null  datetime64[ns]\n",
      "dtypes: datetime64[ns](1), float64(2), int32(4), object(5), string(9)\n",
      "memory usage: 6.9+ MB\n"
     ]
    }
   ],
   "source": [
    "df.info()"
   ]
  },
  {
   "cell_type": "code",
   "execution_count": 34,
   "id": "6a661422",
   "metadata": {},
   "outputs": [],
   "source": [
    "df = df.drop(['year', 'month'], axis =1)"
   ]
  },
  {
   "cell_type": "markdown",
   "id": "7f029b15",
   "metadata": {},
   "source": [
    "## Исследовательский анализ"
   ]
  },
  {
   "cell_type": "code",
   "execution_count": 35,
   "id": "42cc3120",
   "metadata": {},
   "outputs": [
    {
     "name": "stdout",
     "output_type": "stream",
     "text": [
      "Количество дубликатов: 21423\n",
      "Количество дубликатов в процентах: 55.44 %\n"
     ]
    }
   ],
   "source": [
    "print(\"Количество дубликатов:\", df.duplicated().sum())\n",
    "print(\"Количество дубликатов в процентах:\", round(df.duplicated().sum()/df['model'].count()*100, 2), \"%\")"
   ]
  },
  {
   "cell_type": "markdown",
   "id": "aa9df773",
   "metadata": {},
   "source": [
    "Большое количество дубликатов. "
   ]
  },
  {
   "cell_type": "code",
   "execution_count": 36,
   "id": "5a7fe71f",
   "metadata": {},
   "outputs": [],
   "source": [
    "#df.duplicated(keep=False)"
   ]
  }
 ],
 "metadata": {
  "kernelspec": {
   "display_name": "Python 3 (ipykernel)",
   "language": "python",
   "name": "python3"
  },
  "language_info": {
   "codemirror_mode": {
    "name": "ipython",
    "version": 3
   },
   "file_extension": ".py",
   "mimetype": "text/x-python",
   "name": "python",
   "nbconvert_exporter": "python",
   "pygments_lexer": "ipython3",
   "version": "3.9.13"
  },
  "toc": {
   "base_numbering": 1,
   "nav_menu": {
    "height": "115px",
    "width": "172px"
   },
   "number_sections": true,
   "sideBar": true,
   "skip_h1_title": false,
   "title_cell": "Table of Contents",
   "title_sidebar": "Contents",
   "toc_cell": false,
   "toc_position": {
    "height": "calc(100% - 180px)",
    "left": "10px",
    "top": "150px",
    "width": "307.2px"
   },
   "toc_section_display": true,
   "toc_window_display": true
  }
 },
 "nbformat": 4,
 "nbformat_minor": 5
}
