{
 "cells": [
  {
   "cell_type": "code",
   "execution_count": null,
   "id": "95d67e95",
   "metadata": {},
   "outputs": [],
   "source": [
    "import pandas as pd\n",
    "from unidecode import unidecode\n",
    "import Levenshtein as lev\n",
    "import calendar\n",
    "import matplotlib.pyplot as plt\n",
    "import seaborn as sns"
   ]
  },
  {
   "cell_type": "markdown",
   "id": "3703ff1c",
   "metadata": {},
   "source": [
    "# Анализ авторынка Казахстана"
   ]
  },
  {
   "cell_type": "markdown",
   "id": "53776da6",
   "metadata": {},
   "source": [
    "Целью проекта является анализ авторынка Республики Казахстан.\n",
    "\n",
    "Описание данных: В нашем распоряжении \"сырые\" данные по продажам автомобилей в Казахстане за 2019 год. Данные получены из\n",
    "официальной статистики, после перевода из эксель в csv обнаружились множественные\n",
    "проблемы с исходными данными: некорректные разделители десятичных разрядов, несоответствие\n",
    "данных типу данных. Дополнительной проблемой является то, что статистику собирал не один\n",
    "человек, поэтому есть неявные дубликаты, а также одни и те же\n",
    "признаки могут быть записаны как на русском, так и на английском языке.\n",
    "План работы:\n",
    "1. Очистка данных.   \n",
    "    1.1 Загрузка данных.      \n",
    "    1.2 Избавиться от лишних столбцов.    \n",
    "    1.3 Избавиться от неявных дубликатов в столбцах.\n",
    "    1.4 Анализ, изменение типов данных.\n",
    "    1.5 Анализ пропусков.\n",
    "    1.6 Избавление от аномалий в столбцах. \n",
    "2. Исследовательский анализ.  \n",
    "    2.1 Признаки столбцов.     \n",
    "    2.2 Анализ строк. \n",
    "    2.3 Анализ полных дубликатов.      \n",
    "    2.5 Кодирование столбцов. \n",
    "    2.7 Анализ числовых признаков.  \n",
    "    2.8 Анализ категориальных признаков.\n",
    "3. Анализ рынка.   \n",
    "    3.1 Топовые марки на рынке Казахстана.  \n",
    "    3.2 Продажи на рынке Казахстана всех марок в денежном и натуральном выражении.  \n",
    "    3.3 Динамика продаж в целом по рынку (помесячно).  \n",
    "    3.4 Динамика продаж по категориям (помесячно): тип топлива, класс, сегмент.  \n",
    "    3.5 Продажи по регионам.  \n",
    "    3.6 Продажи по автоцентрам. "
   ]
  },
  {
   "cell_type": "markdown",
   "id": "fd2975ad",
   "metadata": {},
   "source": [
    "## Очистка данных"
   ]
  },
  {
   "cell_type": "code",
   "execution_count": 2,
   "id": "d279b197",
   "metadata": {
    "scrolled": true
   },
   "outputs": [
    {
     "data": {
      "text/html": [
       "<div>\n",
       "<style scoped>\n",
       "    .dataframe tbody tr th:only-of-type {\n",
       "        vertical-align: middle;\n",
       "    }\n",
       "\n",
       "    .dataframe tbody tr th {\n",
       "        vertical-align: top;\n",
       "    }\n",
       "\n",
       "    .dataframe thead th {\n",
       "        text-align: right;\n",
       "    }\n",
       "</style>\n",
       "<table border=\"1\" class=\"dataframe\">\n",
       "  <thead>\n",
       "    <tr style=\"text-align: right;\">\n",
       "      <th></th>\n",
       "      <th>Год</th>\n",
       "      <th>Месяц</th>\n",
       "      <th>Компания</th>\n",
       "      <th>Бренд</th>\n",
       "      <th>Модель</th>\n",
       "      <th>Модификация</th>\n",
       "      <th>Год выпуска</th>\n",
       "      <th>Страна-производитель</th>\n",
       "      <th>Вид топлива</th>\n",
       "      <th>Объём двиг, л,</th>\n",
       "      <th>...</th>\n",
       "      <th>Тип клиента</th>\n",
       "      <th>Форма расчета</th>\n",
       "      <th>Количество</th>\n",
       "      <th>Цена, USD</th>\n",
       "      <th>Продажа, USD</th>\n",
       "      <th>Область</th>\n",
       "      <th>Сегментация 2013</th>\n",
       "      <th>Класс 2013</th>\n",
       "      <th>Сегментация Eng</th>\n",
       "      <th>Локализация производства</th>\n",
       "    </tr>\n",
       "  </thead>\n",
       "  <tbody>\n",
       "    <tr>\n",
       "      <th>0</th>\n",
       "      <td>2019</td>\n",
       "      <td>Май</td>\n",
       "      <td>Mercur Auto</td>\n",
       "      <td>Audi</td>\n",
       "      <td>A3</td>\n",
       "      <td>TFSI</td>\n",
       "      <td>2018</td>\n",
       "      <td>Германия</td>\n",
       "      <td>Бензин</td>\n",
       "      <td>1,4</td>\n",
       "      <td>...</td>\n",
       "      <td>Физ. Лицо</td>\n",
       "      <td>безналичный</td>\n",
       "      <td>1.0</td>\n",
       "      <td>28115.00</td>\n",
       "      <td>28115.00</td>\n",
       "      <td>г.Алматы</td>\n",
       "      <td>Легковые автомобили</td>\n",
       "      <td>C класс</td>\n",
       "      <td>C</td>\n",
       "      <td>Импорт</td>\n",
       "    </tr>\n",
       "    <tr>\n",
       "      <th>1</th>\n",
       "      <td>2019</td>\n",
       "      <td>Август</td>\n",
       "      <td>Mercur Auto</td>\n",
       "      <td>Audi</td>\n",
       "      <td>A3</td>\n",
       "      <td>TFSI</td>\n",
       "      <td>2018</td>\n",
       "      <td>Германия</td>\n",
       "      <td>Бензин</td>\n",
       "      <td>1,4</td>\n",
       "      <td>...</td>\n",
       "      <td>Юр. Лицо</td>\n",
       "      <td>наличный</td>\n",
       "      <td>1.0</td>\n",
       "      <td>32246.99</td>\n",
       "      <td>32246.99</td>\n",
       "      <td>г.Алматы</td>\n",
       "      <td>Легковые автомобили</td>\n",
       "      <td>C класс</td>\n",
       "      <td>C</td>\n",
       "      <td>Импорт</td>\n",
       "    </tr>\n",
       "    <tr>\n",
       "      <th>2</th>\n",
       "      <td>2019</td>\n",
       "      <td>Апрель</td>\n",
       "      <td>Mercur Auto</td>\n",
       "      <td>Audi</td>\n",
       "      <td>A4</td>\n",
       "      <td>TFSI</td>\n",
       "      <td>2018</td>\n",
       "      <td>Германия</td>\n",
       "      <td>Бензин</td>\n",
       "      <td>1,4</td>\n",
       "      <td>...</td>\n",
       "      <td>Физ. Лицо</td>\n",
       "      <td>безналичный</td>\n",
       "      <td>1.0</td>\n",
       "      <td>32000.00</td>\n",
       "      <td>32000.00</td>\n",
       "      <td>г.Алматы</td>\n",
       "      <td>Легковые автомобили</td>\n",
       "      <td>D класс</td>\n",
       "      <td>D</td>\n",
       "      <td>Импорт</td>\n",
       "    </tr>\n",
       "    <tr>\n",
       "      <th>3</th>\n",
       "      <td>2019</td>\n",
       "      <td>Июль</td>\n",
       "      <td>Mercur Auto</td>\n",
       "      <td>Audi</td>\n",
       "      <td>A4</td>\n",
       "      <td>TFSI</td>\n",
       "      <td>2018</td>\n",
       "      <td>Германия</td>\n",
       "      <td>Бензин</td>\n",
       "      <td>1,4</td>\n",
       "      <td>...</td>\n",
       "      <td>Юр. Лицо</td>\n",
       "      <td>безналичный</td>\n",
       "      <td>1.0</td>\n",
       "      <td>31929.00</td>\n",
       "      <td>31929.00</td>\n",
       "      <td>г.Алматы</td>\n",
       "      <td>Легковые автомобили</td>\n",
       "      <td>D класс</td>\n",
       "      <td>D</td>\n",
       "      <td>Импорт</td>\n",
       "    </tr>\n",
       "    <tr>\n",
       "      <th>4</th>\n",
       "      <td>2019</td>\n",
       "      <td>Июль</td>\n",
       "      <td>Mercur Auto</td>\n",
       "      <td>Audi</td>\n",
       "      <td>A4</td>\n",
       "      <td>TFSI</td>\n",
       "      <td>2018</td>\n",
       "      <td>Германия</td>\n",
       "      <td>Бензин</td>\n",
       "      <td>1,4</td>\n",
       "      <td>...</td>\n",
       "      <td>Физ. Лицо</td>\n",
       "      <td>наличный</td>\n",
       "      <td>1.0</td>\n",
       "      <td>31929.00</td>\n",
       "      <td>31929.00</td>\n",
       "      <td>г.Алматы</td>\n",
       "      <td>Легковые автомобили</td>\n",
       "      <td>D класс</td>\n",
       "      <td>D</td>\n",
       "      <td>Импорт</td>\n",
       "    </tr>\n",
       "  </tbody>\n",
       "</table>\n",
       "<p>5 rows × 25 columns</p>\n",
       "</div>"
      ],
      "text/plain": [
       "    Год   Месяц     Компания Бренд Модель Модификация Год выпуска  \\\n",
       "0  2019     Май  Mercur Auto  Audi     A3        TFSI        2018   \n",
       "1  2019  Август  Mercur Auto  Audi     A3        TFSI        2018   \n",
       "2  2019  Апрель  Mercur Auto  Audi     A4        TFSI        2018   \n",
       "3  2019    Июль  Mercur Auto  Audi     A4        TFSI        2018   \n",
       "4  2019    Июль  Mercur Auto  Audi     A4        TFSI        2018   \n",
       "\n",
       "  Страна-производитель Вид топлива Объём двиг, л,  ... Тип клиента  \\\n",
       "0             Германия      Бензин            1,4  ...   Физ. Лицо   \n",
       "1             Германия      Бензин            1,4  ...    Юр. Лицо   \n",
       "2             Германия      Бензин            1,4  ...   Физ. Лицо   \n",
       "3             Германия      Бензин            1,4  ...    Юр. Лицо   \n",
       "4             Германия      Бензин            1,4  ...   Физ. Лицо   \n",
       "\n",
       "  Форма расчета Количество Цена, USD Продажа, USD   Область  \\\n",
       "0   безналичный        1.0  28115.00     28115.00  г.Алматы   \n",
       "1      наличный        1.0  32246.99     32246.99  г.Алматы   \n",
       "2   безналичный        1.0  32000.00     32000.00  г.Алматы   \n",
       "3   безналичный        1.0  31929.00     31929.00  г.Алматы   \n",
       "4      наличный        1.0  31929.00     31929.00  г.Алматы   \n",
       "\n",
       "      Сегментация 2013  Класс 2013  Сегментация Eng  Локализация производства  \n",
       "0  Легковые автомобили     C класс                C                    Импорт  \n",
       "1  Легковые автомобили     C класс                C                    Импорт  \n",
       "2  Легковые автомобили     D класс                D                    Импорт  \n",
       "3  Легковые автомобили     D класс                D                    Импорт  \n",
       "4  Легковые автомобили     D класс                D                    Импорт  \n",
       "\n",
       "[5 rows x 25 columns]"
      ]
     },
     "metadata": {},
     "output_type": "display_data"
    }
   ],
   "source": [
    "#загрузим датасет\n",
    "file_path = 'C:\\\\Users\\\\Redmi\\\\Desktop\\\\projects\\\\automarket_KZ\\\\auto_kz_2019.csv'\n",
    "df = pd.read_csv(file_path, sep = ';',decimal=\",\")\n",
    "display(df.head())"
   ]
  },
  {
   "cell_type": "code",
   "execution_count": 3,
   "id": "27600e05",
   "metadata": {},
   "outputs": [],
   "source": [
    "# Приводим названия столбцов к нижнему регистру\n",
    "df.columns = df.columns.str.lower()\n",
    "# Замена пробелов и дефисов на нижние подчеркивание\n",
    "df.columns = df.columns.str.replace('[ \\-]', '_', regex=True)\n",
    "# Замена запятых  и пробелов с запятыми на пробелы\n",
    "df.columns = df.columns.str.replace('[ ,\\,]', '', regex=True)"
   ]
  },
  {
   "cell_type": "code",
   "execution_count": 4,
   "id": "2ef45414",
   "metadata": {},
   "outputs": [],
   "source": [
    "#перевод названия столбцов на английский\n",
    "translation_dict = {\n",
    "    'год': 'year',\n",
    "    'месяц': 'month',\n",
    "    'компания': 'company',\n",
    "    'бренд': 'brand',\n",
    "    'модель': 'model',\n",
    "    'модификация': 'modification',\n",
    "    'год_выпуска': 'manufacturing_year',\n",
    "    'страна_производитель': 'manufacturer_country',\n",
    "    'вид_топлива': 'fuel_type',\n",
    "    'объём_двиг_л': 'engine_capacity_liters',\n",
    "    'коробка_передач': 'transmission_type',\n",
    "    'тип_привода': 'drive_type',\n",
    "    'сегмент': 'segment',\n",
    "    'регион': 'region',\n",
    "    'наименование_дилерского_центра': 'dealer_center_name',\n",
    "    'тип_клиента': 'customer_type',\n",
    "    'форма_расчета': 'payment_form',\n",
    "    'количество': 'quantity',\n",
    "    'цена_usd': 'price_usd',\n",
    "    'продажа_usd': 'sale_usd',\n",
    "    'область': 'area',\n",
    "    'сегментация_2013': 'segmentation_2013',\n",
    "    'класс_2013': 'class_2013',\n",
    "    'сегментация_eng': 'segmentation_eng',\n",
    "    'локализация_производства': 'production_localization'\n",
    "}\n",
    "# Применяем перевод названий столбцов\n",
    "df = df.rename(columns=translation_dict)"
   ]
  },
  {
   "cell_type": "markdown",
   "id": "7bfd22c9",
   "metadata": {},
   "source": [
    "По какой-то причине в столбце с объёмом двигателя разделитель не поменялся на точку, сделаем замену методом replace."
   ]
  },
  {
   "cell_type": "code",
   "execution_count": 5,
   "id": "a9c85681",
   "metadata": {},
   "outputs": [],
   "source": [
    "# Преобразование столбца engine_capacity_liters с заменой запятых на точки\n",
    "df['engine_capacity_liters'] = df['engine_capacity_liters'].str.replace(',', '.')\n"
   ]
  },
  {
   "cell_type": "code",
   "execution_count": 6,
   "id": "00924cf1",
   "metadata": {},
   "outputs": [],
   "source": [
    "#удалим ненужные столбцы\n",
    "df = df.drop(['modification', 'segment', 'dealer_center_name', 'payment_form', 'segmentation_eng', 'production_localization'], axis=1)"
   ]
  },
  {
   "cell_type": "code",
   "execution_count": 7,
   "id": "0b0e5f4f",
   "metadata": {
    "scrolled": false
   },
   "outputs": [
    {
     "name": "stdout",
     "output_type": "stream",
     "text": [
      "<class 'pandas.core.frame.DataFrame'>\n",
      "RangeIndex: 39966 entries, 0 to 39965\n",
      "Data columns (total 19 columns):\n",
      " #   Column                  Non-Null Count  Dtype  \n",
      "---  ------                  --------------  -----  \n",
      " 0   year                    39966 non-null  int64  \n",
      " 1   month                   39966 non-null  object \n",
      " 2   company                 39966 non-null  object \n",
      " 3   brand                   39966 non-null  object \n",
      " 4   model                   39966 non-null  object \n",
      " 5   manufacturing_year      39465 non-null  object \n",
      " 6   manufacturer_country    39966 non-null  object \n",
      " 7   fuel_type               36826 non-null  object \n",
      " 8   engine_capacity_liters  35708 non-null  object \n",
      " 9   transmission_type       36711 non-null  object \n",
      " 10  drive_type              35677 non-null  object \n",
      " 11  region                  39966 non-null  object \n",
      " 12  customer_type           32919 non-null  object \n",
      " 13  quantity                39960 non-null  float64\n",
      " 14  price_usd               39966 non-null  float64\n",
      " 15  sale_usd                39966 non-null  float64\n",
      " 16  area                    39966 non-null  object \n",
      " 17  segmentation_2013       39966 non-null  object \n",
      " 18  class_2013              39966 non-null  object \n",
      "dtypes: float64(3), int64(1), object(15)\n",
      "memory usage: 5.8+ MB\n"
     ]
    }
   ],
   "source": [
    "#посмотрим информацию о датафрейме\n",
    "df.info()"
   ]
  },
  {
   "cell_type": "markdown",
   "id": "f2130587",
   "metadata": {},
   "source": [
    "В датасете 39966 строк, 19 столбцов, 4 столбца числовые, остальные типа object.\n",
    "\n",
    "Описание столбцов:\n",
    "* year – год продажи (2019)  Он важен для создания даты.\n",
    "* month – месяц продажи (январь - сентябрь) - важный столбец для оценки объёмов продаж в зависимости от сезонности.\n",
    "* company – название автоцентра, в котором продана машина - важный столбец, например, для оценки наиболее рентабельных автоцентров. \n",
    "* brand – название продаваемой марки автомобиля - важный столбец, потому что необходимо знать, какие бренды чаще или реже продвются.  \n",
    "* model – название модели автомобиля - важный столбец для анализа популярности моделей.\n",
    "* manufacturing_year – год производства автомобиля - важный столбец для оценки возраста авто.\n",
    "* manufacturer_country – страна, где произведен автомобиль (в большинстве случаев это страна расположения завода, а не производитель)  - важный столбец для оценки предпочтений стран-производителей среди покупателей.\n",
    "* fuel_type – бензин, дизель, электричество, гибрид. Столбец важен для оценки предпочтений по виду топлива.\n",
    "* engine_capacity_liters – объем двигателя автомобиля в литрах. Важен для анализа характеристик авто и предпочтений покупателей. \n",
    "* transmission_type – тип коробки переключения передач. Важен для оценки предпочтений по типу трансмиссии среди потребителей.\n",
    "* drive_type – тип привода. Важен для оценки предпочтений по типу привода среди потребителей.\n",
    "* region – регион продажи - важный столбец, так как нам необходимо знать, в каких регионах лучше или хуже продаются авто. \n",
    "* quantity – количество автомобилей в заказе - важный столбец, благодаря ему, например, можно посчитать среднее количество машин в 1 чеке и объёмов продаж.   \n",
    "* price_usd – цена автомобиля USD  - важный столбец для анализа ценовых характеристик, например, для сравнения цен на авто в разных автоцентрах.  \n",
    "* sale_usd – цена заказа USD (цена авто умноженная на количество и за вычетом скидок если есть)  - важный столбец, например, для подсчёта выручки или среднего чека. \n",
    "* area – область продажи - важный столбец для оценки продаж по регионам и влияния географических факторов.\n",
    "* segmentation_2013 – сегмент автомобиля, важен для оценки предпочтений среди покупателей по сегментам.\n",
    "* class_2013 – класс автомобиля, столбец важен для анализа предпочтений потребителей по классам авто.\n",
    "\n",
    "Связанные столбцы:\n",
    "* Бренд и модель.\n",
    "* Количество машин и итоговая цена продажи.\n",
    "* Тип топлива, объём двигателя, тип трансмиссии и вид привода - могут быть связаны, так как определяют характеристики двигателя."
   ]
  },
  {
   "cell_type": "code",
   "execution_count": 8,
   "id": "3776d24a",
   "metadata": {
    "scrolled": true
   },
   "outputs": [
    {
     "data": {
      "text/plain": [
       "year                         0\n",
       "month                        0\n",
       "company                      0\n",
       "brand                        0\n",
       "model                        0\n",
       "manufacturing_year         501\n",
       "manufacturer_country         0\n",
       "fuel_type                 3140\n",
       "engine_capacity_liters    4258\n",
       "transmission_type         3255\n",
       "drive_type                4289\n",
       "region                       0\n",
       "customer_type             7047\n",
       "quantity                     6\n",
       "price_usd                    0\n",
       "sale_usd                     0\n",
       "area                         0\n",
       "segmentation_2013            0\n",
       "class_2013                   0\n",
       "dtype: int64"
      ]
     },
     "execution_count": 8,
     "metadata": {},
     "output_type": "execute_result"
    }
   ],
   "source": [
    "#посмотрим количество пропусков\n",
    "df.isna().sum()"
   ]
  },
  {
   "cell_type": "code",
   "execution_count": 9,
   "id": "1aa2c086",
   "metadata": {},
   "outputs": [
    {
     "data": {
      "text/plain": [
       "39960"
      ]
     },
     "execution_count": 9,
     "metadata": {},
     "output_type": "execute_result"
    }
   ],
   "source": [
    "#удалим строки, где в quantity пропуски\n",
    "df=df.dropna(subset=['quantity'])\n",
    "#проверим изменения\n",
    "df.quantity.count()"
   ]
  },
  {
   "cell_type": "markdown",
   "id": "9d43e8a2",
   "metadata": {},
   "source": [
    "Пропуски:  \n",
    "В столбцах с критически важными данными для анализа рынка пропусков нет. \n",
    "\n",
    "Вероятно, для каждой продажи существовал разный набор доступных характеристик. В результате, некоторые столбцы содержат пропущенные значения, так как соответствующие характеристики могли быть недоступны или не были заполнены в отчетности. В столбцах manufacturing_year fuel_type, engine_capacity_liters,transmission_type и drive_type часть пропусков можно восстановить на основе имеющихся данных. А часть возможно восстановить вручную, но это займёт много времени. Учитывая, что эти столбцы не сильно важны для исследования, их можно оставить как есть или поставить заглушки в виде 0.  В этих столбцах пропуски типа MAR.\n",
    "\n",
    "В customer_type данные не удастся восстановить и пропуски можно интерпретировать как отсутствующий тип или категорию, такие пропуски можно классифицировать как MNAR. Тут применим заглушки в виде нулей."
   ]
  },
  {
   "cell_type": "code",
   "execution_count": 10,
   "id": "8eb91c39",
   "metadata": {},
   "outputs": [
    {
     "data": {
      "text/plain": [
       "year                          0\n",
       "month                         0\n",
       "company                       0\n",
       "brand                         0\n",
       "model                         0\n",
       "manufacturing_year            6\n",
       "manufacturer_country          0\n",
       "fuel_type                   899\n",
       "engine_capacity_liters     1806\n",
       "transmission_type          1130\n",
       "drive_type                 1209\n",
       "region                        0\n",
       "customer_type              7041\n",
       "quantity                      0\n",
       "price_usd                     0\n",
       "sale_usd                      0\n",
       "area                          0\n",
       "segmentation_2013             0\n",
       "class_2013                    0\n",
       "manufacturing_year_fill       6\n",
       "dtype: int64"
      ]
     },
     "execution_count": 10,
     "metadata": {},
     "output_type": "execute_result"
    }
   ],
   "source": [
    "#заменим пропуски похожими значениями \n",
    "model_brand_values = df.groupby(['model', 'brand']).agg({\n",
    "    'manufacturing_year':'first',\n",
    "    'fuel_type': 'first',\n",
    "    'engine_capacity_liters': 'first',\n",
    "    'transmission_type': 'first',\n",
    "    'drive_type': 'first'\n",
    "}).reset_index()\n",
    "\n",
    "# заполнение пропусков в исходном фрейме данных с использованием словаря\n",
    "df = df.merge(model_brand_values, on=['model', 'brand'], suffixes=('', '_fill'))\n",
    "\n",
    "# заполнение пропусков в столбцах исходного фрейма данными из столбцов с суффиксом \"_fill\"\n",
    "df['manufacturing_year'].fillna(df['manufacturing_year_fill'], inplace=True)\n",
    "df['fuel_type'].fillna(df['fuel_type_fill'], inplace=True)\n",
    "df['engine_capacity_liters'].fillna(df['engine_capacity_liters_fill'], inplace=True)\n",
    "df['transmission_type'].fillna(df['transmission_type_fill'], inplace=True)\n",
    "df['drive_type'].fillna(df['drive_type_fill'], inplace=True)\n",
    "\n",
    "# Удаление временных столбцыов\n",
    "df.drop(['fuel_type_fill', 'engine_capacity_liters_fill', 'transmission_type_fill', 'drive_type_fill'], axis=1, inplace=True)\n",
    "#просмотр оставшихся пропусков\n",
    "df.isna().sum()"
   ]
  },
  {
   "cell_type": "markdown",
   "id": "2776ddaa",
   "metadata": {},
   "source": [
    "При восстановлении пропусков предполагалось, что одинковые модели имеют одинаковые характеристики.  \n",
    "Удалось восстановить:  \n",
    "все пропуски в manufacturing_year  \n",
    "в fuel_type восстановилось 2241 значений  \n",
    "в engine_capacity_liters - 2452  \n",
    "в transmission_type - 2125  \n",
    "в drive_type - 3080  \n",
    "\n",
    "До того, как поставить заглушки в виде 0 надо посмотреть для каких моделей и брендов в engine_capacity_liters стоит 0 и сколько таких строк."
   ]
  },
  {
   "cell_type": "code",
   "execution_count": 11,
   "id": "8463615a",
   "metadata": {},
   "outputs": [
    {
     "name": "stdout",
     "output_type": "stream",
     "text": [
      "Количество строк: 438\n",
      "Уникальные значения по столбцам 'brand' и 'model':\n",
      "         brand    model\n",
      "24986  Renault  Sandero\n"
     ]
    }
   ],
   "source": [
    "filtered_df = df.query('engine_capacity_liters == \"0\"')[['brand', 'model']]\n",
    "num_rows = len(filtered_df)\n",
    "\n",
    "print(\"Количество строк:\", num_rows)\n",
    "print(\"Уникальные значения по столбцам 'brand' и 'model':\")\n",
    "print(filtered_df.drop_duplicates())"
   ]
  },
  {
   "cell_type": "markdown",
   "id": "64eff48a",
   "metadata": {},
   "source": [
    "Можно попробовать восстановить значение объёма двигателя для авто Renault  Sandero и благодаря этому заполнить 438 значений"
   ]
  },
  {
   "cell_type": "code",
   "execution_count": 12,
   "id": "c352576b",
   "metadata": {},
   "outputs": [
    {
     "data": {
      "text/html": [
       "<div>\n",
       "<style scoped>\n",
       "    .dataframe tbody tr th:only-of-type {\n",
       "        vertical-align: middle;\n",
       "    }\n",
       "\n",
       "    .dataframe tbody tr th {\n",
       "        vertical-align: top;\n",
       "    }\n",
       "\n",
       "    .dataframe thead th {\n",
       "        text-align: right;\n",
       "    }\n",
       "</style>\n",
       "<table border=\"1\" class=\"dataframe\">\n",
       "  <thead>\n",
       "    <tr style=\"text-align: right;\">\n",
       "      <th></th>\n",
       "      <th>year</th>\n",
       "      <th>month</th>\n",
       "      <th>company</th>\n",
       "      <th>brand</th>\n",
       "      <th>model</th>\n",
       "      <th>manufacturing_year</th>\n",
       "      <th>manufacturer_country</th>\n",
       "      <th>fuel_type</th>\n",
       "      <th>engine_capacity_liters</th>\n",
       "      <th>transmission_type</th>\n",
       "      <th>drive_type</th>\n",
       "      <th>region</th>\n",
       "      <th>customer_type</th>\n",
       "      <th>quantity</th>\n",
       "      <th>price_usd</th>\n",
       "      <th>sale_usd</th>\n",
       "      <th>area</th>\n",
       "      <th>segmentation_2013</th>\n",
       "      <th>class_2013</th>\n",
       "      <th>manufacturing_year_fill</th>\n",
       "    </tr>\n",
       "  </thead>\n",
       "  <tbody>\n",
       "    <tr>\n",
       "      <th>24986</th>\n",
       "      <td>2019</td>\n",
       "      <td>Январь</td>\n",
       "      <td>Renault Россия</td>\n",
       "      <td>Renault</td>\n",
       "      <td>Sandero</td>\n",
       "      <td>2018</td>\n",
       "      <td>Российская Федерация</td>\n",
       "      <td>1,6</td>\n",
       "      <td>0</td>\n",
       "      <td>0</td>\n",
       "      <td>0</td>\n",
       "      <td>Актобе</td>\n",
       "      <td>NaN</td>\n",
       "      <td>1.0</td>\n",
       "      <td>12476.89637</td>\n",
       "      <td>12476.89637</td>\n",
       "      <td>Актюбинская область</td>\n",
       "      <td>Легковые автомобили</td>\n",
       "      <td>B класс</td>\n",
       "      <td>2018</td>\n",
       "    </tr>\n",
       "    <tr>\n",
       "      <th>24987</th>\n",
       "      <td>2019</td>\n",
       "      <td>Январь</td>\n",
       "      <td>Renault Россия</td>\n",
       "      <td>Renault</td>\n",
       "      <td>Sandero</td>\n",
       "      <td>2018</td>\n",
       "      <td>Российская Федерация</td>\n",
       "      <td>1,6</td>\n",
       "      <td>0</td>\n",
       "      <td>0</td>\n",
       "      <td>0</td>\n",
       "      <td>Атырау</td>\n",
       "      <td>NaN</td>\n",
       "      <td>1.0</td>\n",
       "      <td>12476.89637</td>\n",
       "      <td>12476.89637</td>\n",
       "      <td>Атырауская область</td>\n",
       "      <td>Легковые автомобили</td>\n",
       "      <td>B класс</td>\n",
       "      <td>2018</td>\n",
       "    </tr>\n",
       "    <tr>\n",
       "      <th>24988</th>\n",
       "      <td>2019</td>\n",
       "      <td>Январь</td>\n",
       "      <td>Renault Россия</td>\n",
       "      <td>Renault</td>\n",
       "      <td>Sandero</td>\n",
       "      <td>2018</td>\n",
       "      <td>Российская Федерация</td>\n",
       "      <td>1,6</td>\n",
       "      <td>0</td>\n",
       "      <td>0</td>\n",
       "      <td>0</td>\n",
       "      <td>Атырау</td>\n",
       "      <td>NaN</td>\n",
       "      <td>1.0</td>\n",
       "      <td>12476.89637</td>\n",
       "      <td>12476.89637</td>\n",
       "      <td>Атырауская область</td>\n",
       "      <td>Легковые автомобили</td>\n",
       "      <td>B класс</td>\n",
       "      <td>2018</td>\n",
       "    </tr>\n",
       "    <tr>\n",
       "      <th>24989</th>\n",
       "      <td>2019</td>\n",
       "      <td>Январь</td>\n",
       "      <td>Renault Россия</td>\n",
       "      <td>Renault</td>\n",
       "      <td>Sandero</td>\n",
       "      <td>2018</td>\n",
       "      <td>Российская Федерация</td>\n",
       "      <td>1,6</td>\n",
       "      <td>0</td>\n",
       "      <td>0</td>\n",
       "      <td>0</td>\n",
       "      <td>Уральск</td>\n",
       "      <td>NaN</td>\n",
       "      <td>1.0</td>\n",
       "      <td>12476.89637</td>\n",
       "      <td>12476.89637</td>\n",
       "      <td>Западно-Казахстанская область</td>\n",
       "      <td>Легковые автомобили</td>\n",
       "      <td>B класс</td>\n",
       "      <td>2018</td>\n",
       "    </tr>\n",
       "    <tr>\n",
       "      <th>24990</th>\n",
       "      <td>2019</td>\n",
       "      <td>Январь</td>\n",
       "      <td>Renault Россия</td>\n",
       "      <td>Renault</td>\n",
       "      <td>Sandero</td>\n",
       "      <td>2018</td>\n",
       "      <td>Российская Федерация</td>\n",
       "      <td>1,6</td>\n",
       "      <td>0</td>\n",
       "      <td>0</td>\n",
       "      <td>0</td>\n",
       "      <td>Актобе</td>\n",
       "      <td>NaN</td>\n",
       "      <td>1.0</td>\n",
       "      <td>12476.89637</td>\n",
       "      <td>12476.89637</td>\n",
       "      <td>Актюбинская область</td>\n",
       "      <td>Легковые автомобили</td>\n",
       "      <td>B класс</td>\n",
       "      <td>2018</td>\n",
       "    </tr>\n",
       "  </tbody>\n",
       "</table>\n",
       "</div>"
      ],
      "text/plain": [
       "       year   month         company    brand    model manufacturing_year  \\\n",
       "24986  2019  Январь  Renault Россия  Renault  Sandero               2018   \n",
       "24987  2019  Январь  Renault Россия  Renault  Sandero               2018   \n",
       "24988  2019  Январь  Renault Россия  Renault  Sandero               2018   \n",
       "24989  2019  Январь  Renault Россия  Renault  Sandero               2018   \n",
       "24990  2019  Январь  Renault Россия  Renault  Sandero               2018   \n",
       "\n",
       "       manufacturer_country fuel_type engine_capacity_liters  \\\n",
       "24986  Российская Федерация       1,6                      0   \n",
       "24987  Российская Федерация       1,6                      0   \n",
       "24988  Российская Федерация       1,6                      0   \n",
       "24989  Российская Федерация       1,6                      0   \n",
       "24990  Российская Федерация       1,6                      0   \n",
       "\n",
       "      transmission_type drive_type   region customer_type  quantity  \\\n",
       "24986                 0          0   Актобе           NaN       1.0   \n",
       "24987                 0          0   Атырау           NaN       1.0   \n",
       "24988                 0          0   Атырау           NaN       1.0   \n",
       "24989                 0          0  Уральск           NaN       1.0   \n",
       "24990                 0          0   Актобе           NaN       1.0   \n",
       "\n",
       "         price_usd     sale_usd                           area  \\\n",
       "24986  12476.89637  12476.89637            Актюбинская область   \n",
       "24987  12476.89637  12476.89637             Атырауская область   \n",
       "24988  12476.89637  12476.89637             Атырауская область   \n",
       "24989  12476.89637  12476.89637  Западно-Казахстанская область   \n",
       "24990  12476.89637  12476.89637            Актюбинская область   \n",
       "\n",
       "         segmentation_2013 class_2013 manufacturing_year_fill  \n",
       "24986  Легковые автомобили    B класс                    2018  \n",
       "24987  Легковые автомобили    B класс                    2018  \n",
       "24988  Легковые автомобили    B класс                    2018  \n",
       "24989  Легковые автомобили    B класс                    2018  \n",
       "24990  Легковые автомобили    B класс                    2018  "
      ]
     },
     "execution_count": 12,
     "metadata": {},
     "output_type": "execute_result"
    }
   ],
   "source": [
    "df.query('brand == \"Renault\" and model == \"Sandero\" and engine_capacity_liters==\"0\"').head()"
   ]
  },
  {
   "cell_type": "markdown",
   "id": "b3eaf1d6",
   "metadata": {},
   "source": [
    "Видно, что в fuel_type попало значение двигателя , а в engine_capacity_liters, transmission_type и drive_type значения 0. Можно перезаписать значения в engine_capacity_liters на 1.6, а в fuel_type на Бензин, а в transmission_type на MT."
   ]
  },
  {
   "cell_type": "code",
   "execution_count": 13,
   "id": "01ca2860",
   "metadata": {},
   "outputs": [],
   "source": [
    "df.loc[df['fuel_type'] == \"1,6\", 'engine_capacity_liters'] = 1.6\n",
    "df.loc[(df['brand'] == \"Renault\") & (df['model'] == \"Sandero\"), 'fuel_type'] = df.loc[(df['brand'] == \"Renault\") & (df['model'] == \"Sandero\"), 'fuel_type'].str.replace('1,6', 'Бензин')\n",
    "df.loc[(df['brand'] == \"Renault\") & (df['model'] == \"Sandero\"), 'transmission_type'] = df.loc[(df['brand'] == \"Renault\") & (df['model'] == \"Sandero\"), 'transmission_type'].str.replace('0', 'MT')"
   ]
  },
  {
   "cell_type": "markdown",
   "id": "97b14e29",
   "metadata": {},
   "source": [
    "Значения заменились корректно, теперь заменим оставшиеся пропуски   \n",
    "(fuel_type                   899  \n",
    "engine_capacity_liters     1806  \n",
    "transmission_type          1130  \n",
    "drive_type                 1209  \n",
    "customer_type              5518) на 0 и удалим пробелы в значениях всех строковых столбцов"
   ]
  },
  {
   "cell_type": "code",
   "execution_count": 14,
   "id": "2953782b",
   "metadata": {},
   "outputs": [
    {
     "data": {
      "text/plain": [
       "year                       0\n",
       "month                      0\n",
       "company                    0\n",
       "brand                      0\n",
       "model                      0\n",
       "manufacturing_year         0\n",
       "manufacturer_country       0\n",
       "fuel_type                  0\n",
       "engine_capacity_liters     0\n",
       "transmission_type          0\n",
       "drive_type                 0\n",
       "region                     0\n",
       "customer_type              0\n",
       "quantity                   0\n",
       "price_usd                  0\n",
       "sale_usd                   0\n",
       "area                       0\n",
       "segmentation_2013          0\n",
       "class_2013                 0\n",
       "manufacturing_year_fill    6\n",
       "dtype: int64"
      ]
     },
     "execution_count": 14,
     "metadata": {},
     "output_type": "execute_result"
    }
   ],
   "source": [
    "#заменим пропуски\n",
    "def fill_missing_values(df_to_fill, columns_to_fill):\n",
    "    for column in columns_to_fill:\n",
    "        df_to_fill[column] = df_to_fill[column].fillna('0')\n",
    "    return df_to_fill\n",
    "\n",
    "# Применим функцию к DataFrame\n",
    "columns_to_fill = ['manufacturing_year', 'fuel_type', 'engine_capacity_liters', 'transmission_type', 'drive_type','customer_type']\n",
    "df = fill_missing_values(df, columns_to_fill)\n",
    "df.isna().sum()"
   ]
  },
  {
   "cell_type": "code",
   "execution_count": 15,
   "id": "2303cbeb",
   "metadata": {},
   "outputs": [],
   "source": [
    "# удаление лишних пробелов в конце значений строковых столбцов\n",
    "for column in df.columns:\n",
    "    if df[column].dtype == \"object\":\n",
    "        df[column] = df[column].str.replace(r' $', '', regex=True)"
   ]
  },
  {
   "cell_type": "markdown",
   "id": "0d047567",
   "metadata": {},
   "source": [
    "Поиск неявных дубликатов в коротких и числовых значениях сложно автоматизировать, но для поиска дублей в длинных стороковых значениях (у нас такими являются company и customer_type) можно написать функцию."
   ]
  },
  {
   "cell_type": "code",
   "execution_count": 16,
   "id": "dbd9080e",
   "metadata": {},
   "outputs": [
    {
     "name": "stdout",
     "output_type": "stream",
     "text": [
      "Неявные дубликаты:\n",
      "Similar values found in 'company': 'Mercur Auto' and 'Mercur Autos'\n",
      "Similar values found in 'company': 'Caspian Motors' and 'Каспиан Моторс'\n",
      "Similar values found in 'company': 'Autokapital' and 'Автокапитал'\n",
      "Similar values found in 'company': 'ММС Рус' and 'MMC RUS'\n",
      "Similar values found in 'company': 'Равон Моторс Казахстан' and 'Ravon Motors Kazakstan'\n",
      "Similar values found in 'customer_type': 'Физ. Лицо' and 'физ.лицо'\n",
      "Similar values found in 'customer_type': 'Физ. Лицо' and 'ФизЛицо'\n",
      "Similar values found in 'customer_type': 'Юр. Лицо' and 'Юр.Лицо'\n",
      "Similar values found in 'customer_type': 'Юр. Лицо' and 'ЮрЛицо'\n",
      "Similar values found in 'customer_type': 'Юр.Лицо' and 'ЮрЛицо'\n",
      "Similar values found in 'customer_type': 'физ.лицо' and 'ФизЛицо'\n"
     ]
    }
   ],
   "source": [
    "#функция для поиска неявных дублей\n",
    "def translate_and_find_similar(df, columns_to_compare):\n",
    "    def similar_values(value1, value2):\n",
    "        value1_lower = unidecode(value1).lower()\n",
    "        value2_lower = unidecode(value2).lower()\n",
    "        return lev.distance(value1_lower, value2_lower) <= 2\n",
    "    for column in columns_to_compare:\n",
    "        if df[column].dtype == \"object\":\n",
    "            unique_values = df[column].unique()\n",
    "            num_unique_values = len(unique_values)\n",
    "            for i in range(num_unique_values):\n",
    "                for j in range(i + 1, num_unique_values):\n",
    "                    value1, value2 = unique_values[i], unique_values[j]\n",
    "                    if similar_values(value1, value2):\n",
    "                        print(f\"Similar values found in '{column}': '{value1}' and '{value2}'\")\n",
    "# Список столбцов, по которым нужно искать похожие значения\n",
    "columns_to_compare = ['company','customer_type']\n",
    "# Применение функции\n",
    "print(\"Неявные дубликаты:\")\n",
    "translate_and_find_similar(df, columns_to_compare)"
   ]
  },
  {
   "cell_type": "code",
   "execution_count": 17,
   "id": "be0bb683",
   "metadata": {
    "scrolled": true
   },
   "outputs": [
    {
     "name": "stdout",
     "output_type": "stream",
     "text": [
      "Уникальные значения в 'year': [2019]\n",
      "\n",
      "Уникальные значения в 'month': ['Август' 'Апрель' 'Июль' 'Июнь' 'Май' 'Март' 'Сентябрь' 'Февраль'\n",
      " 'Январь']\n",
      "\n",
      "Уникальные значения в 'company': ['Allur Auto' 'Almaty Motors Premium' 'Astana Motors' 'Autokapital'\n",
      " 'Caspian Motors' 'Daewoo Bus Kazakhstan' 'Eurasia Motor Premium'\n",
      " 'Hino Motors' 'Hyundai Com Trans Kazakhstan' 'MAN Truck & Bus Kazakhstan'\n",
      " 'MMC RUS' 'Mercur Auto' 'Mercur Autos' 'Nissan Manufacturing RUS'\n",
      " 'Ravon Motors Kazakstan' 'Renault Россия' 'Scandinavian Motors'\n",
      " 'Scania Central Asia' 'Subaru Kazakhstan' 'TERRA MOTORS'\n",
      " 'Toyota Motor Kazakhstan' 'Volkswagen Group Rus' 'Автодом Motors KST'\n",
      " 'Автокапитал' 'Автомир ГК' 'Автомир-Центр' 'Автоцентр-Бавария'\n",
      " 'БИПЭК АВТО' 'Вираж' 'Каспиан Моторс' 'Лифан Моторс Рус' 'ММС Рус'\n",
      " 'Равон Моторс Казахстан' 'СВС-ТРАНС' 'СемАЗ' 'ТК КАМАЗ'\n",
      " 'ТОО \"Eurasia Motor Zhaik\"' 'УзАвто-Казахстан' 'Хино Моторс Казахстан']\n",
      "\n",
      "Уникальные значения в 'brand': ['ANKAI' 'Audi' 'BMW' 'Cadillac' 'Chevrolet' 'Daewoo' 'Dong Feng' 'Ford'\n",
      " 'Foton' 'GAZ' 'Hino' 'Hyundai' 'Hyundai Truck & Bus' 'Infiniti' 'Isuzu'\n",
      " 'Iveco' 'Jac' 'Jaguar' 'KAMAZ' 'Kia' 'Lada' 'Land Rover' 'Lexus' 'Lifan'\n",
      " 'MAN' 'Mazda' 'Mercedes-Benz' 'Mercedes-Benz Trucks' 'Mini' 'Mitsubishi'\n",
      " 'Nefaz' 'Nissan' 'Peugeot' 'Porsche' 'Ravon' 'Renault' 'Scania' 'Shacman'\n",
      " 'Skoda' 'Subaru' 'Toyota' 'UAZ' 'Volkswagen' 'Volvo' 'Yutong' 'Урал']\n",
      "\n",
      "Уникальные значения в 'model': ['2206' '2217' '2310' '2705' '2752' '3' '3 серия' '300' '301' '3151'\n",
      " '3221' '32551' '3302' '3303' '3308' '3309' '3741' '3909' '3962' '4308'\n",
      " '4311' '43118' '4320' '4320-1951-40' '4320-1951-60' '43253' '43502'\n",
      " '44108' '45141' '45142' '45143' '4x4' '5 серия' '500' '5299' '53215'\n",
      " '53504' '53605' '54115' '5490' '5557' '58815Z' '6' '6 серия' '65111'\n",
      " '65115' '65116' '65117' '6520' '65206' '65225' '66052' '6606' '7 серия'\n",
      " '8 серия' '911 Carrera S' 'A-Class' 'A3' 'A4' 'A6' 'A7' 'A8' 'ASX'\n",
      " 'Accent' 'Actros' 'Almera' 'Amarok' 'Arkana' 'Aveo' 'BC 095' 'BC 211 MA'\n",
      " 'BJ1069VDJEA-F1' 'BJ3253DMPKB-AD' 'BS 106 A' 'BS 106 D' 'BWC6665GA5'\n",
      " 'C-Class' 'C-HR' 'CLA-Class' 'CLS-Class' 'CX-5' 'CX-9' 'Cabrio'\n",
      " 'Caddy Kasten' 'Caddy Maxi Kombi' 'Camaro' 'Camry' 'Captiva' 'Caravelle'\n",
      " 'Cargo' 'Cayenne' 'Cerato' 'Corolla' 'Countryman' 'County' 'Creta'\n",
      " 'D-MAX' 'Daily' 'Daily A' 'Daily V' 'Discovery' 'Discovery Sport'\n",
      " 'Dokker' 'Duster' 'E-Class' 'E-PACE' 'ES' 'EX8' 'Eclipse Cross' 'Elantra'\n",
      " 'Escalade' 'F-Pace' 'F-Type' 'Fiesta' 'Forester' 'G-Class' 'G-Series'\n",
      " 'GLA-Class' 'GLC Coupe' 'GLC-Class' 'GLE Coupe' 'GLE-Class' 'GLS-Class'\n",
      " 'GX' 'Granta' 'H350' 'HD 160' 'HD 170' 'HD 35' 'HD 65' 'HD 78' 'HD 79'\n",
      " 'HF-D105' 'HFF6124G03EV3' 'HFF6127GZ-4' 'HFF6850G' 'HIGHLANDER'\n",
      " 'HILUX DC' 'Hatch' 'I-Pace' 'Jetta' 'Juke' 'Kalina' 'Kaptur' 'Kodiaq'\n",
      " 'Koleos' 'LC Prado' 'LC200' 'LS' 'LX' 'Largus' 'Legacy' 'Logan' 'MYWAY'\n",
      " 'Macan' 'Master' 'Mondeo' 'Multivan' 'Murano' 'Murman' 'N120' 'N56' 'N75'\n",
      " 'NMR' 'NMS85' 'NPR' 'NPS' 'NQR' 'NX' 'Nexia R3' 'Next' 'Niva' 'Octavia'\n",
      " 'Optima' 'Outback' 'Outlander' 'P-Series' 'Pajero IV' 'Pajero Sport'\n",
      " 'Panamera' 'Partner Panel Van' 'Patriot' 'Patriot Pickup' 'Picanto'\n",
      " 'Polo' 'Q5' 'Q50' 'Q7' 'Q8' 'QX50' 'QX60' 'QX80' 'Qashqai' 'Quoris'\n",
      " 'R-Series' 'R4' 'RAV4' 'RS5' 'RX' 'RXH' 'Range Rover'\n",
      " 'Range Rover Evoque' 'Range Rover Sport' 'Range Rover Velar' 'Rapid'\n",
      " 'Rio' 'S-Class' 'S-Series' 'S3' 'S5' 'S7' 'S90' 'SX3258DR384' 'Sandero'\n",
      " 'Santa Fe' 'Setra' 'Solano' 'Sonata' 'Sorento' 'Soul' 'Sportage'\n",
      " 'Sprinter' 'Stinger' 'Stralis' 'Superb' 'T6' 'TG' 'TQ-1/H-1' 'Tahoe'\n",
      " 'Teramont' 'Terrano' 'Tiguan' 'Tipper' 'Touareg' 'Tourismo' 'Tracker'\n",
      " 'Transporter' 'Transporter Kasten' 'Transporter Kombi' 'Traverse'\n",
      " 'Tucson' 'UX' 'Universe' 'V-Class' 'V90' 'Vesta' 'Vito' 'X-Trail' 'X1'\n",
      " 'X2' 'X200' 'X3' 'X4' 'X5' 'X50' 'X6' 'X60' 'X7' 'X70' 'XC40' 'XC60'\n",
      " 'XC90' 'XE' 'XF' 'XJ' 'XRAY' 'XT5' 'XV' 'Z4' 'ZK6108HGH' 'i8' 'iev' 'ВИС']\n",
      "\n",
      "Уникальные значения в 'manufacturing_year': ['0' '2011' '2013' '2014' '2016' '2017' '2018' '2019' '2\\xa0018'\n",
      " '2\\xa0019']\n",
      "\n",
      "Уникальные значения в 'manufacturer_country': ['UK' 'Австрия' 'Белоруссия' 'Бельгия' 'Венгрия' 'Германия' 'Испания'\n",
      " 'Китай' 'Корея' 'Нидерланды' 'Польша' 'Республика Казахстан'\n",
      " 'Российская Федерация' 'США' 'Таиланд' 'Турция' 'Узбекистан' 'Швеция'\n",
      " 'Япония']\n",
      "\n",
      "Уникальные значения в 'fuel_type': ['0' '1,6' '2' 'Бензин' 'Дизель' 'Электричество' 'Электро' 'бензин'\n",
      " 'гибрид' 'дизель']\n",
      "\n",
      "Уникальные значения в 'engine_capacity_liters': ['#Н/Д' '0' '1.2' '1.248' '1.2T' '1.33' '1.4' '1.4 Turbo' '1.485' '1.5'\n",
      " '1.591' '1.596' '1.598' '1.6' '1.6 MPI' '1.6 T-GDI' '1.69' '1.7' '1.774'\n",
      " '1.8' '1.998' '1.999' '10.5' '10.7' '11' '11.7' '12' '12.3' '12.7' '12.8'\n",
      " '13' '13.7' '14.7' '15.7' '16.7' '17.7' '18.7' '19.7' '2' '2.0'\n",
      " '2.0 CRDI' '2.0 MPI' '2.0h' '2.2' '2.359' '2.4' '2.4 GDI' '2.4 MPI'\n",
      " '2.4G' '2.5' '2.5 CRDI VGT' '2.5 CRDI WGT' '2.693' '2.7' '2.8' '2.9'\n",
      " '20.7' '21.7' '22.7' '23.7' '24.7' '25.7' '26.7' '3' '3.0 L' '3.342'\n",
      " '3.47' '3.5' '3.6' '3.7' '3.8' '3.9' '4' '4.0' '4.3' '4.3.' '4.4' '4.6'\n",
      " '4.7' '4.9' '4.98' '4.98 L.' '400 Л.С.' '5' '5.2' '5.5' '5.6' '5.7' '6.2'\n",
      " '6.5' '6.6' '6.7' '6.7L' '7.5' '7.6' '7.7' '8.4 L.' '8.7' '88 KWH' '9.7'\n",
      " 'AT' 'MT' nan]\n",
      "\n",
      "Уникальные значения в 'transmission_type': [' 7 АКП' '#Н/Д' '0' '12AT' '12АТ' '4 АТ' '4AT' '4WD' '4АТ' '5 AT' '5 МТ'\n",
      " '5AT' '5M' '5MT' '5АТ' '5М' '5МТ' '6 AT' '6 DSG' '6 MT' '6 АТ' '6 МТ'\n",
      " '6A' '6AT' '6DSG' '6M/T' '6MT' '6А' '6АТ' '6МТ' '7 DCT' '7 DSG'\n",
      " '7 АКПП (PDK)' '7 АКПП PDK' '7AT' '7DCT' '7DSG' '7G-TRONIC' '7АКП' '7АТ'\n",
      " '8' '8 AT' '8 АКПП (PDK)' '8 АКПП Tiptronic S' '8 АТ' '8-ступ АКПП' '8A'\n",
      " '8AT' '8АКПП' '8АТ' '9AT' '9G-TRONIC' 'A/T' 'AMT' 'AT' 'CVT'\n",
      " 'CVT (вариATор)' 'CVT (вариатор)' 'CVT(вAриATор)' 'DCT' 'DSG' 'M/T' 'MT'\n",
      " 'PDK' 'Powershift S6' 'S-Tronic' 'S-tronic' 'Steptronic' 'TDI'\n",
      " 'Tiptronic' 'А/T' 'АT' 'АКП' 'АКПП' 'АТ' 'М/T' 'МT' 'МКП' 'МКПП' 'МТ'\n",
      " 'Мех.' 'Передний' 'РЕДУКТОР']\n",
      "\n",
      "Уникальные значения в 'drive_type': ['#Н/Д' '0' '2 WD' '2WD' '4 WD' '4Motion' '4WD' '4X2' '4X4' '4x2' '4x4'\n",
      " '4х2' '4х2.2' '4х4' 'AWD' 'FF' 'FWD' 'RWD' 'quattro' 'Астана' 'Задний'\n",
      " 'Передний' 'Передний (FF)' 'Полный' 'передний' 'полный']\n",
      "\n",
      "Уникальные значения в 'region': ['Актау' 'Актобе' 'Алматы' 'Атырау' 'Зыряновск' 'Караганда' 'Каскелен'\n",
      " 'Кокшетау' 'Костанай' 'Кульсары' 'Кызылорда' 'Нур-Султан' 'Павлодар'\n",
      " 'Петропавловск' 'Риддер' 'Рудный' 'Сарыагаш' 'Семей' 'Талдыкорган'\n",
      " 'Тараз' 'Туркестан' 'Уральск' 'Усть-Каменогорск' 'Шымкент' 'ЭКСПОРТ'\n",
      " 'Экибастуз']\n",
      "\n",
      "Уникальные значения в 'customer_type': ['0' 'Корп. клиент' 'Физ. Лицо' 'ФизЛицо' 'Юр. Лицо' 'Юр.Лицо' 'ЮрЛицо'\n",
      " 'физ.лицо' 'физическое' 'юридическое']\n",
      "\n",
      "Уникальные значения в 'quantity': [ -1.   1.   2.   3.   4.   5.   6.   7.   8.   9.  10.  11.  12.  13.\n",
      "  14.  15.  16.  17.  18.  19.  20.  21.  22.  23.  24.  25.  26.  27.\n",
      "  28.  29.  30.  31.  32.  33.  34.  35.  36.  37.  38.  40.  41.  42.\n",
      "  43.  46.  47.  50.  51.  54.  60.  62.  63.  66.  70.  79. 100. 115.]\n",
      "\n",
      "Уникальные значения в 'price_usd': [  7100.         7300.         7362.995171 ... 305252.0154   307986.3633\n",
      " 328510.9706  ]\n",
      "\n",
      "Уникальные значения в 'sale_usd': [ -35588.25     7100.       7300.    ... 2277367.677 3157811.637\n",
      " 3778206.264]\n",
      "\n",
      "Уникальные значения в 'area': ['Акмолинская область' 'Актюбинская область' 'Алматинская область'\n",
      " 'Атырауская область' 'Восточно-Казахстанская область'\n",
      " 'Жамбылская область' 'Западно-Казахстанская область'\n",
      " 'Карагандинская область' 'Костанайская область' 'Кызылординская область'\n",
      " 'Мангистауская область' 'Павлодарская область'\n",
      " 'Северо-Казахстанская область' 'Туркестанская область' 'Экспорт область'\n",
      " 'Южно-Казахстанская область' 'г.Алматы' 'г.Нур-Султан']\n",
      "\n",
      "Уникальные значения в 'segmentation_2013': ['Внедорожники' 'Коммерческие автомобили' 'Легковые автомобили' 'Минивэны'\n",
      " 'Пикапы']\n",
      "\n",
      "Уникальные значения в 'class_2013': ['A класс' 'B класс' 'C класс' 'D класс' 'E класс' 'F класс' 'Pick-ups'\n",
      " 'Большие автобусы' 'Компактвэн' 'Компактные SUV'\n",
      " 'Крупнотоннажные грузовики' 'Малотоннажные грузовики' 'Микроавтобусы'\n",
      " 'Полноразмерные SUV' 'Полноразмерный Минивэн' 'Развозные автомобили'\n",
      " 'Спортивные автомобили' 'Среднеразмерные SUV' 'Среднетоннажные грузовики'\n",
      " 'Средние автобусы' 'Субкомпактные SUV']\n",
      "\n",
      "Уникальные значения в 'manufacturing_year_fill': ['2013' '2016' '2017' '2018' '2019' None]\n",
      "\n"
     ]
    }
   ],
   "source": [
    "# функция для просмотра уникальных значений во всех столбцах в ручную\n",
    "for column in df.columns:\n",
    "    unique_values = df[column].sort_values().unique()\n",
    "    print(f\"Уникальные значения в '{column}': {unique_values}\\n\")"
   ]
  },
  {
   "cell_type": "markdown",
   "id": "368bcf78",
   "metadata": {},
   "source": [
    "Неявные дубликаты и аномалии в столбцах:    \n",
    "* Дубли в company: 'Mercur Auto' и 'Mercur Autos', 'Caspian Motors' и 'Каспиан Моторс', 'Autokapital' и 'Автокапитал', 'ММС Рус' и 'MMC RUS', 'Равон Моторс Казахстан' и 'Ravon Motors Kazakstan'.\n",
    "* В brand дублей нет\n",
    "* В model: '3' и '3' серия, '6' '6 серия' - похоже на дубли, 'TQ-1/H-1' - странное значение. Нужно изучить модели и посмотреть вместе с брендом.\n",
    "* manufacturing_year есть 2 странных значения '2\\xa0018' '2\\xa0019'. Необходимо детальнее изучить столбец и избавиться от аномалий.\n",
    "* В manufacturer_country нет дубликатов, необходимо закодировать в Alpha3.\n",
    "* В fuel_type: '1.6', '2' - эти значения не относятся к виду топлива, скорее всего в этот столбец попал объём двигателя. \n",
    "* engine_capacity_liters аномалии: '#Н/Д', '0', '88 KWH', '400 Л.С.', 'AT', 'MT' - в этот столбец попали значения из других столбцов - мощность двигателя и тип коробки передач. Также есть неявные дубли '2' '2.0' '2.0h' '3' '3.0 L' '4' '4.0' '4.3' '4.3.' '4.98' '4.98 L.' '6.7' '6.7L'  Необходимо детальнее изучить столбец и избавиться от аномалий.\n",
    "* transmission_type: '#Н/Д', '4WD', 'Передний' - значения из drive_type. Попало значение 'TDI' (это двигатель на дизеле) из fuel_type и просто '8', Необходимо детальнее изучить столбец, кодировать на механику и автомат (или на другие категории).  \n",
    "С помощью сервиса regex  удалось структурировать значения, после их анализа выяснилось, что все значения, где есть M(рус и англ) - это механика (кроме AMT). Далее стало понятно, что все остальные значения, а именно: с буквой A(рус и англ), DSG, DCT, tronic(Tronic), CVT, Powershift, РЕДУКТОР и т.д. относятся к автомату.   \n",
    "* В drive_type много дубликатов, сразу разобьём на категории: ('FWD', 'FF', 2 WD', '2WD'- передний привод), ('AWD', 'quattro', '4Motion', '4 WD', '4WD'  '4X4', '4x4', '4х4' - полный), ('4X2', '4x2', '4х2', '4х2.2'- неполный), ('RWD' - задний), также попало значение 'Астана'. Необходимо детальнее изучить столбец и кодировать на основные типы привода.  \n",
    "* region - нет дублей.\n",
    "* customer_type дубликаты: 'Физ. Лицо' and 'физ.лицо', 'ФизЛицо', 'Юр. Лицо', 'Юр.Лицо', 'ЮрЛицо'.\n",
    "* В quantity значение '-1' - это возврат, а большое число проданных автомобилей 100 и 115 (возможно опт продажа или на экспорт).\n",
    "* price_usd - необходимо посмотреть выбросы (построить boxplot)\n",
    "* В sale_usd странные значения -35588.25 (скорее всего сумма возврата) и 0 (проусков нет и заглушек в 0 нет) - надо посмотреть количество таких значений и тоже проверить на выбросы.\n",
    "* В area всё впорядке.  \n",
    "* segmentation_2013 нет дублей  \n",
    "* В class_2013 всё норм    \n",
    "\n",
    "Для начала избавимся от значений \"#Н/Д\", затем от аномалий и неявных дубликатов."
   ]
  },
  {
   "cell_type": "code",
   "execution_count": 18,
   "id": "530b57d7",
   "metadata": {},
   "outputs": [
    {
     "data": {
      "text/plain": [
       "'В drive_type:'"
      ]
     },
     "metadata": {},
     "output_type": "display_data"
    },
    {
     "data": {
      "text/html": [
       "<div>\n",
       "<style scoped>\n",
       "    .dataframe tbody tr th:only-of-type {\n",
       "        vertical-align: middle;\n",
       "    }\n",
       "\n",
       "    .dataframe tbody tr th {\n",
       "        vertical-align: top;\n",
       "    }\n",
       "\n",
       "    .dataframe thead th {\n",
       "        text-align: right;\n",
       "    }\n",
       "</style>\n",
       "<table border=\"1\" class=\"dataframe\">\n",
       "  <thead>\n",
       "    <tr style=\"text-align: right;\">\n",
       "      <th></th>\n",
       "      <th>model</th>\n",
       "      <th>brand</th>\n",
       "      <th>drive_type</th>\n",
       "    </tr>\n",
       "  </thead>\n",
       "  <tbody>\n",
       "    <tr>\n",
       "      <th>31145</th>\n",
       "      <td>Corolla</td>\n",
       "      <td>Toyota</td>\n",
       "      <td>#Н/Д</td>\n",
       "    </tr>\n",
       "    <tr>\n",
       "      <th>31146</th>\n",
       "      <td>Corolla</td>\n",
       "      <td>Toyota</td>\n",
       "      <td>#Н/Д</td>\n",
       "    </tr>\n",
       "    <tr>\n",
       "      <th>32667</th>\n",
       "      <td>HILUX DC</td>\n",
       "      <td>Toyota</td>\n",
       "      <td>#Н/Д</td>\n",
       "    </tr>\n",
       "    <tr>\n",
       "      <th>33067</th>\n",
       "      <td>HILUX DC</td>\n",
       "      <td>Toyota</td>\n",
       "      <td>#Н/Д</td>\n",
       "    </tr>\n",
       "  </tbody>\n",
       "</table>\n",
       "</div>"
      ],
      "text/plain": [
       "          model   brand drive_type\n",
       "31145   Corolla  Toyota       #Н/Д\n",
       "31146   Corolla  Toyota       #Н/Д\n",
       "32667  HILUX DC  Toyota       #Н/Д\n",
       "33067  HILUX DC  Toyota       #Н/Д"
      ]
     },
     "metadata": {},
     "output_type": "display_data"
    },
    {
     "data": {
      "text/plain": [
       "'В transmission_type:'"
      ]
     },
     "metadata": {},
     "output_type": "display_data"
    },
    {
     "data": {
      "text/html": [
       "<div>\n",
       "<style scoped>\n",
       "    .dataframe tbody tr th:only-of-type {\n",
       "        vertical-align: middle;\n",
       "    }\n",
       "\n",
       "    .dataframe tbody tr th {\n",
       "        vertical-align: top;\n",
       "    }\n",
       "\n",
       "    .dataframe thead th {\n",
       "        text-align: right;\n",
       "    }\n",
       "</style>\n",
       "<table border=\"1\" class=\"dataframe\">\n",
       "  <thead>\n",
       "    <tr style=\"text-align: right;\">\n",
       "      <th></th>\n",
       "      <th>model</th>\n",
       "      <th>brand</th>\n",
       "      <th>transmission_type</th>\n",
       "    </tr>\n",
       "  </thead>\n",
       "  <tbody>\n",
       "    <tr>\n",
       "      <th>31145</th>\n",
       "      <td>Corolla</td>\n",
       "      <td>Toyota</td>\n",
       "      <td>#Н/Д</td>\n",
       "    </tr>\n",
       "    <tr>\n",
       "      <th>31146</th>\n",
       "      <td>Corolla</td>\n",
       "      <td>Toyota</td>\n",
       "      <td>#Н/Д</td>\n",
       "    </tr>\n",
       "    <tr>\n",
       "      <th>32667</th>\n",
       "      <td>HILUX DC</td>\n",
       "      <td>Toyota</td>\n",
       "      <td>#Н/Д</td>\n",
       "    </tr>\n",
       "    <tr>\n",
       "      <th>33067</th>\n",
       "      <td>HILUX DC</td>\n",
       "      <td>Toyota</td>\n",
       "      <td>#Н/Д</td>\n",
       "    </tr>\n",
       "  </tbody>\n",
       "</table>\n",
       "</div>"
      ],
      "text/plain": [
       "          model   brand transmission_type\n",
       "31145   Corolla  Toyota              #Н/Д\n",
       "31146   Corolla  Toyota              #Н/Д\n",
       "32667  HILUX DC  Toyota              #Н/Д\n",
       "33067  HILUX DC  Toyota              #Н/Д"
      ]
     },
     "metadata": {},
     "output_type": "display_data"
    },
    {
     "data": {
      "text/plain": [
       "'В engine_capacity_liters:'"
      ]
     },
     "metadata": {},
     "output_type": "display_data"
    },
    {
     "data": {
      "text/html": [
       "<div>\n",
       "<style scoped>\n",
       "    .dataframe tbody tr th:only-of-type {\n",
       "        vertical-align: middle;\n",
       "    }\n",
       "\n",
       "    .dataframe tbody tr th {\n",
       "        vertical-align: top;\n",
       "    }\n",
       "\n",
       "    .dataframe thead th {\n",
       "        text-align: right;\n",
       "    }\n",
       "</style>\n",
       "<table border=\"1\" class=\"dataframe\">\n",
       "  <thead>\n",
       "    <tr style=\"text-align: right;\">\n",
       "      <th></th>\n",
       "      <th>model</th>\n",
       "      <th>brand</th>\n",
       "      <th>engine_capacity_liters</th>\n",
       "    </tr>\n",
       "  </thead>\n",
       "  <tbody>\n",
       "    <tr>\n",
       "      <th>31145</th>\n",
       "      <td>Corolla</td>\n",
       "      <td>Toyota</td>\n",
       "      <td>#Н/Д</td>\n",
       "    </tr>\n",
       "    <tr>\n",
       "      <th>31146</th>\n",
       "      <td>Corolla</td>\n",
       "      <td>Toyota</td>\n",
       "      <td>#Н/Д</td>\n",
       "    </tr>\n",
       "    <tr>\n",
       "      <th>32667</th>\n",
       "      <td>HILUX DC</td>\n",
       "      <td>Toyota</td>\n",
       "      <td>#Н/Д</td>\n",
       "    </tr>\n",
       "    <tr>\n",
       "      <th>33067</th>\n",
       "      <td>HILUX DC</td>\n",
       "      <td>Toyota</td>\n",
       "      <td>#Н/Д</td>\n",
       "    </tr>\n",
       "  </tbody>\n",
       "</table>\n",
       "</div>"
      ],
      "text/plain": [
       "          model   brand engine_capacity_liters\n",
       "31145   Corolla  Toyota                   #Н/Д\n",
       "31146   Corolla  Toyota                   #Н/Д\n",
       "32667  HILUX DC  Toyota                   #Н/Д\n",
       "33067  HILUX DC  Toyota                   #Н/Д"
      ]
     },
     "metadata": {},
     "output_type": "display_data"
    }
   ],
   "source": [
    "#посмотрим, в каких брендах значения '#Н/Д'\n",
    "display(\"В drive_type:\", df.query('drive_type == \"#Н/Д\"')[['model','brand','drive_type']])\n",
    "display(\"В transmission_type:\", df.query('transmission_type == \"#Н/Д\"')[['model','brand','transmission_type']])\n",
    "display(\"В engine_capacity_liters:\", df.query('engine_capacity_liters == \"#Н/Д\"')[['model','brand','engine_capacity_liters']])"
   ]
  },
  {
   "cell_type": "markdown",
   "id": "62deec27",
   "metadata": {},
   "source": [
    "В одних и тех же строках значения '#Н/Д', можно перезаписать на 0, потому что у этих моделей разная комплектация (например, объем двигателя Тойота Хайлюкс составляет от 1.6 до 4.0 л.)"
   ]
  },
  {
   "cell_type": "code",
   "execution_count": 19,
   "id": "ba35cb77",
   "metadata": {},
   "outputs": [],
   "source": [
    "def nd_zero(df, columns):\n",
    "    for column in columns:\n",
    "        df[column] = df[column].str.replace('#Н/Д', '0')\n",
    "    return df\n",
    "columns_nd_0 = ['drive_type', 'transmission_type', 'engine_capacity_liters']\n",
    "df = nd_zero(df, columns_nd_0)"
   ]
  },
  {
   "cell_type": "code",
   "execution_count": 20,
   "id": "46e9a5c1",
   "metadata": {},
   "outputs": [
    {
     "name": "stdout",
     "output_type": "stream",
     "text": [
      "Количество строк: 28\n",
      "Уникальные значения по столбцам 'brand' и 'model':\n",
      "      brand model\n",
      "39067   Jac    T6\n"
     ]
    }
   ],
   "source": [
    "#проверим у каких моделей в transmission_type значение 'TDI' и количество строк с таким значением\n",
    "filtered_df = df.query('transmission_type == \"TDI\"')[['brand', 'model']]\n",
    "num_rows = len(filtered_df)\n",
    "unique_values = filtered_df.drop_duplicates()\n",
    "print(\"Количество строк:\", num_rows)\n",
    "print(\"Уникальные значения по столбцам 'brand' и 'model':\")\n",
    "print(unique_values)"
   ]
  },
  {
   "cell_type": "markdown",
   "id": "9cc10a81",
   "metadata": {},
   "source": [
    "Значение 'TDI' в transmission_type попало только для одной модели - \"Jac T6\", у которой коробка передач механическая, поэтому можно заменить это значение на 'MT'. Затем удалить аномалии."
   ]
  },
  {
   "cell_type": "code",
   "execution_count": 21,
   "id": "953d3cb6",
   "metadata": {},
   "outputs": [],
   "source": [
    "df['transmission_type'] = df['transmission_type'].str.replace('TDI','MT')"
   ]
  },
  {
   "cell_type": "code",
   "execution_count": 22,
   "id": "49166136",
   "metadata": {},
   "outputs": [],
   "source": [
    "# заменим значения '2\\xa0018', '2\\xa0019' на '2018' и '2019'\n",
    "df['manufacturing_year'] = df['manufacturing_year'].str.replace('2\\xa0018','2018')\n",
    "df['manufacturing_year'] = df['manufacturing_year'].str.replace('2\\xa0019','2019')"
   ]
  },
  {
   "cell_type": "code",
   "execution_count": 23,
   "id": "9dbf461d",
   "metadata": {},
   "outputs": [
    {
     "name": "stdout",
     "output_type": "stream",
     "text": [
      "Будет удалено строк: 755\n"
     ]
    }
   ],
   "source": [
    "# задаём условия для удаления строк с ошибочными значениями в столбцах\n",
    "condition = (\n",
    "    (df['fuel_type'].isin(['2', '1,6'])) |\n",
    "    (df['engine_capacity_liters'].isin(['88 KWH', 'AT', 'MT'])) |\n",
    "    (df['transmission_type'].isin(['8', '4WD', 'Передний'])) |\n",
    "    (df['manufacturing_year'].isin(['2\\xa0018', '2\\xa0019'])) |\n",
    "    (df['drive_type'] == 'Астана')\n",
    ")\n",
    "# Подсчет количества удаляемых строк\n",
    "count_deleted = len(df[condition])\n",
    "print(f'Будет удалено строк: {count_deleted}')"
   ]
  },
  {
   "cell_type": "code",
   "execution_count": 24,
   "id": "91018592",
   "metadata": {},
   "outputs": [
    {
     "name": "stdout",
     "output_type": "stream",
     "text": [
      "755\n"
     ]
    }
   ],
   "source": [
    "# Удаление строк\n",
    "df = df[~condition]\n",
    "#проверим результат\n",
    "print(39960 - df['model'].count())"
   ]
  },
  {
   "cell_type": "code",
   "execution_count": 25,
   "id": "6da28258",
   "metadata": {},
   "outputs": [
    {
     "name": "stdout",
     "output_type": "stream",
     "text": [
      "Удалилось 1.93 % строк с некорректными занчениями\n"
     ]
    }
   ],
   "source": [
    "print(\"Удалилось\", round(count_deleted/df['model'].count()*100,2), \"% строк с некорректными занчениями\")"
   ]
  },
  {
   "cell_type": "markdown",
   "id": "54d476f0",
   "metadata": {},
   "source": [
    "Строки удалились корректно, потеряно 1.93% данных. Теперь избавимся от неявных дубликатов."
   ]
  },
  {
   "cell_type": "code",
   "execution_count": 26,
   "id": "24458764",
   "metadata": {},
   "outputs": [
    {
     "name": "stdout",
     "output_type": "stream",
     "text": [
      "None\n"
     ]
    }
   ],
   "source": [
    "#удалим неявные дубли в company\n",
    "duplicates_company = {\n",
    "    'Каспиан Моторс':'Caspian Motors', \n",
    "    'Автокапитал':'Autokapital', \n",
    "    'MMC RUS':'ММС Рус', \n",
    "    'Равон Моторс Казахстан':'Ravon Motors Kazakstan',\n",
    "    'Hino Motors':'Хино Моторс Казахстан',\n",
    "    'Mercur Auto': 'Mercur Autos'\n",
    "}\n",
    "df['company'] = df['company'].replace(duplicates_company)\n",
    "#проверим, удалились ли дубликаты с помощью функции\n",
    "print(translate_and_find_similar(df, ['company']))"
   ]
  },
  {
   "cell_type": "code",
   "execution_count": 27,
   "id": "dc9b7665",
   "metadata": {},
   "outputs": [
    {
     "data": {
      "text/html": [
       "<div>\n",
       "<style scoped>\n",
       "    .dataframe tbody tr th:only-of-type {\n",
       "        vertical-align: middle;\n",
       "    }\n",
       "\n",
       "    .dataframe tbody tr th {\n",
       "        vertical-align: top;\n",
       "    }\n",
       "\n",
       "    .dataframe thead th {\n",
       "        text-align: right;\n",
       "    }\n",
       "</style>\n",
       "<table border=\"1\" class=\"dataframe\">\n",
       "  <thead>\n",
       "    <tr style=\"text-align: right;\">\n",
       "      <th></th>\n",
       "      <th>model</th>\n",
       "      <th>brand</th>\n",
       "    </tr>\n",
       "  </thead>\n",
       "  <tbody>\n",
       "    <tr>\n",
       "      <th>31</th>\n",
       "      <td>3 серия</td>\n",
       "      <td>BMW</td>\n",
       "    </tr>\n",
       "    <tr>\n",
       "      <th>62</th>\n",
       "      <td>6 серия</td>\n",
       "      <td>BMW</td>\n",
       "    </tr>\n",
       "    <tr>\n",
       "      <th>9566</th>\n",
       "      <td>TQ-1/H-1</td>\n",
       "      <td>Hyundai</td>\n",
       "    </tr>\n",
       "    <tr>\n",
       "      <th>20220</th>\n",
       "      <td>3</td>\n",
       "      <td>Mazda</td>\n",
       "    </tr>\n",
       "    <tr>\n",
       "      <th>20225</th>\n",
       "      <td>6</td>\n",
       "      <td>Mazda</td>\n",
       "    </tr>\n",
       "  </tbody>\n",
       "</table>\n",
       "</div>"
      ],
      "text/plain": [
       "          model    brand\n",
       "31      3 серия      BMW\n",
       "62      6 серия      BMW\n",
       "9566   TQ-1/H-1  Hyundai\n",
       "20220         3    Mazda\n",
       "20225         6    Mazda"
      ]
     },
     "execution_count": 27,
     "metadata": {},
     "output_type": "execute_result"
    }
   ],
   "source": [
    "# сравним модели и бренды, где есть подозрение на неявные дубли в model\n",
    "df.query('model == \"3\"|model == \"3 серия\"|model == \"6\"|model == \"6 серия\"|model == \"TQ-1/H-1\"')[['model', 'brand']].drop_duplicates()\n"
   ]
  },
  {
   "cell_type": "markdown",
   "id": "96d8e114",
   "metadata": {},
   "source": [
    "Получились уникальные значения и такие модели авто действительно есть, получается, в model нет дублей."
   ]
  },
  {
   "cell_type": "code",
   "execution_count": 28,
   "id": "e70f90ac",
   "metadata": {},
   "outputs": [],
   "source": [
    "# удалим дубли в engine_capacity_liters '2' '2.0' '2.0h' '3' '3.0 L' '4' '4.0' '4.3' '4.3.' '4.98' '4.98 L.' '6.7' '6.7L'\n",
    "duplicates_engine_capacity_liters = {\n",
    "    '2':'2.0', \n",
    "    '2.0h':'2.0', \n",
    "    '3':'3.0', \n",
    "    '3.0 L':'3.0',\n",
    "    '4':'4.0',\n",
    "    '4.3.':'4.3',\n",
    "    '4.98 L.':'4.98',\n",
    "    '6.7L':'6.7',\n",
    "    '8.4 L.':'8.4',\n",
    "    '5':'5.0'}\n",
    "df['engine_capacity_liters'] = df['engine_capacity_liters'].replace(duplicates_engine_capacity_liters)"
   ]
  },
  {
   "cell_type": "code",
   "execution_count": 29,
   "id": "a652e1a5",
   "metadata": {},
   "outputs": [
    {
     "data": {
      "text/html": [
       "<div>\n",
       "<style scoped>\n",
       "    .dataframe tbody tr th:only-of-type {\n",
       "        vertical-align: middle;\n",
       "    }\n",
       "\n",
       "    .dataframe tbody tr th {\n",
       "        vertical-align: top;\n",
       "    }\n",
       "\n",
       "    .dataframe thead th {\n",
       "        text-align: right;\n",
       "    }\n",
       "</style>\n",
       "<table border=\"1\" class=\"dataframe\">\n",
       "  <thead>\n",
       "    <tr style=\"text-align: right;\">\n",
       "      <th></th>\n",
       "      <th>brand</th>\n",
       "      <th>model</th>\n",
       "    </tr>\n",
       "  </thead>\n",
       "  <tbody>\n",
       "    <tr>\n",
       "      <th>39538</th>\n",
       "      <td>Jaguar</td>\n",
       "      <td>I-Pace</td>\n",
       "    </tr>\n",
       "  </tbody>\n",
       "</table>\n",
       "</div>"
      ],
      "text/plain": [
       "        brand   model\n",
       "39538  Jaguar  I-Pace"
      ]
     },
     "execution_count": 29,
     "metadata": {},
     "output_type": "execute_result"
    }
   ],
   "source": [
    "#посмотрим у какой модели вместо объёма двигателя мощность\n",
    "df.query('engine_capacity_liters == \"400 Л.С.\"')[['brand','model']].drop_duplicates()"
   ]
  },
  {
   "cell_type": "markdown",
   "id": "a6336817",
   "metadata": {},
   "source": [
    "У Jaguar\tI-Pace электрический двигатель, посомтрим у каких машин электро двигатель и какие значения в мощности двигателя."
   ]
  },
  {
   "cell_type": "code",
   "execution_count": 30,
   "id": "bda8f9ef",
   "metadata": {},
   "outputs": [
    {
     "data": {
      "text/html": [
       "<div>\n",
       "<style scoped>\n",
       "    .dataframe tbody tr th:only-of-type {\n",
       "        vertical-align: middle;\n",
       "    }\n",
       "\n",
       "    .dataframe tbody tr th {\n",
       "        vertical-align: top;\n",
       "    }\n",
       "\n",
       "    .dataframe thead th {\n",
       "        text-align: right;\n",
       "    }\n",
       "</style>\n",
       "<table border=\"1\" class=\"dataframe\">\n",
       "  <thead>\n",
       "    <tr style=\"text-align: right;\">\n",
       "      <th></th>\n",
       "      <th>brand</th>\n",
       "      <th>model</th>\n",
       "      <th>engine_capacity_liters</th>\n",
       "    </tr>\n",
       "  </thead>\n",
       "  <tbody>\n",
       "    <tr>\n",
       "      <th>39538</th>\n",
       "      <td>Jaguar</td>\n",
       "      <td>I-Pace</td>\n",
       "      <td>400 Л.С.</td>\n",
       "    </tr>\n",
       "    <tr>\n",
       "      <th>39539</th>\n",
       "      <td>Jaguar</td>\n",
       "      <td>I-Pace</td>\n",
       "      <td>400 Л.С.</td>\n",
       "    </tr>\n",
       "    <tr>\n",
       "      <th>39540</th>\n",
       "      <td>Jaguar</td>\n",
       "      <td>I-Pace</td>\n",
       "      <td>400 Л.С.</td>\n",
       "    </tr>\n",
       "    <tr>\n",
       "      <th>39541</th>\n",
       "      <td>Jaguar</td>\n",
       "      <td>I-Pace</td>\n",
       "      <td>400 Л.С.</td>\n",
       "    </tr>\n",
       "  </tbody>\n",
       "</table>\n",
       "</div>"
      ],
      "text/plain": [
       "        brand   model engine_capacity_liters\n",
       "39538  Jaguar  I-Pace               400 Л.С.\n",
       "39539  Jaguar  I-Pace               400 Л.С.\n",
       "39540  Jaguar  I-Pace               400 Л.С.\n",
       "39541  Jaguar  I-Pace               400 Л.С."
      ]
     },
     "execution_count": 30,
     "metadata": {},
     "output_type": "execute_result"
    }
   ],
   "source": [
    "df.query('fuel_type==\"Электричество\"|fuel_type==\"Электро\"')[['brand','model','engine_capacity_liters']]"
   ]
  },
  {
   "cell_type": "markdown",
   "id": "15f6217e",
   "metadata": {},
   "source": [
    "Jaguar\tI-Pace - единственное авто в датасете с электро двигателем, а электро движки не имеют объём в литрах, значит нужно заменить значение 400 Л.С. на 0, а остальные буквенные значения в столбце engine_capacity_liters удалить."
   ]
  },
  {
   "cell_type": "code",
   "execution_count": 31,
   "id": "e082fcdb",
   "metadata": {},
   "outputs": [
    {
     "name": "stderr",
     "output_type": "stream",
     "text": [
      "C:\\Users\\Redmi\\AppData\\Local\\Temp\\ipykernel_19140\\2404311423.py:1: FutureWarning: The default value of regex will change from True to False in a future version.\n",
      "  df['engine_capacity_liters'] =df['engine_capacity_liters'].str.replace('400 Л.С.', '0')\n"
     ]
    }
   ],
   "source": [
    "df['engine_capacity_liters'] =df['engine_capacity_liters'].str.replace('400 Л.С.', '0')"
   ]
  },
  {
   "cell_type": "code",
   "execution_count": 32,
   "id": "1bcd2bca",
   "metadata": {},
   "outputs": [],
   "source": [
    "# Удаление всех символов, кроме цифр и точек\n",
    "df['engine_capacity_liters'] = df['engine_capacity_liters'].str.replace(r'[^0-9.]', '', regex=True)"
   ]
  },
  {
   "cell_type": "code",
   "execution_count": 33,
   "id": "5cd0fc63",
   "metadata": {},
   "outputs": [
    {
     "data": {
      "text/plain": [
       "array(['Физ. Лицо', 'Юр. Лицо', '0'], dtype=object)"
      ]
     },
     "execution_count": 33,
     "metadata": {},
     "output_type": "execute_result"
    }
   ],
   "source": [
    "#удалим неявные дубли в customer_type с использованием регулярных выражений\n",
    "df['customer_type'] = df['customer_type'].str.replace(r'(?i)физ(\\.)? *лицо|физическое', 'Физ. Лицо', regex=True)\n",
    "df['customer_type'] = df['customer_type'].str.replace(r'(?i)(юр(\\.)? *лицо|юридическое|корп(\\.)? *клиент)', 'Юр. Лицо', regex=True)\n",
    "#проверим изменения\n",
    "df['customer_type'].unique()"
   ]
  },
  {
   "cell_type": "code",
   "execution_count": 34,
   "id": "3fb5131e",
   "metadata": {},
   "outputs": [
    {
     "data": {
      "text/plain": [
       "array(['DEU', 'USA', 'AUT', 'KAZ', 'RUS', 'KOR', 'JPN', 'THA', 'CHN',\n",
       "       'UK', 'UZB', 'HUN', 'TUR', 'ESP', 'NLD', 'POL', 'SWE', 'BLR',\n",
       "       'BEL'], dtype=object)"
      ]
     },
     "execution_count": 34,
     "metadata": {},
     "output_type": "execute_result"
    }
   ],
   "source": [
    "#кодируем страны в столбце страна производства в alpha3 (RUS, KAZ, USA и т.д.)\n",
    "country_codes = {'Австрия': \"AUT\",\n",
    "        \"Белоруссия\": \"BLR\",\n",
    "        \"Бельгия\": \"BEL\",\n",
    "        \"Венгрия\": \"HUN\",\n",
    "        \"Германия\": \"DEU\",\n",
    "        \"Испания\": \"ESP\",\n",
    "        \"Китай\": \"CHN\",\n",
    "        \"Корея\": \"KOR\",\n",
    "        \"Нидерланды\": \"NLD\",\n",
    "        \"Польша\": \"POL\",\n",
    "        \"Республика Казахстан\": \"KAZ\",\n",
    "        \"Российская Федерация\": \"RUS\",\n",
    "        \"США\": \"USA\",\n",
    "        \"Таиланд\": \"THA\",\n",
    "        \"Турция\": \"TUR\",\n",
    "        \"Узбекистан\": \"UZB\",\n",
    "        \"Швеция\": \"SWE\",\n",
    "        \"Япония\": \"JPN\",\n",
    "    }\n",
    "for index, row in df.iterrows():\n",
    "    country=row['manufacturer_country']\n",
    "    if country in country_codes:\n",
    "        df.at[index, 'manufacturer_country']=country_codes[country]\n",
    "df['manufacturer_country'].unique()"
   ]
  },
  {
   "cell_type": "code",
   "execution_count": 35,
   "id": "28a2336a",
   "metadata": {},
   "outputs": [
    {
     "data": {
      "text/plain": [
       "array(['Бензин', 'Дизель', '0', 'Гибрид', 'Электро'], dtype=object)"
      ]
     },
     "execution_count": 35,
     "metadata": {},
     "output_type": "execute_result"
    }
   ],
   "source": [
    "#кодируем тип топлива\n",
    "df['fuel_type'] = df['fuel_type'].str.replace('бензин', 'Бензин').str.replace('дизель', 'Дизель').str.replace('Электричество', 'Электро').str.replace('гибрид', 'Гибрид')\n",
    "df['fuel_type'].unique()"
   ]
  },
  {
   "cell_type": "code",
   "execution_count": 36,
   "id": "9fae0121",
   "metadata": {},
   "outputs": [
    {
     "data": {
      "text/plain": [
       "array(['FWD - передний привод', '4WD - полный привод',\n",
       "       'RWD - задний привод', '2WD - неполный привод', '0'], dtype=object)"
      ]
     },
     "execution_count": 36,
     "metadata": {},
     "output_type": "execute_result"
    }
   ],
   "source": [
    "#кодирукм тип привода ('FWD', 'FF', 2 WD' '2WD'-передний) ('AWD' 'quattro' '4Motion' '4 WD''4WD'  '4X4'  '4x4'  '4х4'-полный) ('4X2' '4x2' '4х2' '4х2.2'-неполный) ('RWD' задний)\n",
    "def code_drive_type(cell):\n",
    "    if cell in ['4WD', 'quattro', 'Полный', 'полный', 'AWD', '4 WD', '4Motion','4X4', '4x4', '4х4']:\n",
    "        return '4WD - полный привод'\n",
    "    elif cell in ['передний', 'FWD', 'Передний', 'Передний (FF)', 'FF']:\n",
    "        return 'FWD - передний привод'\n",
    "    elif cell in ['Задний', 'RWD']:\n",
    "        return 'RWD - задний привод'\n",
    "    elif cell in ['4X2', '4x2', '4х2', '4х2.2', '2 WD', '2WD']:\n",
    "        return '2WD - неполный привод'\n",
    "    else:\n",
    "        return cell\n",
    "df['drive_type'] = df['drive_type'].apply(code_drive_type)\n",
    "df['drive_type'].unique()"
   ]
  },
  {
   "cell_type": "markdown",
   "id": "4c966b76",
   "metadata": {},
   "source": [
    "Теперь необходимо разбить типы коробки передач по категориям"
   ]
  },
  {
   "cell_type": "code",
   "execution_count": 37,
   "id": "675123b3",
   "metadata": {},
   "outputs": [
    {
     "data": {
      "text/plain": [
       "array(['S-tronic', 'Tiptronic', 'AT', 'Steptronic', '6AT', '5MT', 'MT',\n",
       "       '8AT', 'Powershift S6', '0', '6MT', '5AT', '7DCT', 'CVT', 'DCT',\n",
       "       '4AT', '7G-TRONIC', '9G-TRONIC', '12AT', '7AT', 'PDK', '7PDK',\n",
       "       '8PDK', '7DSG', '6DSG', 'DSG', '9AT', 'РЕДУКТОР'], dtype=object)"
      ]
     },
     "execution_count": 37,
     "metadata": {},
     "output_type": "execute_result"
    }
   ],
   "source": [
    "#функция для кодирования transmission_type\n",
    "def code_drive_type(cell):\n",
    "    if cell in ['MT', 'Мех.', 'МТ', 'МКП', 'МКПП', 'МT', 'М/T','M/T']:\n",
    "        return 'MT'\n",
    "    elif cell in ['5МТ', '5 МТ', '5MT', '5M', '5М']:\n",
    "        return '5MT'\n",
    "    elif cell in ['6MT', '6 MT', '6МТ', '6M/T', '6 МТ']:\n",
    "        return '6MT'\n",
    "    elif cell in ['S-Tronic', '8 АКПП Tiptronic S']:\n",
    "        return 'S-tronic'\n",
    "    elif cell in ['АКПП', 'АКПП', 'AT', 'AMT', 'АТ', 'АT', 'A/T', 'А/T', 'АКП']:\n",
    "        return 'AT'\n",
    "    elif cell in ['4 АТ', '4АТ', '4AT']:\n",
    "        return '4AT'\n",
    "    elif cell in ['5 AT', '5AT', '5АТ']:\n",
    "        return '5AT'\n",
    "    elif cell in ['6 АТ', '6АТ', '6AT', '6 AT', '6A', '6А']:\n",
    "        return '6AT'\n",
    "    elif cell in ['7АТ', '7AT', '7 АКП', '7АКП', ' 7 АКП']:\n",
    "        return '7AT'\n",
    "    elif cell in ['8AT', '8 AT', '8АТ', '8-ступ АКПП', '8АКПП', '8A', '8 АТ']:\n",
    "        return '8AT'\n",
    "    elif cell in ['12AT', '12АТ']:\n",
    "        return '12AT'\n",
    "    elif cell in ['CVT', 'CVT (вариатор)', 'CVT (вариATор)','CVT(вAриATор)']:\n",
    "        return 'CVT'\n",
    "    elif cell in ['7 DCT', '7DCT']:\n",
    "        return '7DCT'\n",
    "    elif cell in ['7 АКПП (PDK)', '7 АКПП PDK']:\n",
    "        return '7PDK'\n",
    "    elif cell in ['8 АКПП (PDK)']:\n",
    "        return '8PDK'\n",
    "    elif cell in ['6 DSG']:\n",
    "        return '6DSG'\n",
    "    elif cell in ['7 DSG']:\n",
    "        return '7DSG'\n",
    "    else:\n",
    "        return cell\n",
    "df['transmission_type'] = df['transmission_type'].apply(code_drive_type)\n",
    "#проверим итог\n",
    "df['transmission_type'].unique()\n",
    "\n",
    "        "
   ]
  },
  {
   "cell_type": "code",
   "execution_count": 38,
   "id": "61293f01",
   "metadata": {},
   "outputs": [
    {
     "data": {
      "text/plain": [
       "0   2019-05-31\n",
       "1   2019-08-31\n",
       "2   2019-04-30\n",
       "3   2019-07-31\n",
       "4   2019-07-31\n",
       "Name: date, dtype: datetime64[ns]"
      ]
     },
     "execution_count": 38,
     "metadata": {},
     "output_type": "execute_result"
    }
   ],
   "source": [
    "#преобразуем названия месяцев в числа\n",
    "def monthToNum(shortMonth):\n",
    "    return {\n",
    "            'Январь': 1,\n",
    "            'Февраль': 2,\n",
    "            'Март': 3,\n",
    "            'Апрель': 4,\n",
    "            'Май': 5,\n",
    "            'Июнь': 6,\n",
    "            'Июль': 7,\n",
    "            'Август': 8,\n",
    "            'Сентябрь': 9, \n",
    "            'Октябрь': 10,\n",
    "            'Ноябрь': 11,\n",
    "            'Декабрь': 12\n",
    "    }[shortMonth]\n",
    "# Применяем функцию к столбцу 'month' и создаем новый столбец 'number_month'\n",
    "df['number_month'] = df['month'].apply(monthToNum)\n",
    "#преобразуем месяц и год в строковые значения для объединения в один столбец\n",
    "df['year'] = df['year'].astype('str')\n",
    "df['number_month'] = df['number_month'].astype('str')\n",
    "# Объединяем год и месяц с разделителем '-'\n",
    "df['date'] = df['year'] + '-' + df['number_month']\n",
    "# Преобразовываем столбец 'date' в тип данных datetime\n",
    "df['date'] = pd.to_datetime(df['date'], format='%Y-%m')\n",
    "#сделаем дату с последним днём месяца\n",
    "df['date'] = df['date'] + pd.offsets.MonthEnd(0)\n",
    "#проверим изменения \n",
    "df['date'].head()"
   ]
  },
  {
   "cell_type": "code",
   "execution_count": 39,
   "id": "d949e71f",
   "metadata": {},
   "outputs": [],
   "source": [
    "#меняем тип в engine_capacity_liters на float\n",
    "df['engine_capacity_liters']=df['engine_capacity_liters'].astype('float')"
   ]
  },
  {
   "cell_type": "code",
   "execution_count": 40,
   "id": "40878902",
   "metadata": {},
   "outputs": [],
   "source": [
    "#изменяем тип данных в нужных столбцах на int\n",
    "def type_str(df, value):\n",
    "    df[value] = df[value].astype('int')\n",
    "    return df\n",
    "s = ['year','number_month', 'manufacturing_year','quantity']\n",
    "df = type_str(df, s)"
   ]
  },
  {
   "cell_type": "code",
   "execution_count": 41,
   "id": "5ee084dd",
   "metadata": {},
   "outputs": [],
   "source": [
    "#изменяем тип данных в нужных столбцах на string\n",
    "def type_str(df, value):\n",
    "    df[value] = df[value].astype('string')\n",
    "    return df\n",
    "s = ['month', 'company', 'model', 'brand','manufacturer_country','transmission_type','region','customer_type','area']\n",
    "df = type_str(df, s)"
   ]
  },
  {
   "cell_type": "code",
   "execution_count": 42,
   "id": "6a661422",
   "metadata": {},
   "outputs": [],
   "source": [
    "df = df.drop(['manufacturing_year_fill', 'number_month'], axis =1)"
   ]
  },
  {
   "cell_type": "markdown",
   "id": "80231dd0",
   "metadata": {},
   "source": [
    "Разобьём столбцы на категории по типам: \n",
    "1. числовые: manufacturing_year, engine_capacity_liters, price_usd, sale_usd, \n",
    "2. категориальные (неупорядоченные): fuel_type, drive_type, segmentation_2013, class_2013\n",
    "3. текстовые: company, brand, model, manufacturer_country, transmission_type, region, customer_type, area\n",
    "4. временные: date (datetime)\n",
    "\n",
    "Осталось перобразовать категориальные столбцы к типу category, а в fuel_type и drive_type создать новую категорию вместо 0."
   ]
  },
  {
   "cell_type": "code",
   "execution_count": 43,
   "id": "ad5725c3",
   "metadata": {},
   "outputs": [],
   "source": [
    "df['fuel_type'] = df['fuel_type'].replace({'0': 'Неизвестно'})\n",
    "df['drive_type'] = df['drive_type'].replace({'0': 'Неизвестно'})"
   ]
  },
  {
   "cell_type": "code",
   "execution_count": 44,
   "id": "be97d307",
   "metadata": {},
   "outputs": [
    {
     "data": {
      "text/plain": [
       "\"Уникальные значения в столбце 'fuel_type': ['Бензин', 'Дизель', 'Неизвестно', 'Гибрид', 'Электро']\\nCategories (5, object): ['Бензин', 'Гибрид', 'Дизель', 'Неизвестно', 'Электро']\""
      ]
     },
     "metadata": {},
     "output_type": "display_data"
    },
    {
     "data": {
      "text/plain": [
       "\"Уникальные значения в столбце 'drive_type': ['FWD - передний привод', '4WD - полный привод', 'RWD - задний привод', '2WD - неполный привод', 'Неизвестно']\\nCategories (5, object): ['2WD - неполный привод', '4WD - полный привод', 'FWD - передний привод', 'RWD - задний привод', 'Неизвестно']\""
      ]
     },
     "metadata": {},
     "output_type": "display_data"
    },
    {
     "data": {
      "text/plain": [
       "\"Уникальные значения в столбце 'segmentation_2013': ['Легковые автомобили', 'Внедорожники', 'Коммерческие автомобили', 'Минивэны', 'Пикапы']\\nCategories (5, object): ['Внедорожники', 'Коммерческие автомобили', 'Легковые автомобили', 'Минивэны', 'Пикапы']\""
      ]
     },
     "metadata": {},
     "output_type": "display_data"
    },
    {
     "data": {
      "text/plain": [
       "\"Уникальные значения в столбце 'class_2013': ['C класс', 'D класс', 'E класс', 'F класс', 'Среднеразмерные SUV', ..., 'Средние автобусы', 'Pick-ups', 'Развозные автомобили', 'A класс', 'Компактвэн']\\nLength: 21\\nCategories (21, object): ['A класс', 'B класс', 'C класс', 'D класс', ..., 'Среднеразмерные SUV', 'Среднетоннажные грузовики', 'Средние автобусы', 'Субкомпактные SUV']\""
      ]
     },
     "metadata": {},
     "output_type": "display_data"
    }
   ],
   "source": [
    "#изменяем тип на category и проверим результат\n",
    "def category_type(df, columns):\n",
    "    for column in columns:\n",
    "        df[column] = df[column].astype('category')\n",
    "    return df\n",
    "columns_to_convert = ['fuel_type', 'drive_type', 'segmentation_2013', 'class_2013']\n",
    "df = category_type(df, columns_to_convert)\n",
    "for column in columns_to_convert:\n",
    "    unique_values = df[column].unique()\n",
    "    display(f\"Уникальные значения в столбце '{column}': {unique_values}\")\n"
   ]
  },
  {
   "cell_type": "code",
   "execution_count": 45,
   "id": "560cbce7",
   "metadata": {},
   "outputs": [
    {
     "name": "stdout",
     "output_type": "stream",
     "text": [
      "<class 'pandas.core.frame.DataFrame'>\n",
      "Int64Index: 39205 entries, 0 to 39959\n",
      "Data columns (total 20 columns):\n",
      " #   Column                  Non-Null Count  Dtype         \n",
      "---  ------                  --------------  -----         \n",
      " 0   year                    39205 non-null  int32         \n",
      " 1   month                   39205 non-null  string        \n",
      " 2   company                 39205 non-null  string        \n",
      " 3   brand                   39205 non-null  string        \n",
      " 4   model                   39205 non-null  string        \n",
      " 5   manufacturing_year      39205 non-null  int32         \n",
      " 6   manufacturer_country    39205 non-null  string        \n",
      " 7   fuel_type               39205 non-null  category      \n",
      " 8   engine_capacity_liters  38767 non-null  float64       \n",
      " 9   transmission_type       39205 non-null  string        \n",
      " 10  drive_type              39205 non-null  category      \n",
      " 11  region                  39205 non-null  string        \n",
      " 12  customer_type           39205 non-null  string        \n",
      " 13  quantity                39205 non-null  int32         \n",
      " 14  price_usd               39205 non-null  float64       \n",
      " 15  sale_usd                39205 non-null  float64       \n",
      " 16  area                    39205 non-null  string        \n",
      " 17  segmentation_2013       39205 non-null  category      \n",
      " 18  class_2013              39205 non-null  category      \n",
      " 19  date                    39205 non-null  datetime64[ns]\n",
      "dtypes: category(4), datetime64[ns](1), float64(3), int32(3), string(9)\n",
      "memory usage: 5.8 MB\n"
     ]
    }
   ],
   "source": [
    "df.info()"
   ]
  },
  {
   "cell_type": "markdown",
   "id": "522b1d5b",
   "metadata": {},
   "source": [
    "Типы данных приведены к нужным типам.  \n",
    "\n",
    "Вывод: в данных много неявных дубликатов и аномалий, в разделе \"очистка данных\" мы от них избавились, кодировали некоторые столбцы и привели столбцы к нужным типам, избавились от пропусков и создали столбец с датой."
   ]
  },
  {
   "cell_type": "markdown",
   "id": "7f029b15",
   "metadata": {},
   "source": [
    "## Исследовательский анализ"
   ]
  },
  {
   "cell_type": "markdown",
   "id": "002a0848",
   "metadata": {},
   "source": [
    "Анализ строк.\n",
    "Индексы в строках уникальные и упорядоченные, но они не несут смысловую нагрузку, это просто порядковый номер строки и задаётся автоматически.  \n",
    "Других признаков уникальности строк нет - номер машин удалён, времени продажи и уникальных номеров заказов нет.\n",
    "\n",
    "Строки не упорядочены по дате, значит данные поступали не сразу после продажи.  \n",
    "Строки упорядочены по бренду и модели, скорее всего данные собирались хаотично и автоматически сортировались по этим столбцам (A-Z)."
   ]
  },
  {
   "cell_type": "code",
   "execution_count": 46,
   "id": "42cc3120",
   "metadata": {},
   "outputs": [
    {
     "name": "stdout",
     "output_type": "stream",
     "text": [
      "Количество дубликатов: 21792\n",
      "Количество дубликатов в процентах: 55.58 %\n"
     ]
    }
   ],
   "source": [
    "print(\"Количество дубликатов:\", df.duplicated().sum())\n",
    "print(\"Количество дубликатов в процентах:\", round(df.duplicated().sum()/df['model'].count()*100, 2), \"%\")"
   ]
  },
  {
   "cell_type": "markdown",
   "id": "aa9df773",
   "metadata": {},
   "source": [
    "Большое количество полных дубликатов (53.5%). Либо строки дублировались, либо это уникальные, но похожие продажи (вероятность этого большая).    \n",
    "Можно сгруппировать дубликаты строк и посмотреть количество дубликатов для каждой уникальной строки.   \n",
    "Также можно посмотреть содержание строк с наибольшим количеством дубликатов."
   ]
  },
  {
   "cell_type": "code",
   "execution_count": 47,
   "id": "e8bade63",
   "metadata": {},
   "outputs": [
    {
     "name": "stdout",
     "output_type": "stream",
     "text": [
      "количество дубликатов уникальных строк по убыванию:\n"
     ]
    },
    {
     "data": {
      "text/plain": [
       "14142    364.0\n",
       "39769    138.0\n",
       "23072    105.0\n",
       "27469    104.0\n",
       "31727     96.0\n",
       "22687     88.0\n",
       "29446     87.0\n",
       "30730     85.0\n",
       "30431     80.0\n",
       "28440     72.0\n",
       "26679     69.0\n",
       "29243     68.0\n",
       "26513     67.0\n",
       "13860     63.0\n",
       "30225     62.0\n",
       "14482     61.0\n",
       "14699     59.0\n",
       "14927     56.0\n",
       "23205     54.0\n",
       "26441     53.0\n",
       "30547     52.0\n",
       "Name: duplicate_count, dtype: float64"
      ]
     },
     "execution_count": 47,
     "metadata": {},
     "output_type": "execute_result"
    }
   ],
   "source": [
    "#выведем наибольшее количество дубликатов уникальных строк\n",
    "df['duplicate_count'] = df.groupby(list(df.columns)).transform('size')\n",
    "print(\"количество дубликатов уникальных строк по убыванию:\")\n",
    "df[df['duplicate_count'] > 50]['duplicate_count'].sort_values(ascending=False).drop_duplicates()\n"
   ]
  },
  {
   "cell_type": "code",
   "execution_count": 48,
   "id": "4708e685",
   "metadata": {},
   "outputs": [
    {
     "data": {
      "text/plain": [
       "'Subset for duplicate_count = 364:'"
      ]
     },
     "metadata": {},
     "output_type": "display_data"
    },
    {
     "data": {
      "text/html": [
       "<div>\n",
       "<style scoped>\n",
       "    .dataframe tbody tr th:only-of-type {\n",
       "        vertical-align: middle;\n",
       "    }\n",
       "\n",
       "    .dataframe tbody tr th {\n",
       "        vertical-align: top;\n",
       "    }\n",
       "\n",
       "    .dataframe thead th {\n",
       "        text-align: right;\n",
       "    }\n",
       "</style>\n",
       "<table border=\"1\" class=\"dataframe\">\n",
       "  <thead>\n",
       "    <tr style=\"text-align: right;\">\n",
       "      <th></th>\n",
       "      <th>year</th>\n",
       "      <th>month</th>\n",
       "      <th>company</th>\n",
       "      <th>brand</th>\n",
       "      <th>model</th>\n",
       "      <th>manufacturing_year</th>\n",
       "      <th>manufacturer_country</th>\n",
       "      <th>fuel_type</th>\n",
       "      <th>engine_capacity_liters</th>\n",
       "      <th>transmission_type</th>\n",
       "      <th>...</th>\n",
       "      <th>region</th>\n",
       "      <th>customer_type</th>\n",
       "      <th>quantity</th>\n",
       "      <th>price_usd</th>\n",
       "      <th>sale_usd</th>\n",
       "      <th>area</th>\n",
       "      <th>segmentation_2013</th>\n",
       "      <th>class_2013</th>\n",
       "      <th>date</th>\n",
       "      <th>duplicate_count</th>\n",
       "    </tr>\n",
       "  </thead>\n",
       "  <tbody>\n",
       "    <tr>\n",
       "      <th>14061</th>\n",
       "      <td>2019</td>\n",
       "      <td>Июль</td>\n",
       "      <td>Allur Auto</td>\n",
       "      <td>Jac</td>\n",
       "      <td>S3</td>\n",
       "      <td>2019</td>\n",
       "      <td>KAZ</td>\n",
       "      <td>Бензин</td>\n",
       "      <td>1.6</td>\n",
       "      <td>CVT</td>\n",
       "      <td>...</td>\n",
       "      <td>ЭКСПОРТ</td>\n",
       "      <td>Юр. Лицо</td>\n",
       "      <td>1</td>\n",
       "      <td>12819.73695</td>\n",
       "      <td>12819.73695</td>\n",
       "      <td>Экспорт область</td>\n",
       "      <td>Внедорожники</td>\n",
       "      <td>Субкомпактные SUV</td>\n",
       "      <td>2019-07-31</td>\n",
       "      <td>364.0</td>\n",
       "    </tr>\n",
       "  </tbody>\n",
       "</table>\n",
       "<p>1 rows × 21 columns</p>\n",
       "</div>"
      ],
      "text/plain": [
       "       year month     company brand model  manufacturing_year  \\\n",
       "14061  2019  Июль  Allur Auto   Jac    S3                2019   \n",
       "\n",
       "      manufacturer_country fuel_type  engine_capacity_liters  \\\n",
       "14061                  KAZ    Бензин                     1.6   \n",
       "\n",
       "      transmission_type  ...   region customer_type quantity    price_usd  \\\n",
       "14061               CVT  ...  ЭКСПОРТ      Юр. Лицо        1  12819.73695   \n",
       "\n",
       "          sale_usd             area segmentation_2013         class_2013  \\\n",
       "14061  12819.73695  Экспорт область      Внедорожники  Субкомпактные SUV   \n",
       "\n",
       "            date duplicate_count  \n",
       "14061 2019-07-31           364.0  \n",
       "\n",
       "[1 rows x 21 columns]"
      ]
     },
     "metadata": {},
     "output_type": "display_data"
    },
    {
     "data": {
      "text/plain": [
       "'Subset for duplicate_count = 138:'"
      ]
     },
     "metadata": {},
     "output_type": "display_data"
    },
    {
     "data": {
      "text/html": [
       "<div>\n",
       "<style scoped>\n",
       "    .dataframe tbody tr th:only-of-type {\n",
       "        vertical-align: middle;\n",
       "    }\n",
       "\n",
       "    .dataframe tbody tr th {\n",
       "        vertical-align: top;\n",
       "    }\n",
       "\n",
       "    .dataframe thead th {\n",
       "        text-align: right;\n",
       "    }\n",
       "</style>\n",
       "<table border=\"1\" class=\"dataframe\">\n",
       "  <thead>\n",
       "    <tr style=\"text-align: right;\">\n",
       "      <th></th>\n",
       "      <th>year</th>\n",
       "      <th>month</th>\n",
       "      <th>company</th>\n",
       "      <th>brand</th>\n",
       "      <th>model</th>\n",
       "      <th>manufacturing_year</th>\n",
       "      <th>manufacturer_country</th>\n",
       "      <th>fuel_type</th>\n",
       "      <th>engine_capacity_liters</th>\n",
       "      <th>transmission_type</th>\n",
       "      <th>...</th>\n",
       "      <th>region</th>\n",
       "      <th>customer_type</th>\n",
       "      <th>quantity</th>\n",
       "      <th>price_usd</th>\n",
       "      <th>sale_usd</th>\n",
       "      <th>area</th>\n",
       "      <th>segmentation_2013</th>\n",
       "      <th>class_2013</th>\n",
       "      <th>date</th>\n",
       "      <th>duplicate_count</th>\n",
       "    </tr>\n",
       "  </thead>\n",
       "  <tbody>\n",
       "    <tr>\n",
       "      <th>39632</th>\n",
       "      <td>2019</td>\n",
       "      <td>Июль</td>\n",
       "      <td>Allur Auto</td>\n",
       "      <td>ANKAI</td>\n",
       "      <td>HFF6850G</td>\n",
       "      <td>2019</td>\n",
       "      <td>KAZ</td>\n",
       "      <td>Дизель</td>\n",
       "      <td>4.98</td>\n",
       "      <td>MT</td>\n",
       "      <td>...</td>\n",
       "      <td>Костанай</td>\n",
       "      <td>Юр. Лицо</td>\n",
       "      <td>1</td>\n",
       "      <td>80905.0472</td>\n",
       "      <td>80905.0472</td>\n",
       "      <td>Костанайская область</td>\n",
       "      <td>Коммерческие автомобили</td>\n",
       "      <td>Большие автобусы</td>\n",
       "      <td>2019-07-31</td>\n",
       "      <td>138.0</td>\n",
       "    </tr>\n",
       "  </tbody>\n",
       "</table>\n",
       "<p>1 rows × 21 columns</p>\n",
       "</div>"
      ],
      "text/plain": [
       "       year month     company  brand     model  manufacturing_year  \\\n",
       "39632  2019  Июль  Allur Auto  ANKAI  HFF6850G                2019   \n",
       "\n",
       "      manufacturer_country fuel_type  engine_capacity_liters  \\\n",
       "39632                  KAZ    Дизель                    4.98   \n",
       "\n",
       "      transmission_type  ...    region customer_type quantity   price_usd  \\\n",
       "39632                MT  ...  Костанай      Юр. Лицо        1  80905.0472   \n",
       "\n",
       "         sale_usd                  area        segmentation_2013  \\\n",
       "39632  80905.0472  Костанайская область  Коммерческие автомобили   \n",
       "\n",
       "             class_2013       date duplicate_count  \n",
       "39632  Большие автобусы 2019-07-31           138.0  \n",
       "\n",
       "[1 rows x 21 columns]"
      ]
     },
     "metadata": {},
     "output_type": "display_data"
    },
    {
     "data": {
      "text/plain": [
       "'Subset for duplicate_count = 105:'"
      ]
     },
     "metadata": {},
     "output_type": "display_data"
    },
    {
     "data": {
      "text/html": [
       "<div>\n",
       "<style scoped>\n",
       "    .dataframe tbody tr th:only-of-type {\n",
       "        vertical-align: middle;\n",
       "    }\n",
       "\n",
       "    .dataframe tbody tr th {\n",
       "        vertical-align: top;\n",
       "    }\n",
       "\n",
       "    .dataframe thead th {\n",
       "        text-align: right;\n",
       "    }\n",
       "</style>\n",
       "<table border=\"1\" class=\"dataframe\">\n",
       "  <thead>\n",
       "    <tr style=\"text-align: right;\">\n",
       "      <th></th>\n",
       "      <th>year</th>\n",
       "      <th>month</th>\n",
       "      <th>company</th>\n",
       "      <th>brand</th>\n",
       "      <th>model</th>\n",
       "      <th>manufacturing_year</th>\n",
       "      <th>manufacturer_country</th>\n",
       "      <th>fuel_type</th>\n",
       "      <th>engine_capacity_liters</th>\n",
       "      <th>transmission_type</th>\n",
       "      <th>...</th>\n",
       "      <th>region</th>\n",
       "      <th>customer_type</th>\n",
       "      <th>quantity</th>\n",
       "      <th>price_usd</th>\n",
       "      <th>sale_usd</th>\n",
       "      <th>area</th>\n",
       "      <th>segmentation_2013</th>\n",
       "      <th>class_2013</th>\n",
       "      <th>date</th>\n",
       "      <th>duplicate_count</th>\n",
       "    </tr>\n",
       "  </thead>\n",
       "  <tbody>\n",
       "    <tr>\n",
       "      <th>13747</th>\n",
       "      <td>2019</td>\n",
       "      <td>Май</td>\n",
       "      <td>Allur Auto</td>\n",
       "      <td>Jac</td>\n",
       "      <td>S3</td>\n",
       "      <td>2018</td>\n",
       "      <td>KAZ</td>\n",
       "      <td>Бензин</td>\n",
       "      <td>1.6</td>\n",
       "      <td>MT</td>\n",
       "      <td>...</td>\n",
       "      <td>ЭКСПОРТ</td>\n",
       "      <td>0</td>\n",
       "      <td>1</td>\n",
       "      <td>12947.368420</td>\n",
       "      <td>12947.368420</td>\n",
       "      <td>Экспорт область</td>\n",
       "      <td>Внедорожники</td>\n",
       "      <td>Субкомпактные SUV</td>\n",
       "      <td>2019-05-31</td>\n",
       "      <td>105.0</td>\n",
       "    </tr>\n",
       "    <tr>\n",
       "      <th>23065</th>\n",
       "      <td>2019</td>\n",
       "      <td>Сентябрь</td>\n",
       "      <td>Ravon Motors Kazakstan</td>\n",
       "      <td>Ravon</td>\n",
       "      <td>Nexia R3</td>\n",
       "      <td>2019</td>\n",
       "      <td>KAZ</td>\n",
       "      <td>Бензин</td>\n",
       "      <td>1.5</td>\n",
       "      <td>AT</td>\n",
       "      <td>...</td>\n",
       "      <td>Алматы</td>\n",
       "      <td>Физ. Лицо</td>\n",
       "      <td>1</td>\n",
       "      <td>9884.695773</td>\n",
       "      <td>9884.695773</td>\n",
       "      <td>г.Алматы</td>\n",
       "      <td>Легковые автомобили</td>\n",
       "      <td>B класс</td>\n",
       "      <td>2019-09-30</td>\n",
       "      <td>105.0</td>\n",
       "    </tr>\n",
       "  </tbody>\n",
       "</table>\n",
       "<p>2 rows × 21 columns</p>\n",
       "</div>"
      ],
      "text/plain": [
       "       year     month                 company  brand     model  \\\n",
       "13747  2019       Май              Allur Auto    Jac        S3   \n",
       "23065  2019  Сентябрь  Ravon Motors Kazakstan  Ravon  Nexia R3   \n",
       "\n",
       "       manufacturing_year manufacturer_country fuel_type  \\\n",
       "13747                2018                  KAZ    Бензин   \n",
       "23065                2019                  KAZ    Бензин   \n",
       "\n",
       "       engine_capacity_liters transmission_type  ...   region customer_type  \\\n",
       "13747                     1.6                MT  ...  ЭКСПОРТ             0   \n",
       "23065                     1.5                AT  ...   Алматы     Физ. Лицо   \n",
       "\n",
       "      quantity     price_usd      sale_usd             area  \\\n",
       "13747        1  12947.368420  12947.368420  Экспорт область   \n",
       "23065        1   9884.695773   9884.695773         г.Алматы   \n",
       "\n",
       "         segmentation_2013         class_2013       date duplicate_count  \n",
       "13747         Внедорожники  Субкомпактные SUV 2019-05-31           105.0  \n",
       "23065  Легковые автомобили            B класс 2019-09-30           105.0  \n",
       "\n",
       "[2 rows x 21 columns]"
      ]
     },
     "metadata": {},
     "output_type": "display_data"
    },
    {
     "data": {
      "text/plain": [
       "'Subset for duplicate_count = 96:'"
      ]
     },
     "metadata": {},
     "output_type": "display_data"
    },
    {
     "data": {
      "text/html": [
       "<div>\n",
       "<style scoped>\n",
       "    .dataframe tbody tr th:only-of-type {\n",
       "        vertical-align: middle;\n",
       "    }\n",
       "\n",
       "    .dataframe tbody tr th {\n",
       "        vertical-align: top;\n",
       "    }\n",
       "\n",
       "    .dataframe thead th {\n",
       "        text-align: right;\n",
       "    }\n",
       "</style>\n",
       "<table border=\"1\" class=\"dataframe\">\n",
       "  <thead>\n",
       "    <tr style=\"text-align: right;\">\n",
       "      <th></th>\n",
       "      <th>year</th>\n",
       "      <th>month</th>\n",
       "      <th>company</th>\n",
       "      <th>brand</th>\n",
       "      <th>model</th>\n",
       "      <th>manufacturing_year</th>\n",
       "      <th>manufacturer_country</th>\n",
       "      <th>fuel_type</th>\n",
       "      <th>engine_capacity_liters</th>\n",
       "      <th>transmission_type</th>\n",
       "      <th>...</th>\n",
       "      <th>region</th>\n",
       "      <th>customer_type</th>\n",
       "      <th>quantity</th>\n",
       "      <th>price_usd</th>\n",
       "      <th>sale_usd</th>\n",
       "      <th>area</th>\n",
       "      <th>segmentation_2013</th>\n",
       "      <th>class_2013</th>\n",
       "      <th>date</th>\n",
       "      <th>duplicate_count</th>\n",
       "    </tr>\n",
       "  </thead>\n",
       "  <tbody>\n",
       "    <tr>\n",
       "      <th>31639</th>\n",
       "      <td>2019</td>\n",
       "      <td>Июль</td>\n",
       "      <td>Toyota Motor Kazakhstan</td>\n",
       "      <td>Toyota</td>\n",
       "      <td>Corolla</td>\n",
       "      <td>2019</td>\n",
       "      <td>TUR</td>\n",
       "      <td>Бензин</td>\n",
       "      <td>2.7</td>\n",
       "      <td>AT</td>\n",
       "      <td>...</td>\n",
       "      <td>Алматы</td>\n",
       "      <td>Юр. Лицо</td>\n",
       "      <td>1</td>\n",
       "      <td>41664.14508</td>\n",
       "      <td>41664.14508</td>\n",
       "      <td>г.Алматы</td>\n",
       "      <td>Легковые автомобили</td>\n",
       "      <td>C класс</td>\n",
       "      <td>2019-07-31</td>\n",
       "      <td>96.0</td>\n",
       "    </tr>\n",
       "  </tbody>\n",
       "</table>\n",
       "<p>1 rows × 21 columns</p>\n",
       "</div>"
      ],
      "text/plain": [
       "       year month                  company   brand    model  \\\n",
       "31639  2019  Июль  Toyota Motor Kazakhstan  Toyota  Corolla   \n",
       "\n",
       "       manufacturing_year manufacturer_country fuel_type  \\\n",
       "31639                2019                  TUR    Бензин   \n",
       "\n",
       "       engine_capacity_liters transmission_type  ...  region customer_type  \\\n",
       "31639                     2.7                AT  ...  Алматы      Юр. Лицо   \n",
       "\n",
       "      quantity    price_usd     sale_usd      area    segmentation_2013  \\\n",
       "31639        1  41664.14508  41664.14508  г.Алматы  Легковые автомобили   \n",
       "\n",
       "      class_2013       date duplicate_count  \n",
       "31639    C класс 2019-07-31            96.0  \n",
       "\n",
       "[1 rows x 21 columns]"
      ]
     },
     "metadata": {},
     "output_type": "display_data"
    },
    {
     "data": {
      "text/plain": [
       "'Subset for duplicate_count = 88:'"
      ]
     },
     "metadata": {},
     "output_type": "display_data"
    },
    {
     "data": {
      "text/html": [
       "<div>\n",
       "<style scoped>\n",
       "    .dataframe tbody tr th:only-of-type {\n",
       "        vertical-align: middle;\n",
       "    }\n",
       "\n",
       "    .dataframe tbody tr th {\n",
       "        vertical-align: top;\n",
       "    }\n",
       "\n",
       "    .dataframe thead th {\n",
       "        text-align: right;\n",
       "    }\n",
       "</style>\n",
       "<table border=\"1\" class=\"dataframe\">\n",
       "  <thead>\n",
       "    <tr style=\"text-align: right;\">\n",
       "      <th></th>\n",
       "      <th>year</th>\n",
       "      <th>month</th>\n",
       "      <th>company</th>\n",
       "      <th>brand</th>\n",
       "      <th>model</th>\n",
       "      <th>manufacturing_year</th>\n",
       "      <th>manufacturer_country</th>\n",
       "      <th>fuel_type</th>\n",
       "      <th>engine_capacity_liters</th>\n",
       "      <th>transmission_type</th>\n",
       "      <th>...</th>\n",
       "      <th>region</th>\n",
       "      <th>customer_type</th>\n",
       "      <th>quantity</th>\n",
       "      <th>price_usd</th>\n",
       "      <th>sale_usd</th>\n",
       "      <th>area</th>\n",
       "      <th>segmentation_2013</th>\n",
       "      <th>class_2013</th>\n",
       "      <th>date</th>\n",
       "      <th>duplicate_count</th>\n",
       "    </tr>\n",
       "  </thead>\n",
       "  <tbody>\n",
       "    <tr>\n",
       "      <th>22621</th>\n",
       "      <td>2019</td>\n",
       "      <td>Август</td>\n",
       "      <td>Ravon Motors Kazakstan</td>\n",
       "      <td>Ravon</td>\n",
       "      <td>Nexia R3</td>\n",
       "      <td>2019</td>\n",
       "      <td>KAZ</td>\n",
       "      <td>Бензин</td>\n",
       "      <td>1.5</td>\n",
       "      <td>AT</td>\n",
       "      <td>...</td>\n",
       "      <td>Алматы</td>\n",
       "      <td>Физ. Лицо</td>\n",
       "      <td>1</td>\n",
       "      <td>9893.925137</td>\n",
       "      <td>9893.925137</td>\n",
       "      <td>г.Алматы</td>\n",
       "      <td>Легковые автомобили</td>\n",
       "      <td>B класс</td>\n",
       "      <td>2019-08-31</td>\n",
       "      <td>88.0</td>\n",
       "    </tr>\n",
       "  </tbody>\n",
       "</table>\n",
       "<p>1 rows × 21 columns</p>\n",
       "</div>"
      ],
      "text/plain": [
       "       year   month                 company  brand     model  \\\n",
       "22621  2019  Август  Ravon Motors Kazakstan  Ravon  Nexia R3   \n",
       "\n",
       "       manufacturing_year manufacturer_country fuel_type  \\\n",
       "22621                2019                  KAZ    Бензин   \n",
       "\n",
       "       engine_capacity_liters transmission_type  ...  region customer_type  \\\n",
       "22621                     1.5                AT  ...  Алматы     Физ. Лицо   \n",
       "\n",
       "      quantity    price_usd     sale_usd      area    segmentation_2013  \\\n",
       "22621        1  9893.925137  9893.925137  г.Алматы  Легковые автомобили   \n",
       "\n",
       "      class_2013       date duplicate_count  \n",
       "22621    B класс 2019-08-31            88.0  \n",
       "\n",
       "[1 rows x 21 columns]"
      ]
     },
     "metadata": {},
     "output_type": "display_data"
    },
    {
     "data": {
      "text/plain": [
       "'Subset for duplicate_count = 87:'"
      ]
     },
     "metadata": {},
     "output_type": "display_data"
    },
    {
     "data": {
      "text/html": [
       "<div>\n",
       "<style scoped>\n",
       "    .dataframe tbody tr th:only-of-type {\n",
       "        vertical-align: middle;\n",
       "    }\n",
       "\n",
       "    .dataframe tbody tr th {\n",
       "        vertical-align: top;\n",
       "    }\n",
       "\n",
       "    .dataframe thead th {\n",
       "        text-align: right;\n",
       "    }\n",
       "</style>\n",
       "<table border=\"1\" class=\"dataframe\">\n",
       "  <thead>\n",
       "    <tr style=\"text-align: right;\">\n",
       "      <th></th>\n",
       "      <th>year</th>\n",
       "      <th>month</th>\n",
       "      <th>company</th>\n",
       "      <th>brand</th>\n",
       "      <th>model</th>\n",
       "      <th>manufacturing_year</th>\n",
       "      <th>manufacturer_country</th>\n",
       "      <th>fuel_type</th>\n",
       "      <th>engine_capacity_liters</th>\n",
       "      <th>transmission_type</th>\n",
       "      <th>...</th>\n",
       "      <th>region</th>\n",
       "      <th>customer_type</th>\n",
       "      <th>quantity</th>\n",
       "      <th>price_usd</th>\n",
       "      <th>sale_usd</th>\n",
       "      <th>area</th>\n",
       "      <th>segmentation_2013</th>\n",
       "      <th>class_2013</th>\n",
       "      <th>date</th>\n",
       "      <th>duplicate_count</th>\n",
       "    </tr>\n",
       "  </thead>\n",
       "  <tbody>\n",
       "    <tr>\n",
       "      <th>29269</th>\n",
       "      <td>2019</td>\n",
       "      <td>Июль</td>\n",
       "      <td>Toyota Motor Kazakhstan</td>\n",
       "      <td>Toyota</td>\n",
       "      <td>Camry</td>\n",
       "      <td>2019</td>\n",
       "      <td>RUS</td>\n",
       "      <td>Бензин</td>\n",
       "      <td>2.5</td>\n",
       "      <td>AT</td>\n",
       "      <td>...</td>\n",
       "      <td>Алматы</td>\n",
       "      <td>Физ. Лицо</td>\n",
       "      <td>1</td>\n",
       "      <td>32752.86452</td>\n",
       "      <td>32752.86452</td>\n",
       "      <td>г.Алматы</td>\n",
       "      <td>Легковые автомобили</td>\n",
       "      <td>D класс</td>\n",
       "      <td>2019-07-31</td>\n",
       "      <td>87.0</td>\n",
       "    </tr>\n",
       "  </tbody>\n",
       "</table>\n",
       "<p>1 rows × 21 columns</p>\n",
       "</div>"
      ],
      "text/plain": [
       "       year month                  company   brand  model  manufacturing_year  \\\n",
       "29269  2019  Июль  Toyota Motor Kazakhstan  Toyota  Camry                2019   \n",
       "\n",
       "      manufacturer_country fuel_type  engine_capacity_liters  \\\n",
       "29269                  RUS    Бензин                     2.5   \n",
       "\n",
       "      transmission_type  ...  region customer_type quantity    price_usd  \\\n",
       "29269                AT  ...  Алматы     Физ. Лицо        1  32752.86452   \n",
       "\n",
       "          sale_usd      area    segmentation_2013 class_2013       date  \\\n",
       "29269  32752.86452  г.Алматы  Легковые автомобили    D класс 2019-07-31   \n",
       "\n",
       "      duplicate_count  \n",
       "29269            87.0  \n",
       "\n",
       "[1 rows x 21 columns]"
      ]
     },
     "metadata": {},
     "output_type": "display_data"
    },
    {
     "data": {
      "text/plain": [
       "'Subset for duplicate_count = 85:'"
      ]
     },
     "metadata": {},
     "output_type": "display_data"
    },
    {
     "data": {
      "text/html": [
       "<div>\n",
       "<style scoped>\n",
       "    .dataframe tbody tr th:only-of-type {\n",
       "        vertical-align: middle;\n",
       "    }\n",
       "\n",
       "    .dataframe tbody tr th {\n",
       "        vertical-align: top;\n",
       "    }\n",
       "\n",
       "    .dataframe thead th {\n",
       "        text-align: right;\n",
       "    }\n",
       "</style>\n",
       "<table border=\"1\" class=\"dataframe\">\n",
       "  <thead>\n",
       "    <tr style=\"text-align: right;\">\n",
       "      <th></th>\n",
       "      <th>year</th>\n",
       "      <th>month</th>\n",
       "      <th>company</th>\n",
       "      <th>brand</th>\n",
       "      <th>model</th>\n",
       "      <th>manufacturing_year</th>\n",
       "      <th>manufacturer_country</th>\n",
       "      <th>fuel_type</th>\n",
       "      <th>engine_capacity_liters</th>\n",
       "      <th>transmission_type</th>\n",
       "      <th>...</th>\n",
       "      <th>region</th>\n",
       "      <th>customer_type</th>\n",
       "      <th>quantity</th>\n",
       "      <th>price_usd</th>\n",
       "      <th>sale_usd</th>\n",
       "      <th>area</th>\n",
       "      <th>segmentation_2013</th>\n",
       "      <th>class_2013</th>\n",
       "      <th>date</th>\n",
       "      <th>duplicate_count</th>\n",
       "    </tr>\n",
       "  </thead>\n",
       "  <tbody>\n",
       "    <tr>\n",
       "      <th>30463</th>\n",
       "      <td>2019</td>\n",
       "      <td>Сентябрь</td>\n",
       "      <td>Toyota Motor Kazakhstan</td>\n",
       "      <td>Toyota</td>\n",
       "      <td>Camry</td>\n",
       "      <td>2019</td>\n",
       "      <td>RUS</td>\n",
       "      <td>Бензин</td>\n",
       "      <td>2.5</td>\n",
       "      <td>AT</td>\n",
       "      <td>...</td>\n",
       "      <td>Алматы</td>\n",
       "      <td>Физ. Лицо</td>\n",
       "      <td>1</td>\n",
       "      <td>32475.33347</td>\n",
       "      <td>32475.33347</td>\n",
       "      <td>г.Алматы</td>\n",
       "      <td>Легковые автомобили</td>\n",
       "      <td>D класс</td>\n",
       "      <td>2019-09-30</td>\n",
       "      <td>85.0</td>\n",
       "    </tr>\n",
       "  </tbody>\n",
       "</table>\n",
       "<p>1 rows × 21 columns</p>\n",
       "</div>"
      ],
      "text/plain": [
       "       year     month                  company   brand  model  \\\n",
       "30463  2019  Сентябрь  Toyota Motor Kazakhstan  Toyota  Camry   \n",
       "\n",
       "       manufacturing_year manufacturer_country fuel_type  \\\n",
       "30463                2019                  RUS    Бензин   \n",
       "\n",
       "       engine_capacity_liters transmission_type  ...  region customer_type  \\\n",
       "30463                     2.5                AT  ...  Алматы     Физ. Лицо   \n",
       "\n",
       "      quantity    price_usd     sale_usd      area    segmentation_2013  \\\n",
       "30463        1  32475.33347  32475.33347  г.Алматы  Легковые автомобили   \n",
       "\n",
       "      class_2013       date duplicate_count  \n",
       "30463    D класс 2019-09-30            85.0  \n",
       "\n",
       "[1 rows x 21 columns]"
      ]
     },
     "metadata": {},
     "output_type": "display_data"
    },
    {
     "data": {
      "text/plain": [
       "'Subset for duplicate_count = 80:'"
      ]
     },
     "metadata": {},
     "output_type": "display_data"
    },
    {
     "data": {
      "text/html": [
       "<div>\n",
       "<style scoped>\n",
       "    .dataframe tbody tr th:only-of-type {\n",
       "        vertical-align: middle;\n",
       "    }\n",
       "\n",
       "    .dataframe tbody tr th {\n",
       "        vertical-align: top;\n",
       "    }\n",
       "\n",
       "    .dataframe thead th {\n",
       "        text-align: right;\n",
       "    }\n",
       "</style>\n",
       "<table border=\"1\" class=\"dataframe\">\n",
       "  <thead>\n",
       "    <tr style=\"text-align: right;\">\n",
       "      <th></th>\n",
       "      <th>year</th>\n",
       "      <th>month</th>\n",
       "      <th>company</th>\n",
       "      <th>brand</th>\n",
       "      <th>model</th>\n",
       "      <th>manufacturing_year</th>\n",
       "      <th>manufacturer_country</th>\n",
       "      <th>fuel_type</th>\n",
       "      <th>engine_capacity_liters</th>\n",
       "      <th>transmission_type</th>\n",
       "      <th>...</th>\n",
       "      <th>region</th>\n",
       "      <th>customer_type</th>\n",
       "      <th>quantity</th>\n",
       "      <th>price_usd</th>\n",
       "      <th>sale_usd</th>\n",
       "      <th>area</th>\n",
       "      <th>segmentation_2013</th>\n",
       "      <th>class_2013</th>\n",
       "      <th>date</th>\n",
       "      <th>duplicate_count</th>\n",
       "    </tr>\n",
       "  </thead>\n",
       "  <tbody>\n",
       "    <tr>\n",
       "      <th>29886</th>\n",
       "      <td>2019</td>\n",
       "      <td>Август</td>\n",
       "      <td>Toyota Motor Kazakhstan</td>\n",
       "      <td>Toyota</td>\n",
       "      <td>Camry</td>\n",
       "      <td>2019</td>\n",
       "      <td>RUS</td>\n",
       "      <td>Бензин</td>\n",
       "      <td>2.5</td>\n",
       "      <td>AT</td>\n",
       "      <td>...</td>\n",
       "      <td>Алматы</td>\n",
       "      <td>Физ. Лицо</td>\n",
       "      <td>1</td>\n",
       "      <td>32505.65577</td>\n",
       "      <td>32505.65577</td>\n",
       "      <td>г.Алматы</td>\n",
       "      <td>Легковые автомобили</td>\n",
       "      <td>D класс</td>\n",
       "      <td>2019-08-31</td>\n",
       "      <td>80.0</td>\n",
       "    </tr>\n",
       "  </tbody>\n",
       "</table>\n",
       "<p>1 rows × 21 columns</p>\n",
       "</div>"
      ],
      "text/plain": [
       "       year   month                  company   brand  model  \\\n",
       "29886  2019  Август  Toyota Motor Kazakhstan  Toyota  Camry   \n",
       "\n",
       "       manufacturing_year manufacturer_country fuel_type  \\\n",
       "29886                2019                  RUS    Бензин   \n",
       "\n",
       "       engine_capacity_liters transmission_type  ...  region customer_type  \\\n",
       "29886                     2.5                AT  ...  Алматы     Физ. Лицо   \n",
       "\n",
       "      quantity    price_usd     sale_usd      area    segmentation_2013  \\\n",
       "29886        1  32505.65577  32505.65577  г.Алматы  Легковые автомобили   \n",
       "\n",
       "      class_2013       date duplicate_count  \n",
       "29886    D класс 2019-08-31            80.0  \n",
       "\n",
       "[1 rows x 21 columns]"
      ]
     },
     "metadata": {},
     "output_type": "display_data"
    },
    {
     "data": {
      "text/plain": [
       "'Subset for duplicate_count = 72:'"
      ]
     },
     "metadata": {},
     "output_type": "display_data"
    },
    {
     "data": {
      "text/html": [
       "<div>\n",
       "<style scoped>\n",
       "    .dataframe tbody tr th:only-of-type {\n",
       "        vertical-align: middle;\n",
       "    }\n",
       "\n",
       "    .dataframe tbody tr th {\n",
       "        vertical-align: top;\n",
       "    }\n",
       "\n",
       "    .dataframe thead th {\n",
       "        text-align: right;\n",
       "    }\n",
       "</style>\n",
       "<table border=\"1\" class=\"dataframe\">\n",
       "  <thead>\n",
       "    <tr style=\"text-align: right;\">\n",
       "      <th></th>\n",
       "      <th>year</th>\n",
       "      <th>month</th>\n",
       "      <th>company</th>\n",
       "      <th>brand</th>\n",
       "      <th>model</th>\n",
       "      <th>manufacturing_year</th>\n",
       "      <th>manufacturer_country</th>\n",
       "      <th>fuel_type</th>\n",
       "      <th>engine_capacity_liters</th>\n",
       "      <th>transmission_type</th>\n",
       "      <th>...</th>\n",
       "      <th>region</th>\n",
       "      <th>customer_type</th>\n",
       "      <th>quantity</th>\n",
       "      <th>price_usd</th>\n",
       "      <th>sale_usd</th>\n",
       "      <th>area</th>\n",
       "      <th>segmentation_2013</th>\n",
       "      <th>class_2013</th>\n",
       "      <th>date</th>\n",
       "      <th>duplicate_count</th>\n",
       "    </tr>\n",
       "  </thead>\n",
       "  <tbody>\n",
       "    <tr>\n",
       "      <th>28210</th>\n",
       "      <td>2019</td>\n",
       "      <td>Май</td>\n",
       "      <td>Toyota Motor Kazakhstan</td>\n",
       "      <td>Toyota</td>\n",
       "      <td>Camry</td>\n",
       "      <td>2019</td>\n",
       "      <td>RUS</td>\n",
       "      <td>Бензин</td>\n",
       "      <td>2.5</td>\n",
       "      <td>AT</td>\n",
       "      <td>...</td>\n",
       "      <td>Алматы</td>\n",
       "      <td>Физ. Лицо</td>\n",
       "      <td>1</td>\n",
       "      <td>33077.73995</td>\n",
       "      <td>33077.73995</td>\n",
       "      <td>г.Алматы</td>\n",
       "      <td>Легковые автомобили</td>\n",
       "      <td>D класс</td>\n",
       "      <td>2019-05-31</td>\n",
       "      <td>72.0</td>\n",
       "    </tr>\n",
       "  </tbody>\n",
       "</table>\n",
       "<p>1 rows × 21 columns</p>\n",
       "</div>"
      ],
      "text/plain": [
       "       year month                  company   brand  model  manufacturing_year  \\\n",
       "28210  2019   Май  Toyota Motor Kazakhstan  Toyota  Camry                2019   \n",
       "\n",
       "      manufacturer_country fuel_type  engine_capacity_liters  \\\n",
       "28210                  RUS    Бензин                     2.5   \n",
       "\n",
       "      transmission_type  ...  region customer_type quantity    price_usd  \\\n",
       "28210                AT  ...  Алматы     Физ. Лицо        1  33077.73995   \n",
       "\n",
       "          sale_usd      area    segmentation_2013 class_2013       date  \\\n",
       "28210  33077.73995  г.Алматы  Легковые автомобили    D класс 2019-05-31   \n",
       "\n",
       "      duplicate_count  \n",
       "28210            72.0  \n",
       "\n",
       "[1 rows x 21 columns]"
      ]
     },
     "metadata": {},
     "output_type": "display_data"
    },
    {
     "data": {
      "text/plain": [
       "'Subset for duplicate_count = 69:'"
      ]
     },
     "metadata": {},
     "output_type": "display_data"
    },
    {
     "data": {
      "text/html": [
       "<div>\n",
       "<style scoped>\n",
       "    .dataframe tbody tr th:only-of-type {\n",
       "        vertical-align: middle;\n",
       "    }\n",
       "\n",
       "    .dataframe tbody tr th {\n",
       "        vertical-align: top;\n",
       "    }\n",
       "\n",
       "    .dataframe thead th {\n",
       "        text-align: right;\n",
       "    }\n",
       "</style>\n",
       "<table border=\"1\" class=\"dataframe\">\n",
       "  <thead>\n",
       "    <tr style=\"text-align: right;\">\n",
       "      <th></th>\n",
       "      <th>year</th>\n",
       "      <th>month</th>\n",
       "      <th>company</th>\n",
       "      <th>brand</th>\n",
       "      <th>model</th>\n",
       "      <th>manufacturing_year</th>\n",
       "      <th>manufacturer_country</th>\n",
       "      <th>fuel_type</th>\n",
       "      <th>engine_capacity_liters</th>\n",
       "      <th>transmission_type</th>\n",
       "      <th>...</th>\n",
       "      <th>region</th>\n",
       "      <th>customer_type</th>\n",
       "      <th>quantity</th>\n",
       "      <th>price_usd</th>\n",
       "      <th>sale_usd</th>\n",
       "      <th>area</th>\n",
       "      <th>segmentation_2013</th>\n",
       "      <th>class_2013</th>\n",
       "      <th>date</th>\n",
       "      <th>duplicate_count</th>\n",
       "    </tr>\n",
       "  </thead>\n",
       "  <tbody>\n",
       "    <tr>\n",
       "      <th>13992</th>\n",
       "      <td>2019</td>\n",
       "      <td>Июль</td>\n",
       "      <td>Allur Auto</td>\n",
       "      <td>Jac</td>\n",
       "      <td>S3</td>\n",
       "      <td>2019</td>\n",
       "      <td>KAZ</td>\n",
       "      <td>Бензин</td>\n",
       "      <td>1.6</td>\n",
       "      <td>CVT</td>\n",
       "      <td>...</td>\n",
       "      <td>ЭКСПОРТ</td>\n",
       "      <td>Юр. Лицо</td>\n",
       "      <td>1</td>\n",
       "      <td>14695.79601</td>\n",
       "      <td>14695.79601</td>\n",
       "      <td>Экспорт область</td>\n",
       "      <td>Внедорожники</td>\n",
       "      <td>Субкомпактные SUV</td>\n",
       "      <td>2019-07-31</td>\n",
       "      <td>69.0</td>\n",
       "    </tr>\n",
       "    <tr>\n",
       "      <th>26348</th>\n",
       "      <td>2019</td>\n",
       "      <td>Январь</td>\n",
       "      <td>Toyota Motor Kazakhstan</td>\n",
       "      <td>Toyota</td>\n",
       "      <td>Camry</td>\n",
       "      <td>2018</td>\n",
       "      <td>RUS</td>\n",
       "      <td>Бензин</td>\n",
       "      <td>2.5</td>\n",
       "      <td>AT</td>\n",
       "      <td>...</td>\n",
       "      <td>Алматы</td>\n",
       "      <td>Физ. Лицо</td>\n",
       "      <td>1</td>\n",
       "      <td>31291.34782</td>\n",
       "      <td>31291.34782</td>\n",
       "      <td>г.Алматы</td>\n",
       "      <td>Легковые автомобили</td>\n",
       "      <td>D класс</td>\n",
       "      <td>2019-01-31</td>\n",
       "      <td>69.0</td>\n",
       "    </tr>\n",
       "  </tbody>\n",
       "</table>\n",
       "<p>2 rows × 21 columns</p>\n",
       "</div>"
      ],
      "text/plain": [
       "       year   month                  company   brand  model  \\\n",
       "13992  2019    Июль               Allur Auto     Jac     S3   \n",
       "26348  2019  Январь  Toyota Motor Kazakhstan  Toyota  Camry   \n",
       "\n",
       "       manufacturing_year manufacturer_country fuel_type  \\\n",
       "13992                2019                  KAZ    Бензин   \n",
       "26348                2018                  RUS    Бензин   \n",
       "\n",
       "       engine_capacity_liters transmission_type  ...   region customer_type  \\\n",
       "13992                     1.6               CVT  ...  ЭКСПОРТ      Юр. Лицо   \n",
       "26348                     2.5                AT  ...   Алматы     Физ. Лицо   \n",
       "\n",
       "      quantity    price_usd     sale_usd             area  \\\n",
       "13992        1  14695.79601  14695.79601  Экспорт область   \n",
       "26348        1  31291.34782  31291.34782         г.Алматы   \n",
       "\n",
       "         segmentation_2013         class_2013       date duplicate_count  \n",
       "13992         Внедорожники  Субкомпактные SUV 2019-07-31            69.0  \n",
       "26348  Легковые автомобили            D класс 2019-01-31            69.0  \n",
       "\n",
       "[2 rows x 21 columns]"
      ]
     },
     "metadata": {},
     "output_type": "display_data"
    },
    {
     "data": {
      "text/plain": [
       "'Subset for duplicate_count = 68:'"
      ]
     },
     "metadata": {},
     "output_type": "display_data"
    },
    {
     "data": {
      "text/html": [
       "<div>\n",
       "<style scoped>\n",
       "    .dataframe tbody tr th:only-of-type {\n",
       "        vertical-align: middle;\n",
       "    }\n",
       "\n",
       "    .dataframe tbody tr th {\n",
       "        vertical-align: top;\n",
       "    }\n",
       "\n",
       "    .dataframe thead th {\n",
       "        text-align: right;\n",
       "    }\n",
       "</style>\n",
       "<table border=\"1\" class=\"dataframe\">\n",
       "  <thead>\n",
       "    <tr style=\"text-align: right;\">\n",
       "      <th></th>\n",
       "      <th>year</th>\n",
       "      <th>month</th>\n",
       "      <th>company</th>\n",
       "      <th>brand</th>\n",
       "      <th>model</th>\n",
       "      <th>manufacturing_year</th>\n",
       "      <th>manufacturer_country</th>\n",
       "      <th>fuel_type</th>\n",
       "      <th>engine_capacity_liters</th>\n",
       "      <th>transmission_type</th>\n",
       "      <th>...</th>\n",
       "      <th>region</th>\n",
       "      <th>customer_type</th>\n",
       "      <th>quantity</th>\n",
       "      <th>price_usd</th>\n",
       "      <th>sale_usd</th>\n",
       "      <th>area</th>\n",
       "      <th>segmentation_2013</th>\n",
       "      <th>class_2013</th>\n",
       "      <th>date</th>\n",
       "      <th>duplicate_count</th>\n",
       "    </tr>\n",
       "  </thead>\n",
       "  <tbody>\n",
       "    <tr>\n",
       "      <th>28758</th>\n",
       "      <td>2019</td>\n",
       "      <td>Июнь</td>\n",
       "      <td>Toyota Motor Kazakhstan</td>\n",
       "      <td>Toyota</td>\n",
       "      <td>Camry</td>\n",
       "      <td>2019</td>\n",
       "      <td>RUS</td>\n",
       "      <td>Бензин</td>\n",
       "      <td>2.5</td>\n",
       "      <td>AT</td>\n",
       "      <td>...</td>\n",
       "      <td>Алматы</td>\n",
       "      <td>Физ. Лицо</td>\n",
       "      <td>1</td>\n",
       "      <td>32904.23741</td>\n",
       "      <td>32904.23741</td>\n",
       "      <td>г.Алматы</td>\n",
       "      <td>Легковые автомобили</td>\n",
       "      <td>D класс</td>\n",
       "      <td>2019-06-30</td>\n",
       "      <td>68.0</td>\n",
       "    </tr>\n",
       "    <tr>\n",
       "      <th>29266</th>\n",
       "      <td>2019</td>\n",
       "      <td>Июль</td>\n",
       "      <td>Toyota Motor Kazakhstan</td>\n",
       "      <td>Toyota</td>\n",
       "      <td>Camry</td>\n",
       "      <td>2019</td>\n",
       "      <td>RUS</td>\n",
       "      <td>Бензин</td>\n",
       "      <td>2.5</td>\n",
       "      <td>AT</td>\n",
       "      <td>...</td>\n",
       "      <td>Алматы</td>\n",
       "      <td>Физ. Лицо</td>\n",
       "      <td>1</td>\n",
       "      <td>30850.74908</td>\n",
       "      <td>30850.74908</td>\n",
       "      <td>г.Алматы</td>\n",
       "      <td>Легковые автомобили</td>\n",
       "      <td>D класс</td>\n",
       "      <td>2019-07-31</td>\n",
       "      <td>68.0</td>\n",
       "    </tr>\n",
       "    <tr>\n",
       "      <th>37920</th>\n",
       "      <td>2019</td>\n",
       "      <td>Январь</td>\n",
       "      <td>Mercur Autos</td>\n",
       "      <td>Volkswagen</td>\n",
       "      <td>Polo</td>\n",
       "      <td>2018</td>\n",
       "      <td>RUS</td>\n",
       "      <td>Бензин</td>\n",
       "      <td>1.6</td>\n",
       "      <td>AT</td>\n",
       "      <td>...</td>\n",
       "      <td>Алматы</td>\n",
       "      <td>Физ. Лицо</td>\n",
       "      <td>1</td>\n",
       "      <td>14112.82072</td>\n",
       "      <td>14112.82072</td>\n",
       "      <td>г.Алматы</td>\n",
       "      <td>Легковые автомобили</td>\n",
       "      <td>B класс</td>\n",
       "      <td>2019-01-31</td>\n",
       "      <td>68.0</td>\n",
       "    </tr>\n",
       "  </tbody>\n",
       "</table>\n",
       "<p>3 rows × 21 columns</p>\n",
       "</div>"
      ],
      "text/plain": [
       "       year   month                  company       brand  model  \\\n",
       "28758  2019    Июнь  Toyota Motor Kazakhstan      Toyota  Camry   \n",
       "29266  2019    Июль  Toyota Motor Kazakhstan      Toyota  Camry   \n",
       "37920  2019  Январь             Mercur Autos  Volkswagen   Polo   \n",
       "\n",
       "       manufacturing_year manufacturer_country fuel_type  \\\n",
       "28758                2019                  RUS    Бензин   \n",
       "29266                2019                  RUS    Бензин   \n",
       "37920                2018                  RUS    Бензин   \n",
       "\n",
       "       engine_capacity_liters transmission_type  ...  region customer_type  \\\n",
       "28758                     2.5                AT  ...  Алматы     Физ. Лицо   \n",
       "29266                     2.5                AT  ...  Алматы     Физ. Лицо   \n",
       "37920                     1.6                AT  ...  Алматы     Физ. Лицо   \n",
       "\n",
       "      quantity    price_usd     sale_usd      area    segmentation_2013  \\\n",
       "28758        1  32904.23741  32904.23741  г.Алматы  Легковые автомобили   \n",
       "29266        1  30850.74908  30850.74908  г.Алматы  Легковые автомобили   \n",
       "37920        1  14112.82072  14112.82072  г.Алматы  Легковые автомобили   \n",
       "\n",
       "      class_2013       date duplicate_count  \n",
       "28758    D класс 2019-06-30            68.0  \n",
       "29266    D класс 2019-07-31            68.0  \n",
       "37920    B класс 2019-01-31            68.0  \n",
       "\n",
       "[3 rows x 21 columns]"
      ]
     },
     "metadata": {},
     "output_type": "display_data"
    },
    {
     "data": {
      "text/plain": [
       "'Subset for duplicate_count = 67:'"
      ]
     },
     "metadata": {},
     "output_type": "display_data"
    },
    {
     "data": {
      "text/html": [
       "<div>\n",
       "<style scoped>\n",
       "    .dataframe tbody tr th:only-of-type {\n",
       "        vertical-align: middle;\n",
       "    }\n",
       "\n",
       "    .dataframe tbody tr th {\n",
       "        vertical-align: top;\n",
       "    }\n",
       "\n",
       "    .dataframe thead th {\n",
       "        text-align: right;\n",
       "    }\n",
       "</style>\n",
       "<table border=\"1\" class=\"dataframe\">\n",
       "  <thead>\n",
       "    <tr style=\"text-align: right;\">\n",
       "      <th></th>\n",
       "      <th>year</th>\n",
       "      <th>month</th>\n",
       "      <th>company</th>\n",
       "      <th>brand</th>\n",
       "      <th>model</th>\n",
       "      <th>manufacturing_year</th>\n",
       "      <th>manufacturer_country</th>\n",
       "      <th>fuel_type</th>\n",
       "      <th>engine_capacity_liters</th>\n",
       "      <th>transmission_type</th>\n",
       "      <th>...</th>\n",
       "      <th>region</th>\n",
       "      <th>customer_type</th>\n",
       "      <th>quantity</th>\n",
       "      <th>price_usd</th>\n",
       "      <th>sale_usd</th>\n",
       "      <th>area</th>\n",
       "      <th>segmentation_2013</th>\n",
       "      <th>class_2013</th>\n",
       "      <th>date</th>\n",
       "      <th>duplicate_count</th>\n",
       "    </tr>\n",
       "  </thead>\n",
       "  <tbody>\n",
       "    <tr>\n",
       "      <th>26341</th>\n",
       "      <td>2019</td>\n",
       "      <td>Январь</td>\n",
       "      <td>Toyota Motor Kazakhstan</td>\n",
       "      <td>Toyota</td>\n",
       "      <td>Camry</td>\n",
       "      <td>2018</td>\n",
       "      <td>RUS</td>\n",
       "      <td>Бензин</td>\n",
       "      <td>2.5</td>\n",
       "      <td>AT</td>\n",
       "      <td>...</td>\n",
       "      <td>Алматы</td>\n",
       "      <td>Физ. Лицо</td>\n",
       "      <td>1</td>\n",
       "      <td>33220.62856</td>\n",
       "      <td>33220.62856</td>\n",
       "      <td>г.Алматы</td>\n",
       "      <td>Легковые автомобили</td>\n",
       "      <td>D класс</td>\n",
       "      <td>2019-01-31</td>\n",
       "      <td>67.0</td>\n",
       "    </tr>\n",
       "  </tbody>\n",
       "</table>\n",
       "<p>1 rows × 21 columns</p>\n",
       "</div>"
      ],
      "text/plain": [
       "       year   month                  company   brand  model  \\\n",
       "26341  2019  Январь  Toyota Motor Kazakhstan  Toyota  Camry   \n",
       "\n",
       "       manufacturing_year manufacturer_country fuel_type  \\\n",
       "26341                2018                  RUS    Бензин   \n",
       "\n",
       "       engine_capacity_liters transmission_type  ...  region customer_type  \\\n",
       "26341                     2.5                AT  ...  Алматы     Физ. Лицо   \n",
       "\n",
       "      quantity    price_usd     sale_usd      area    segmentation_2013  \\\n",
       "26341        1  33220.62856  33220.62856  г.Алматы  Легковые автомобили   \n",
       "\n",
       "      class_2013       date duplicate_count  \n",
       "26341    D класс 2019-01-31            67.0  \n",
       "\n",
       "[1 rows x 21 columns]"
      ]
     },
     "metadata": {},
     "output_type": "display_data"
    },
    {
     "data": {
      "text/plain": [
       "'Subset for duplicate_count = 52:'"
      ]
     },
     "metadata": {},
     "output_type": "display_data"
    },
    {
     "data": {
      "text/html": [
       "<div>\n",
       "<style scoped>\n",
       "    .dataframe tbody tr th:only-of-type {\n",
       "        vertical-align: middle;\n",
       "    }\n",
       "\n",
       "    .dataframe tbody tr th {\n",
       "        vertical-align: top;\n",
       "    }\n",
       "\n",
       "    .dataframe thead th {\n",
       "        text-align: right;\n",
       "    }\n",
       "</style>\n",
       "<table border=\"1\" class=\"dataframe\">\n",
       "  <thead>\n",
       "    <tr style=\"text-align: right;\">\n",
       "      <th></th>\n",
       "      <th>year</th>\n",
       "      <th>month</th>\n",
       "      <th>company</th>\n",
       "      <th>brand</th>\n",
       "      <th>model</th>\n",
       "      <th>manufacturing_year</th>\n",
       "      <th>manufacturer_country</th>\n",
       "      <th>fuel_type</th>\n",
       "      <th>engine_capacity_liters</th>\n",
       "      <th>transmission_type</th>\n",
       "      <th>...</th>\n",
       "      <th>region</th>\n",
       "      <th>customer_type</th>\n",
       "      <th>quantity</th>\n",
       "      <th>price_usd</th>\n",
       "      <th>sale_usd</th>\n",
       "      <th>area</th>\n",
       "      <th>segmentation_2013</th>\n",
       "      <th>class_2013</th>\n",
       "      <th>date</th>\n",
       "      <th>duplicate_count</th>\n",
       "    </tr>\n",
       "  </thead>\n",
       "  <tbody>\n",
       "    <tr>\n",
       "      <th>22911</th>\n",
       "      <td>2019</td>\n",
       "      <td>Август</td>\n",
       "      <td>Ravon Motors Kazakstan</td>\n",
       "      <td>Ravon</td>\n",
       "      <td>Nexia R3</td>\n",
       "      <td>2019</td>\n",
       "      <td>KAZ</td>\n",
       "      <td>Бензин</td>\n",
       "      <td>1.5</td>\n",
       "      <td>AT</td>\n",
       "      <td>...</td>\n",
       "      <td>Шымкент</td>\n",
       "      <td>Физ. Лицо</td>\n",
       "      <td>1</td>\n",
       "      <td>9893.925137</td>\n",
       "      <td>9893.925137</td>\n",
       "      <td>Южно-Казахстанская область</td>\n",
       "      <td>Легковые автомобили</td>\n",
       "      <td>B класс</td>\n",
       "      <td>2019-08-31</td>\n",
       "      <td>52.0</td>\n",
       "    </tr>\n",
       "    <tr>\n",
       "      <th>23424</th>\n",
       "      <td>2019</td>\n",
       "      <td>Сентябрь</td>\n",
       "      <td>Ravon Motors Kazakstan</td>\n",
       "      <td>Ravon</td>\n",
       "      <td>Nexia R3</td>\n",
       "      <td>2019</td>\n",
       "      <td>KAZ</td>\n",
       "      <td>Бензин</td>\n",
       "      <td>1.5</td>\n",
       "      <td>AT</td>\n",
       "      <td>...</td>\n",
       "      <td>Шымкент</td>\n",
       "      <td>Физ. Лицо</td>\n",
       "      <td>1</td>\n",
       "      <td>9884.695773</td>\n",
       "      <td>9884.695773</td>\n",
       "      <td>Южно-Казахстанская область</td>\n",
       "      <td>Легковые автомобили</td>\n",
       "      <td>B класс</td>\n",
       "      <td>2019-09-30</td>\n",
       "      <td>52.0</td>\n",
       "    </tr>\n",
       "    <tr>\n",
       "      <th>27241</th>\n",
       "      <td>2019</td>\n",
       "      <td>Март</td>\n",
       "      <td>Toyota Motor Kazakhstan</td>\n",
       "      <td>Toyota</td>\n",
       "      <td>Camry</td>\n",
       "      <td>2019</td>\n",
       "      <td>RUS</td>\n",
       "      <td>Бензин</td>\n",
       "      <td>2.5</td>\n",
       "      <td>AT</td>\n",
       "      <td>...</td>\n",
       "      <td>Алматы</td>\n",
       "      <td>Физ. Лицо</td>\n",
       "      <td>1</td>\n",
       "      <td>31405.835540</td>\n",
       "      <td>31405.835540</td>\n",
       "      <td>г.Алматы</td>\n",
       "      <td>Легковые автомобили</td>\n",
       "      <td>D класс</td>\n",
       "      <td>2019-03-31</td>\n",
       "      <td>52.0</td>\n",
       "    </tr>\n",
       "    <tr>\n",
       "      <th>30480</th>\n",
       "      <td>2019</td>\n",
       "      <td>Сентябрь</td>\n",
       "      <td>Toyota Motor Kazakhstan</td>\n",
       "      <td>Toyota</td>\n",
       "      <td>Camry</td>\n",
       "      <td>2019</td>\n",
       "      <td>RUS</td>\n",
       "      <td>Бензин</td>\n",
       "      <td>2.5</td>\n",
       "      <td>AT</td>\n",
       "      <td>...</td>\n",
       "      <td>Алматы</td>\n",
       "      <td>Физ. Лицо</td>\n",
       "      <td>1</td>\n",
       "      <td>30589.335590</td>\n",
       "      <td>30589.335590</td>\n",
       "      <td>г.Алматы</td>\n",
       "      <td>Легковые автомобили</td>\n",
       "      <td>D класс</td>\n",
       "      <td>2019-09-30</td>\n",
       "      <td>52.0</td>\n",
       "    </tr>\n",
       "  </tbody>\n",
       "</table>\n",
       "<p>4 rows × 21 columns</p>\n",
       "</div>"
      ],
      "text/plain": [
       "       year     month                  company   brand     model  \\\n",
       "22911  2019    Август   Ravon Motors Kazakstan   Ravon  Nexia R3   \n",
       "23424  2019  Сентябрь   Ravon Motors Kazakstan   Ravon  Nexia R3   \n",
       "27241  2019      Март  Toyota Motor Kazakhstan  Toyota     Camry   \n",
       "30480  2019  Сентябрь  Toyota Motor Kazakhstan  Toyota     Camry   \n",
       "\n",
       "       manufacturing_year manufacturer_country fuel_type  \\\n",
       "22911                2019                  KAZ    Бензин   \n",
       "23424                2019                  KAZ    Бензин   \n",
       "27241                2019                  RUS    Бензин   \n",
       "30480                2019                  RUS    Бензин   \n",
       "\n",
       "       engine_capacity_liters transmission_type  ...   region customer_type  \\\n",
       "22911                     1.5                AT  ...  Шымкент     Физ. Лицо   \n",
       "23424                     1.5                AT  ...  Шымкент     Физ. Лицо   \n",
       "27241                     2.5                AT  ...   Алматы     Физ. Лицо   \n",
       "30480                     2.5                AT  ...   Алматы     Физ. Лицо   \n",
       "\n",
       "      quantity     price_usd      sale_usd                        area  \\\n",
       "22911        1   9893.925137   9893.925137  Южно-Казахстанская область   \n",
       "23424        1   9884.695773   9884.695773  Южно-Казахстанская область   \n",
       "27241        1  31405.835540  31405.835540                    г.Алматы   \n",
       "30480        1  30589.335590  30589.335590                    г.Алматы   \n",
       "\n",
       "         segmentation_2013 class_2013       date duplicate_count  \n",
       "22911  Легковые автомобили    B класс 2019-08-31            52.0  \n",
       "23424  Легковые автомобили    B класс 2019-09-30            52.0  \n",
       "27241  Легковые автомобили    D класс 2019-03-31            52.0  \n",
       "30480  Легковые автомобили    D класс 2019-09-30            52.0  \n",
       "\n",
       "[4 rows x 21 columns]"
      ]
     },
     "metadata": {},
     "output_type": "display_data"
    },
    {
     "data": {
      "text/plain": [
       "'Subset for duplicate_count = 53:'"
      ]
     },
     "metadata": {},
     "output_type": "display_data"
    },
    {
     "data": {
      "text/html": [
       "<div>\n",
       "<style scoped>\n",
       "    .dataframe tbody tr th:only-of-type {\n",
       "        vertical-align: middle;\n",
       "    }\n",
       "\n",
       "    .dataframe tbody tr th {\n",
       "        vertical-align: top;\n",
       "    }\n",
       "\n",
       "    .dataframe thead th {\n",
       "        text-align: right;\n",
       "    }\n",
       "</style>\n",
       "<table border=\"1\" class=\"dataframe\">\n",
       "  <thead>\n",
       "    <tr style=\"text-align: right;\">\n",
       "      <th></th>\n",
       "      <th>year</th>\n",
       "      <th>month</th>\n",
       "      <th>company</th>\n",
       "      <th>brand</th>\n",
       "      <th>model</th>\n",
       "      <th>manufacturing_year</th>\n",
       "      <th>manufacturer_country</th>\n",
       "      <th>fuel_type</th>\n",
       "      <th>engine_capacity_liters</th>\n",
       "      <th>transmission_type</th>\n",
       "      <th>...</th>\n",
       "      <th>region</th>\n",
       "      <th>customer_type</th>\n",
       "      <th>quantity</th>\n",
       "      <th>price_usd</th>\n",
       "      <th>sale_usd</th>\n",
       "      <th>area</th>\n",
       "      <th>segmentation_2013</th>\n",
       "      <th>class_2013</th>\n",
       "      <th>date</th>\n",
       "      <th>duplicate_count</th>\n",
       "    </tr>\n",
       "  </thead>\n",
       "  <tbody>\n",
       "    <tr>\n",
       "      <th>26441</th>\n",
       "      <td>2019</td>\n",
       "      <td>Январь</td>\n",
       "      <td>Toyota Motor Kazakhstan</td>\n",
       "      <td>Toyota</td>\n",
       "      <td>Camry</td>\n",
       "      <td>2018</td>\n",
       "      <td>RUS</td>\n",
       "      <td>Бензин</td>\n",
       "      <td>2.5</td>\n",
       "      <td>AT</td>\n",
       "      <td>...</td>\n",
       "      <td>Нур-Султан</td>\n",
       "      <td>Физ. Лицо</td>\n",
       "      <td>1</td>\n",
       "      <td>31291.34782</td>\n",
       "      <td>31291.34782</td>\n",
       "      <td>г.Нур-Султан</td>\n",
       "      <td>Легковые автомобили</td>\n",
       "      <td>D класс</td>\n",
       "      <td>2019-01-31</td>\n",
       "      <td>53.0</td>\n",
       "    </tr>\n",
       "  </tbody>\n",
       "</table>\n",
       "<p>1 rows × 21 columns</p>\n",
       "</div>"
      ],
      "text/plain": [
       "       year   month                  company   brand  model  \\\n",
       "26441  2019  Январь  Toyota Motor Kazakhstan  Toyota  Camry   \n",
       "\n",
       "       manufacturing_year manufacturer_country fuel_type  \\\n",
       "26441                2018                  RUS    Бензин   \n",
       "\n",
       "       engine_capacity_liters transmission_type  ...      region  \\\n",
       "26441                     2.5                AT  ...  Нур-Султан   \n",
       "\n",
       "      customer_type quantity    price_usd     sale_usd          area  \\\n",
       "26441     Физ. Лицо        1  31291.34782  31291.34782  г.Нур-Султан   \n",
       "\n",
       "         segmentation_2013 class_2013       date duplicate_count  \n",
       "26441  Легковые автомобили    D класс 2019-01-31            53.0  \n",
       "\n",
       "[1 rows x 21 columns]"
      ]
     },
     "metadata": {},
     "output_type": "display_data"
    },
    {
     "data": {
      "text/plain": [
       "'Subset for duplicate_count = 54:'"
      ]
     },
     "metadata": {},
     "output_type": "display_data"
    },
    {
     "data": {
      "text/html": [
       "<div>\n",
       "<style scoped>\n",
       "    .dataframe tbody tr th:only-of-type {\n",
       "        vertical-align: middle;\n",
       "    }\n",
       "\n",
       "    .dataframe tbody tr th {\n",
       "        vertical-align: top;\n",
       "    }\n",
       "\n",
       "    .dataframe thead th {\n",
       "        text-align: right;\n",
       "    }\n",
       "</style>\n",
       "<table border=\"1\" class=\"dataframe\">\n",
       "  <thead>\n",
       "    <tr style=\"text-align: right;\">\n",
       "      <th></th>\n",
       "      <th>year</th>\n",
       "      <th>month</th>\n",
       "      <th>company</th>\n",
       "      <th>brand</th>\n",
       "      <th>model</th>\n",
       "      <th>manufacturing_year</th>\n",
       "      <th>manufacturer_country</th>\n",
       "      <th>fuel_type</th>\n",
       "      <th>engine_capacity_liters</th>\n",
       "      <th>transmission_type</th>\n",
       "      <th>...</th>\n",
       "      <th>region</th>\n",
       "      <th>customer_type</th>\n",
       "      <th>quantity</th>\n",
       "      <th>price_usd</th>\n",
       "      <th>sale_usd</th>\n",
       "      <th>area</th>\n",
       "      <th>segmentation_2013</th>\n",
       "      <th>class_2013</th>\n",
       "      <th>date</th>\n",
       "      <th>duplicate_count</th>\n",
       "    </tr>\n",
       "  </thead>\n",
       "  <tbody>\n",
       "    <tr>\n",
       "      <th>22999</th>\n",
       "      <td>2019</td>\n",
       "      <td>Сентябрь</td>\n",
       "      <td>Ravon Motors Kazakstan</td>\n",
       "      <td>Ravon</td>\n",
       "      <td>Nexia R3</td>\n",
       "      <td>2019</td>\n",
       "      <td>KAZ</td>\n",
       "      <td>Бензин</td>\n",
       "      <td>1.5</td>\n",
       "      <td>AT</td>\n",
       "      <td>...</td>\n",
       "      <td>Нур-Султан</td>\n",
       "      <td>Физ. Лицо</td>\n",
       "      <td>1</td>\n",
       "      <td>9884.695773</td>\n",
       "      <td>9884.695773</td>\n",
       "      <td>г.Нур-Султан</td>\n",
       "      <td>Легковые автомобили</td>\n",
       "      <td>B класс</td>\n",
       "      <td>2019-09-30</td>\n",
       "      <td>54.0</td>\n",
       "    </tr>\n",
       "  </tbody>\n",
       "</table>\n",
       "<p>1 rows × 21 columns</p>\n",
       "</div>"
      ],
      "text/plain": [
       "       year     month                 company  brand     model  \\\n",
       "22999  2019  Сентябрь  Ravon Motors Kazakstan  Ravon  Nexia R3   \n",
       "\n",
       "       manufacturing_year manufacturer_country fuel_type  \\\n",
       "22999                2019                  KAZ    Бензин   \n",
       "\n",
       "       engine_capacity_liters transmission_type  ...      region  \\\n",
       "22999                     1.5                AT  ...  Нур-Султан   \n",
       "\n",
       "      customer_type quantity    price_usd     sale_usd          area  \\\n",
       "22999     Физ. Лицо        1  9884.695773  9884.695773  г.Нур-Султан   \n",
       "\n",
       "         segmentation_2013 class_2013       date duplicate_count  \n",
       "22999  Легковые автомобили    B класс 2019-09-30            54.0  \n",
       "\n",
       "[1 rows x 21 columns]"
      ]
     },
     "metadata": {},
     "output_type": "display_data"
    }
   ],
   "source": [
    "#посмотрим строки с наибольшим количеством полных дубликатов\n",
    "def get_subset_by_duplicate_count(df, value):\n",
    "    return df[df['duplicate_count'] == value].drop_duplicates()\n",
    "values_to_process = [364, 138, 105, 96, 88, 87, 85, 80, 72, 69, 68, 67, 52 , 53, 54]\n",
    "\n",
    "for value in values_to_process:\n",
    "    subset = get_subset_by_duplicate_count(df, value)\n",
    "    display(f\"Subset for duplicate_count = {value}:\")\n",
    "    display(subset)"
   ]
  },
  {
   "cell_type": "markdown",
   "id": "7438eb17",
   "metadata": {},
   "source": [
    "364 дубликата в июле и ещё 105 в мае у строки с моделью Jac S3 (компактный китайский кроссовер средней цены) на продажа экспорт (покупатель юр.лицо). Это похоже на правду, возможно, на экспорт продают не только оптом, но и штучно или пробивают разными чеками, поэтому в quantity 1. (Однако нельзя исключать и ошибку при сборе данных или другую неизвестную причину.)\n",
    "\n",
    "На 2ом месте по кол-ву дубликатов (138) автобусы ANKAI\tHFF6850G, купленные юр.лицом. Похоже на оптовую покупку. Возможно, пробивали разными чеками.\n",
    "\n",
    "Наибольшее количество дубликатов у покупок из автоцентров Allur Auto, Ravon Motors Kazakstan, Toyota Motor Kazakhstan, возможно, это связано с тем, что это популярные автоцентры (все они имеют рейтинг выше 4х в Яндекс.Картах) и у них больше покупок по сравнению с остальными конкурентами. \n",
    "\n",
    "Наибольшее количество во дублей среди строк с моделями Ravon Nexia R3, Toyota Camry, Jac S3. (Возможно, их часто покупают)."
   ]
  },
  {
   "cell_type": "markdown",
   "id": "366b4623",
   "metadata": {},
   "source": [
    "Toyota Camry покупались каждый месяц по 87-85-80-72-69-52-53(и т.д.) штук. \n",
    " \n",
    "  В целом, довольно простые и дешёвые авто дублировались, скорее всего это не совпадение, а реальные продажи (отдельные покупки или учитывались отдельно при опте).\n",
    "Также, можно отменить, что для каждой уникальной строки преимущественно не много дубликатов, то есть по объёмам продаж похоже на реальные покупки.   \n",
    "А близкие значения по количеству дубликатов в разные месяцы для одинаковых моделей могут говорить о том, что есть стабильность покупок этих марок, что добавляет веса к мнению, что это не случайные дубликаты."
   ]
  },
  {
   "cell_type": "code",
   "execution_count": 49,
   "id": "708e9f0c",
   "metadata": {},
   "outputs": [
    {
     "data": {
      "text/plain": [
       "<AxesSubplot:>"
      ]
     },
     "execution_count": 49,
     "metadata": {},
     "output_type": "execute_result"
    },
    {
     "data": {
      "image/png": "[encoded data removed]",
      "text/plain": [
       "<Figure size 1080x576 with 1 Axes>"
      ]
     },
     "metadata": {
      "needs_background": "light"
     },
     "output_type": "display_data"
    }
   ],
   "source": [
    "df['duplicate_count'].value_counts().plot(kind='bar', figsize=(15,8), grid=True)"
   ]
  },
  {
   "cell_type": "markdown",
   "id": "fa9cbdb0",
   "metadata": {},
   "source": [
    "Больше всего дубликатов среди строк с небольшим количеством дубликатов. Такая тенденция похожа на реальные покупки."
   ]
  },
  {
   "cell_type": "markdown",
   "id": "1e03f27b",
   "metadata": {},
   "source": [
    " Посмотрим, какие марки закупались большими партиями, информацию о возврате и аномальные значения в quantity."
   ]
  },
  {
   "cell_type": "code",
   "execution_count": 50,
   "id": "a8c7ecaf",
   "metadata": {},
   "outputs": [
    {
     "data": {
      "text/plain": [
       "Text(0.5, 1.0, 'Box Plot количества заказов')"
      ]
     },
     "execution_count": 50,
     "metadata": {},
     "output_type": "execute_result"
    },
    {
     "data": {
      "image/png": "[encoded data removed]",
      "text/plain": [
       "<Figure size 864x504 with 1 Axes>"
      ]
     },
     "metadata": {
      "needs_background": "light"
     },
     "output_type": "display_data"
    }
   ],
   "source": [
    "plt.figure(figsize=(12, 7))\n",
    "df.boxplot('quantity')\n",
    "plt.ylim(0,50)\n",
    "plt.title('Box Plot количества заказов')"
   ]
  },
  {
   "cell_type": "code",
   "execution_count": 51,
   "id": "f761ca2c",
   "metadata": {},
   "outputs": [
    {
     "data": {
      "text/plain": [
       "'Модель авто возврат:'"
      ]
     },
     "metadata": {},
     "output_type": "display_data"
    },
    {
     "data": {
      "text/html": [
       "<div>\n",
       "<style scoped>\n",
       "    .dataframe tbody tr th:only-of-type {\n",
       "        vertical-align: middle;\n",
       "    }\n",
       "\n",
       "    .dataframe tbody tr th {\n",
       "        vertical-align: top;\n",
       "    }\n",
       "\n",
       "    .dataframe thead th {\n",
       "        text-align: right;\n",
       "    }\n",
       "</style>\n",
       "<table border=\"1\" class=\"dataframe\">\n",
       "  <thead>\n",
       "    <tr style=\"text-align: right;\">\n",
       "      <th></th>\n",
       "      <th>model</th>\n",
       "      <th>brand</th>\n",
       "      <th>sale_usd</th>\n",
       "      <th>quantity</th>\n",
       "    </tr>\n",
       "  </thead>\n",
       "  <tbody>\n",
       "    <tr>\n",
       "      <th>25725</th>\n",
       "      <td>Superb</td>\n",
       "      <td>Skoda</td>\n",
       "      <td>-35588.25</td>\n",
       "      <td>-1</td>\n",
       "    </tr>\n",
       "  </tbody>\n",
       "</table>\n",
       "</div>"
      ],
      "text/plain": [
       "        model  brand  sale_usd  quantity\n",
       "25725  Superb  Skoda -35588.25        -1"
      ]
     },
     "metadata": {},
     "output_type": "display_data"
    },
    {
     "name": "stdout",
     "output_type": "stream",
     "text": [
      "Количество заказов с 1 машиной в чеке: 92.97 %\n"
     ]
    },
    {
     "data": {
      "text/plain": [
       "'Самые дорогие заказы с количеством авто в чеке больше 50:'"
      ]
     },
     "metadata": {},
     "output_type": "display_data"
    },
    {
     "data": {
      "text/html": [
       "<div>\n",
       "<style scoped>\n",
       "    .dataframe tbody tr th:only-of-type {\n",
       "        vertical-align: middle;\n",
       "    }\n",
       "\n",
       "    .dataframe tbody tr th {\n",
       "        vertical-align: top;\n",
       "    }\n",
       "\n",
       "    .dataframe thead th {\n",
       "        text-align: right;\n",
       "    }\n",
       "</style>\n",
       "<table border=\"1\" class=\"dataframe\">\n",
       "  <thead>\n",
       "    <tr style=\"text-align: right;\">\n",
       "      <th></th>\n",
       "      <th>brand</th>\n",
       "      <th>model</th>\n",
       "      <th>quantity</th>\n",
       "      <th>sale_usd</th>\n",
       "    </tr>\n",
       "  </thead>\n",
       "  <tbody>\n",
       "    <tr>\n",
       "      <th>39555</th>\n",
       "      <td>Daewoo</td>\n",
       "      <td>BC 095</td>\n",
       "      <td>50</td>\n",
       "      <td>3.778206e+06</td>\n",
       "    </tr>\n",
       "    <tr>\n",
       "      <th>39547</th>\n",
       "      <td>Daewoo</td>\n",
       "      <td>BC 211 MA</td>\n",
       "      <td>30</td>\n",
       "      <td>3.157812e+06</td>\n",
       "    </tr>\n",
       "    <tr>\n",
       "      <th>39554</th>\n",
       "      <td>Daewoo</td>\n",
       "      <td>BC 095</td>\n",
       "      <td>30</td>\n",
       "      <td>2.277368e+06</td>\n",
       "    </tr>\n",
       "    <tr>\n",
       "      <th>20215</th>\n",
       "      <td>MAN</td>\n",
       "      <td>TG</td>\n",
       "      <td>20</td>\n",
       "      <td>2.004333e+06</td>\n",
       "    </tr>\n",
       "    <tr>\n",
       "      <th>25552</th>\n",
       "      <td>Skoda</td>\n",
       "      <td>Octavia</td>\n",
       "      <td>100</td>\n",
       "      <td>1.870000e+06</td>\n",
       "    </tr>\n",
       "    <tr>\n",
       "      <th>20211</th>\n",
       "      <td>MAN</td>\n",
       "      <td>TG</td>\n",
       "      <td>10</td>\n",
       "      <td>1.477016e+06</td>\n",
       "    </tr>\n",
       "    <tr>\n",
       "      <th>20219</th>\n",
       "      <td>MAN</td>\n",
       "      <td>TG</td>\n",
       "      <td>14</td>\n",
       "      <td>1.400791e+06</td>\n",
       "    </tr>\n",
       "    <tr>\n",
       "      <th>38403</th>\n",
       "      <td>Volkswagen</td>\n",
       "      <td>Polo</td>\n",
       "      <td>79</td>\n",
       "      <td>1.261460e+06</td>\n",
       "    </tr>\n",
       "    <tr>\n",
       "      <th>38705</th>\n",
       "      <td>Daewoo</td>\n",
       "      <td>BS 106 D</td>\n",
       "      <td>16</td>\n",
       "      <td>1.199778e+06</td>\n",
       "    </tr>\n",
       "    <tr>\n",
       "      <th>20346</th>\n",
       "      <td>Mercedes-Benz</td>\n",
       "      <td>G-Class</td>\n",
       "      <td>7</td>\n",
       "      <td>1.156569e+06</td>\n",
       "    </tr>\n",
       "    <tr>\n",
       "      <th>20355</th>\n",
       "      <td>Mercedes-Benz</td>\n",
       "      <td>G-Class</td>\n",
       "      <td>7</td>\n",
       "      <td>1.142559e+06</td>\n",
       "    </tr>\n",
       "    <tr>\n",
       "      <th>13699</th>\n",
       "      <td>Jac</td>\n",
       "      <td>S3</td>\n",
       "      <td>70</td>\n",
       "      <td>1.092977e+06</td>\n",
       "    </tr>\n",
       "    <tr>\n",
       "      <th>16884</th>\n",
       "      <td>Lada</td>\n",
       "      <td>4x4</td>\n",
       "      <td>115</td>\n",
       "      <td>1.035000e+06</td>\n",
       "    </tr>\n",
       "    <tr>\n",
       "      <th>38418</th>\n",
       "      <td>Volkswagen</td>\n",
       "      <td>Polo</td>\n",
       "      <td>62</td>\n",
       "      <td>9.780142e+05</td>\n",
       "    </tr>\n",
       "    <tr>\n",
       "      <th>38419</th>\n",
       "      <td>Volkswagen</td>\n",
       "      <td>Polo</td>\n",
       "      <td>62</td>\n",
       "      <td>9.771019e+05</td>\n",
       "    </tr>\n",
       "  </tbody>\n",
       "</table>\n",
       "</div>"
      ],
      "text/plain": [
       "               brand      model  quantity      sale_usd\n",
       "39555         Daewoo     BC 095        50  3.778206e+06\n",
       "39547         Daewoo  BC 211 MA        30  3.157812e+06\n",
       "39554         Daewoo     BC 095        30  2.277368e+06\n",
       "20215            MAN         TG        20  2.004333e+06\n",
       "25552          Skoda    Octavia       100  1.870000e+06\n",
       "20211            MAN         TG        10  1.477016e+06\n",
       "20219            MAN         TG        14  1.400791e+06\n",
       "38403     Volkswagen       Polo        79  1.261460e+06\n",
       "38705         Daewoo   BS 106 D        16  1.199778e+06\n",
       "20346  Mercedes-Benz    G-Class         7  1.156569e+06\n",
       "20355  Mercedes-Benz    G-Class         7  1.142559e+06\n",
       "13699            Jac         S3        70  1.092977e+06\n",
       "16884           Lada        4x4       115  1.035000e+06\n",
       "38418     Volkswagen       Polo        62  9.780142e+05\n",
       "38419     Volkswagen       Polo        62  9.771019e+05"
      ]
     },
     "metadata": {},
     "output_type": "display_data"
    },
    {
     "data": {
      "text/plain": [
       "'Модели, которые чаще всего покупают большими партиями:'"
      ]
     },
     "metadata": {},
     "output_type": "display_data"
    },
    {
     "data": {
      "text/html": [
       "<div>\n",
       "<style scoped>\n",
       "    .dataframe tbody tr th:only-of-type {\n",
       "        vertical-align: middle;\n",
       "    }\n",
       "\n",
       "    .dataframe tbody tr th {\n",
       "        vertical-align: top;\n",
       "    }\n",
       "\n",
       "    .dataframe thead th {\n",
       "        text-align: right;\n",
       "    }\n",
       "</style>\n",
       "<table border=\"1\" class=\"dataframe\">\n",
       "  <thead>\n",
       "    <tr style=\"text-align: right;\">\n",
       "      <th></th>\n",
       "      <th>brand</th>\n",
       "      <th>model</th>\n",
       "      <th>quantity</th>\n",
       "    </tr>\n",
       "  </thead>\n",
       "  <tbody>\n",
       "    <tr>\n",
       "      <th>16884</th>\n",
       "      <td>Lada</td>\n",
       "      <td>4x4</td>\n",
       "      <td>115</td>\n",
       "    </tr>\n",
       "    <tr>\n",
       "      <th>25552</th>\n",
       "      <td>Skoda</td>\n",
       "      <td>Octavia</td>\n",
       "      <td>100</td>\n",
       "    </tr>\n",
       "    <tr>\n",
       "      <th>38403</th>\n",
       "      <td>Volkswagen</td>\n",
       "      <td>Polo</td>\n",
       "      <td>79</td>\n",
       "    </tr>\n",
       "    <tr>\n",
       "      <th>13699</th>\n",
       "      <td>Jac</td>\n",
       "      <td>S3</td>\n",
       "      <td>70</td>\n",
       "    </tr>\n",
       "    <tr>\n",
       "      <th>16967</th>\n",
       "      <td>Lada</td>\n",
       "      <td>4x4</td>\n",
       "      <td>66</td>\n",
       "    </tr>\n",
       "    <tr>\n",
       "      <th>16299</th>\n",
       "      <td>Kia</td>\n",
       "      <td>Rio</td>\n",
       "      <td>63</td>\n",
       "    </tr>\n",
       "    <tr>\n",
       "      <th>38419</th>\n",
       "      <td>Volkswagen</td>\n",
       "      <td>Polo</td>\n",
       "      <td>62</td>\n",
       "    </tr>\n",
       "    <tr>\n",
       "      <th>38418</th>\n",
       "      <td>Volkswagen</td>\n",
       "      <td>Polo</td>\n",
       "      <td>62</td>\n",
       "    </tr>\n",
       "    <tr>\n",
       "      <th>16363</th>\n",
       "      <td>Kia</td>\n",
       "      <td>Rio</td>\n",
       "      <td>60</td>\n",
       "    </tr>\n",
       "    <tr>\n",
       "      <th>16857</th>\n",
       "      <td>Lada</td>\n",
       "      <td>4x4</td>\n",
       "      <td>54</td>\n",
       "    </tr>\n",
       "    <tr>\n",
       "      <th>17523</th>\n",
       "      <td>Lada</td>\n",
       "      <td>Largus</td>\n",
       "      <td>51</td>\n",
       "    </tr>\n",
       "    <tr>\n",
       "      <th>17682</th>\n",
       "      <td>Lada</td>\n",
       "      <td>Largus</td>\n",
       "      <td>50</td>\n",
       "    </tr>\n",
       "    <tr>\n",
       "      <th>17030</th>\n",
       "      <td>Lada</td>\n",
       "      <td>Granta</td>\n",
       "      <td>50</td>\n",
       "    </tr>\n",
       "    <tr>\n",
       "      <th>17101</th>\n",
       "      <td>Lada</td>\n",
       "      <td>Granta</td>\n",
       "      <td>50</td>\n",
       "    </tr>\n",
       "    <tr>\n",
       "      <th>39555</th>\n",
       "      <td>Daewoo</td>\n",
       "      <td>BC 095</td>\n",
       "      <td>50</td>\n",
       "    </tr>\n",
       "  </tbody>\n",
       "</table>\n",
       "</div>"
      ],
      "text/plain": [
       "            brand    model  quantity\n",
       "16884        Lada      4x4       115\n",
       "25552       Skoda  Octavia       100\n",
       "38403  Volkswagen     Polo        79\n",
       "13699         Jac       S3        70\n",
       "16967        Lada      4x4        66\n",
       "16299         Kia      Rio        63\n",
       "38419  Volkswagen     Polo        62\n",
       "38418  Volkswagen     Polo        62\n",
       "16363         Kia      Rio        60\n",
       "16857        Lada      4x4        54\n",
       "17523        Lada   Largus        51\n",
       "17682        Lada   Largus        50\n",
       "17030        Lada   Granta        50\n",
       "17101        Lada   Granta        50\n",
       "39555      Daewoo   BC 095        50"
      ]
     },
     "metadata": {},
     "output_type": "display_data"
    }
   ],
   "source": [
    "# Создадим копию датафрейма\n",
    "#изучим аномальные  значения в quantity\n",
    "display(\"Модель авто возврат:\", df.query('quantity == -1')[['model', 'brand', 'sale_usd','quantity']])\n",
    "print(\"Количество заказов с 1 машиной в чеке:\", round((df.query('quantity == 1')['model'].count())/df['model'].count()*100, 2), \"%\")\n",
    "\n",
    "display(\"Самые дорогие заказы с количеством авто в чеке больше 50:\",df[['brand','model', 'quantity','sale_usd']].sort_values(by='sale_usd',ascending=False).head(15))\n",
    "display(\"Модели, которые чаще всего покупают большими партиями:\", df[['brand','model', 'quantity']].sort_values(by='quantity',ascending=False).head(15))"
   ]
  },
  {
   "cell_type": "markdown",
   "id": "70a1d3b2",
   "metadata": {},
   "source": [
    "* \"-1\" это точно возврат - цена Superb Skoda правда около 3.5 млн  \n",
    "* большинство заказов (92.87 %)  1 машина в чеке  \n",
    "* Больших заказов (от 50 машин в чеке) немного.\n",
    "\n",
    "Самый дорогой заказ 3млн 778тыс. долларов - 50 штук Daewoo BC095 (городской автобус среднего класса).  \n",
    "Чаще всего, самые дорогие оптовые заказы: городские автобусы и грузовики.   \n",
    "Больше всего оптом покупают бюджетные и средние варианты (Lada, Volkswagen Polo, Kia Rio)\n",
    "Среди больших партий нет моделей с наибольшим количеством дублей в строках (Toyota Camry и Ravon Nexia R3). Их реже покупают оптом.\n",
    "   \n",
    "Выбросы не похожи на аномалии, потому что наибольшие суммы в чеках - это оптовые продажами от 7 до 115 штук и значения выглядят правдободобно (сверяла с ценами), несколько дубликатных строк тоже попали в выбросы, но их сумма не превышает нормальные значения.  "
   ]
  },
  {
   "cell_type": "code",
   "execution_count": 52,
   "id": "608f15db",
   "metadata": {},
   "outputs": [
    {
     "data": {
      "text/html": [
       "<div>\n",
       "<style scoped>\n",
       "    .dataframe tbody tr th:only-of-type {\n",
       "        vertical-align: middle;\n",
       "    }\n",
       "\n",
       "    .dataframe tbody tr th {\n",
       "        vertical-align: top;\n",
       "    }\n",
       "\n",
       "    .dataframe thead th {\n",
       "        text-align: right;\n",
       "    }\n",
       "</style>\n",
       "<table border=\"1\" class=\"dataframe\">\n",
       "  <thead>\n",
       "    <tr style=\"text-align: right;\">\n",
       "      <th></th>\n",
       "      <th>quantity</th>\n",
       "      <th>price_usd</th>\n",
       "      <th>sale_usd</th>\n",
       "    </tr>\n",
       "  </thead>\n",
       "  <tbody>\n",
       "    <tr>\n",
       "      <th>min</th>\n",
       "      <td>1.00</td>\n",
       "      <td>7100.00</td>\n",
       "      <td>7100.00</td>\n",
       "    </tr>\n",
       "    <tr>\n",
       "      <th>max</th>\n",
       "      <td>115.00</td>\n",
       "      <td>328510.97</td>\n",
       "      <td>3778206.26</td>\n",
       "    </tr>\n",
       "    <tr>\n",
       "      <th>median</th>\n",
       "      <td>1.00</td>\n",
       "      <td>24580.02</td>\n",
       "      <td>26473.28</td>\n",
       "    </tr>\n",
       "  </tbody>\n",
       "</table>\n",
       "</div>"
      ],
      "text/plain": [
       "        quantity  price_usd   sale_usd\n",
       "min         1.00    7100.00    7100.00\n",
       "max       115.00  328510.97 3778206.26\n",
       "median      1.00   24580.02   26473.28"
      ]
     },
     "execution_count": 52,
     "metadata": {},
     "output_type": "execute_result"
    }
   ],
   "source": [
    "#исключим возврат и посомтрим базовую статистику\n",
    "pd.options.display.float_format = '{:.2f}'.format\n",
    "df[df['quantity'] != -1][['quantity', 'price_usd','sale_usd']].agg(['min', 'max', 'median'])"
   ]
  },
  {
   "cell_type": "markdown",
   "id": "1dbf0413",
   "metadata": {},
   "source": [
    "Так как среднее лучше использовать, когда нет выбросов, среднюю цену машины (price_usd) и цену заказа(sale_usd) оценим по медиане.     "
   ]
  },
  {
   "cell_type": "code",
   "execution_count": 53,
   "id": "9a92ed6c",
   "metadata": {},
   "outputs": [
    {
     "data": {
      "image/png": "[encoded data removed]",
      "text/plain": [
       "<Figure size 936x576 with 1 Axes>"
      ]
     },
     "metadata": {
      "needs_background": "light"
     },
     "output_type": "display_data"
    },
    {
     "name": "stdout",
     "output_type": "stream",
     "text": [
      "Процент выбросов: 8.94%\n"
     ]
    }
   ],
   "source": [
    "plt.figure(figsize=(13,8))\n",
    "plt.ylim(0,150000)\n",
    "df.boxplot(['sale_usd'])\n",
    "# Получаем статистические значения для коробок\n",
    "median = df['sale_usd'].median()\n",
    "q1 = df['sale_usd'].quantile(0.25)\n",
    "q3 = df['sale_usd'].quantile(0.75)\n",
    "iqr = q3 - q1\n",
    "# Добавляем подпись к выбранной коробке с медианой\n",
    "plt.text(1, median, f'Median: {median:.2f}', fontsize=12, ha='left', va='bottom')\n",
    "# Добавляем подписи к Q1 и Q3\n",
    "plt.text(1, q1, f'Q1: {q1:.2f}', fontsize=12, ha='left', va='bottom')\n",
    "plt.text(1, q3, f'Q3: {q3:.2f}', fontsize=12, ha='left', va='bottom')\n",
    "plt.text(1.1, q3 + 1.5 * iqr, f'Max (без выбросов): {q3 + 1.5 * iqr:.2f}', ha='left', va='center', fontweight='bold', fontsize=12)\n",
    "plt.title('box plot sale USD')\n",
    "plt.show()\n",
    "lower_whisker = q1 - 1.5 * iqr\n",
    "upper_whisker = q3 + 1.5 * iqr\n",
    "outliers = df[(df['sale_usd'] < lower_whisker) | (df['sale_usd'] > upper_whisker)]\n",
    "percentage_of_outliers = len(outliers) / len(df) * 100\n",
    "print(f\"Процент выбросов: {percentage_of_outliers:.2f}%\")\n",
    "lower_fence = q1 - 1.5 * iqr\n",
    "upper_fence = q3 + 1.5 * iqr"
   ]
  },
  {
   "cell_type": "markdown",
   "id": "0fe13270",
   "metadata": {},
   "source": [
    "Средний чек 25834 дол. \n",
    "Выбросы 9%, значит 9% покупок сильно превышали суммы средних чеков.  \n",
    "Теперь посмотрим информацию о заказах с наибольшей выручкой (анализируем выбросы)."
   ]
  },
  {
   "cell_type": "code",
   "execution_count": 54,
   "id": "ebb711ff",
   "metadata": {},
   "outputs": [
    {
     "data": {
      "image/png": "[encoded data removed]",
      "text/plain": [
       "<Figure size 1080x576 with 1 Axes>"
      ]
     },
     "metadata": {
      "needs_background": "light"
     },
     "output_type": "display_data"
    },
    {
     "name": "stdout",
     "output_type": "stream",
     "text": [
      "Процент выбросов: 7.21%\n"
     ]
    }
   ],
   "source": [
    "plt.figure(figsize=(15,8))\n",
    "plt.ylim(0,150000)\n",
    "df.boxplot(['price_usd'])\n",
    "# Получаем статистические значения для коробок\n",
    "median = df['price_usd'].median()\n",
    "q1 = df['price_usd'].quantile(0.25)\n",
    "q3 = df['price_usd'].quantile(0.75)\n",
    "iqr = q3 - q1\n",
    "# Добавляем подпись к выбранной коробке с медианой\n",
    "plt.text(1, median, f'Median: {median:.2f}', fontsize=12, ha='left', va='bottom')\n",
    "# Добавляем подписи к Q1 и Q3\n",
    "plt.text(1, q1, f'Q1: {q1:.2f}', fontsize=12, ha='left', va='bottom')\n",
    "plt.text(1, q3, f'Q3: {q3:.2f}', fontsize=12, ha='left', va='bottom')\n",
    "plt.text(1.1, q3 + 1.5 * iqr, f'Max (без выбросов): {q3 + 1.5 * iqr:.2f}', ha='left', va='center', fontweight='bold', fontsize=12)\n",
    "plt.ylabel('prices in USD')\n",
    "plt.title('Box plot prices USD')\n",
    "plt.show()\n",
    "lower_whisker = q1 - 1.5 * iqr\n",
    "upper_whisker = q3 + 1.5 * iqr\n",
    "outliers = df[(df['price_usd'] < lower_whisker) | (df['price_usd'] > upper_whisker)]\n",
    "percentage_of_outliers = len(outliers) / len(df) * 100\n",
    "print(f\"Процент выбросов: {percentage_of_outliers:.2f}%\")"
   ]
  },
  {
   "cell_type": "markdown",
   "id": "8261c40c",
   "metadata": {},
   "source": [
    "В price_usd 7% выбросов. Средняя цена купленной машины 23920. Обычно цены купленных машин колеблются от 15600 до 32476.  \n",
    " Теперь изучим выбросы: помотрим какие бренды авто стоят дороже всего и выведем инфу о таких брендах."
   ]
  },
  {
   "cell_type": "code",
   "execution_count": 55,
   "id": "70dd1c91",
   "metadata": {},
   "outputs": [
    {
     "data": {
      "text/html": [
       "<div>\n",
       "<style scoped>\n",
       "    .dataframe tbody tr th:only-of-type {\n",
       "        vertical-align: middle;\n",
       "    }\n",
       "\n",
       "    .dataframe tbody tr th {\n",
       "        vertical-align: top;\n",
       "    }\n",
       "\n",
       "    .dataframe thead th {\n",
       "        text-align: right;\n",
       "    }\n",
       "</style>\n",
       "<table border=\"1\" class=\"dataframe\">\n",
       "  <thead>\n",
       "    <tr style=\"text-align: right;\">\n",
       "      <th></th>\n",
       "      <th>company</th>\n",
       "      <th>manufacturer_country</th>\n",
       "      <th>brand</th>\n",
       "      <th>model</th>\n",
       "      <th>price_usd</th>\n",
       "      <th>duplicate_count</th>\n",
       "      <th>date</th>\n",
       "      <th>class_2013</th>\n",
       "    </tr>\n",
       "  </thead>\n",
       "  <tbody>\n",
       "    <tr>\n",
       "      <th>39842</th>\n",
       "      <td>Autokapital</td>\n",
       "      <td>DEU</td>\n",
       "      <td>Mercedes-Benz Trucks</td>\n",
       "      <td>Setra</td>\n",
       "      <td>328510.97</td>\n",
       "      <td>1.00</td>\n",
       "      <td>2019-07-31</td>\n",
       "      <td>Большие автобусы</td>\n",
       "    </tr>\n",
       "    <tr>\n",
       "      <th>20399</th>\n",
       "      <td>Autokapital</td>\n",
       "      <td>TUR</td>\n",
       "      <td>Mercedes-Benz Trucks</td>\n",
       "      <td>Tourismo</td>\n",
       "      <td>305252.02</td>\n",
       "      <td>1.00</td>\n",
       "      <td>2019-05-31</td>\n",
       "      <td>Большие автобусы</td>\n",
       "    </tr>\n",
       "    <tr>\n",
       "      <th>20400</th>\n",
       "      <td>Autokapital</td>\n",
       "      <td>TUR</td>\n",
       "      <td>Mercedes-Benz Trucks</td>\n",
       "      <td>Tourismo</td>\n",
       "      <td>303650.88</td>\n",
       "      <td>1.00</td>\n",
       "      <td>2019-06-30</td>\n",
       "      <td>Большие автобусы</td>\n",
       "    </tr>\n",
       "    <tr>\n",
       "      <th>9700</th>\n",
       "      <td>Hyundai Com Trans Kazakhstan</td>\n",
       "      <td>KAZ</td>\n",
       "      <td>Hyundai Truck &amp; Bus</td>\n",
       "      <td>Universe</td>\n",
       "      <td>243388.74</td>\n",
       "      <td>1.00</td>\n",
       "      <td>2019-03-31</td>\n",
       "      <td>Большие автобусы</td>\n",
       "    </tr>\n",
       "    <tr>\n",
       "      <th>9705</th>\n",
       "      <td>Hyundai Com Trans Kazakhstan</td>\n",
       "      <td>KAZ</td>\n",
       "      <td>Hyundai Truck &amp; Bus</td>\n",
       "      <td>Universe</td>\n",
       "      <td>242854.52</td>\n",
       "      <td>1.00</td>\n",
       "      <td>2019-09-30</td>\n",
       "      <td>Большие автобусы</td>\n",
       "    </tr>\n",
       "    <tr>\n",
       "      <th>9701</th>\n",
       "      <td>Hyundai Com Trans Kazakhstan</td>\n",
       "      <td>KAZ</td>\n",
       "      <td>Hyundai Truck &amp; Bus</td>\n",
       "      <td>Universe</td>\n",
       "      <td>240826.56</td>\n",
       "      <td>2.00</td>\n",
       "      <td>2019-06-30</td>\n",
       "      <td>Большие автобусы</td>\n",
       "    </tr>\n",
       "    <tr>\n",
       "      <th>9704</th>\n",
       "      <td>Hyundai Com Trans Kazakhstan</td>\n",
       "      <td>KAZ</td>\n",
       "      <td>Hyundai Truck &amp; Bus</td>\n",
       "      <td>Universe</td>\n",
       "      <td>239718.66</td>\n",
       "      <td>2.00</td>\n",
       "      <td>2019-07-31</td>\n",
       "      <td>Большие автобусы</td>\n",
       "    </tr>\n",
       "    <tr>\n",
       "      <th>18758</th>\n",
       "      <td>Almaty Motors Premium</td>\n",
       "      <td>UK</td>\n",
       "      <td>Land Rover</td>\n",
       "      <td>Range Rover</td>\n",
       "      <td>218681.74</td>\n",
       "      <td>1.00</td>\n",
       "      <td>2019-04-30</td>\n",
       "      <td>Полноразмерные SUV</td>\n",
       "    </tr>\n",
       "    <tr>\n",
       "      <th>18778</th>\n",
       "      <td>Almaty Motors Premium</td>\n",
       "      <td>UK</td>\n",
       "      <td>Land Rover</td>\n",
       "      <td>Range Rover</td>\n",
       "      <td>209414.40</td>\n",
       "      <td>1.00</td>\n",
       "      <td>2019-06-30</td>\n",
       "      <td>Полноразмерные SUV</td>\n",
       "    </tr>\n",
       "    <tr>\n",
       "      <th>9699</th>\n",
       "      <td>Hyundai Com Trans Kazakhstan</td>\n",
       "      <td>KOR</td>\n",
       "      <td>Hyundai Truck &amp; Bus</td>\n",
       "      <td>Universe</td>\n",
       "      <td>207148.62</td>\n",
       "      <td>1.00</td>\n",
       "      <td>2019-01-31</td>\n",
       "      <td>Большие автобусы</td>\n",
       "    </tr>\n",
       "    <tr>\n",
       "      <th>21919</th>\n",
       "      <td>Mercur Autos</td>\n",
       "      <td>DEU</td>\n",
       "      <td>Porsche</td>\n",
       "      <td>Panamera</td>\n",
       "      <td>193600.00</td>\n",
       "      <td>1.00</td>\n",
       "      <td>2019-05-31</td>\n",
       "      <td>F класс</td>\n",
       "    </tr>\n",
       "    <tr>\n",
       "      <th>18779</th>\n",
       "      <td>Almaty Motors Premium</td>\n",
       "      <td>UK</td>\n",
       "      <td>Land Rover</td>\n",
       "      <td>Range Rover</td>\n",
       "      <td>191090.64</td>\n",
       "      <td>1.00</td>\n",
       "      <td>2019-06-30</td>\n",
       "      <td>Полноразмерные SUV</td>\n",
       "    </tr>\n",
       "    <tr>\n",
       "      <th>18730</th>\n",
       "      <td>Almaty Motors Premium</td>\n",
       "      <td>UK</td>\n",
       "      <td>Land Rover</td>\n",
       "      <td>Range Rover</td>\n",
       "      <td>182356.67</td>\n",
       "      <td>1.00</td>\n",
       "      <td>2019-01-31</td>\n",
       "      <td>Полноразмерные SUV</td>\n",
       "    </tr>\n",
       "    <tr>\n",
       "      <th>18748</th>\n",
       "      <td>TERRA MOTORS</td>\n",
       "      <td>UK</td>\n",
       "      <td>Land Rover</td>\n",
       "      <td>Range Rover</td>\n",
       "      <td>179957.43</td>\n",
       "      <td>2.00</td>\n",
       "      <td>2019-02-28</td>\n",
       "      <td>Полноразмерные SUV</td>\n",
       "    </tr>\n",
       "    <tr>\n",
       "      <th>18746</th>\n",
       "      <td>TERRA MOTORS</td>\n",
       "      <td>UK</td>\n",
       "      <td>Land Rover</td>\n",
       "      <td>Range Rover</td>\n",
       "      <td>179957.43</td>\n",
       "      <td>1.00</td>\n",
       "      <td>2019-02-28</td>\n",
       "      <td>Полноразмерные SUV</td>\n",
       "    </tr>\n",
       "    <tr>\n",
       "      <th>18755</th>\n",
       "      <td>TERRA MOTORS</td>\n",
       "      <td>UK</td>\n",
       "      <td>Land Rover</td>\n",
       "      <td>Range Rover</td>\n",
       "      <td>179896.02</td>\n",
       "      <td>1.00</td>\n",
       "      <td>2019-03-31</td>\n",
       "      <td>Полноразмерные SUV</td>\n",
       "    </tr>\n",
       "    <tr>\n",
       "      <th>18731</th>\n",
       "      <td>TERRA MOTORS</td>\n",
       "      <td>UK</td>\n",
       "      <td>Land Rover</td>\n",
       "      <td>Range Rover</td>\n",
       "      <td>179713.82</td>\n",
       "      <td>3.00</td>\n",
       "      <td>2019-01-31</td>\n",
       "      <td>Полноразмерные SUV</td>\n",
       "    </tr>\n",
       "    <tr>\n",
       "      <th>18734</th>\n",
       "      <td>TERRA MOTORS</td>\n",
       "      <td>UK</td>\n",
       "      <td>Land Rover</td>\n",
       "      <td>Range Rover</td>\n",
       "      <td>179713.82</td>\n",
       "      <td>1.00</td>\n",
       "      <td>2019-01-31</td>\n",
       "      <td>Полноразмерные SUV</td>\n",
       "    </tr>\n",
       "    <tr>\n",
       "      <th>18764</th>\n",
       "      <td>TERRA MOTORS</td>\n",
       "      <td>UK</td>\n",
       "      <td>Land Rover</td>\n",
       "      <td>Range Rover</td>\n",
       "      <td>179160.95</td>\n",
       "      <td>1.00</td>\n",
       "      <td>2019-04-30</td>\n",
       "      <td>Полноразмерные SUV</td>\n",
       "    </tr>\n",
       "    <tr>\n",
       "      <th>18774</th>\n",
       "      <td>TERRA MOTORS</td>\n",
       "      <td>UK</td>\n",
       "      <td>Land Rover</td>\n",
       "      <td>Range Rover</td>\n",
       "      <td>178940.84</td>\n",
       "      <td>1.00</td>\n",
       "      <td>2019-05-31</td>\n",
       "      <td>Полноразмерные SUV</td>\n",
       "    </tr>\n",
       "  </tbody>\n",
       "</table>\n",
       "</div>"
      ],
      "text/plain": [
       "                            company manufacturer_country  \\\n",
       "39842                   Autokapital                  DEU   \n",
       "20399                   Autokapital                  TUR   \n",
       "20400                   Autokapital                  TUR   \n",
       "9700   Hyundai Com Trans Kazakhstan                  KAZ   \n",
       "9705   Hyundai Com Trans Kazakhstan                  KAZ   \n",
       "9701   Hyundai Com Trans Kazakhstan                  KAZ   \n",
       "9704   Hyundai Com Trans Kazakhstan                  KAZ   \n",
       "18758         Almaty Motors Premium                   UK   \n",
       "18778         Almaty Motors Premium                   UK   \n",
       "9699   Hyundai Com Trans Kazakhstan                  KOR   \n",
       "21919                  Mercur Autos                  DEU   \n",
       "18779         Almaty Motors Premium                   UK   \n",
       "18730         Almaty Motors Premium                   UK   \n",
       "18748                  TERRA MOTORS                   UK   \n",
       "18746                  TERRA MOTORS                   UK   \n",
       "18755                  TERRA MOTORS                   UK   \n",
       "18731                  TERRA MOTORS                   UK   \n",
       "18734                  TERRA MOTORS                   UK   \n",
       "18764                  TERRA MOTORS                   UK   \n",
       "18774                  TERRA MOTORS                   UK   \n",
       "\n",
       "                      brand        model  price_usd  duplicate_count  \\\n",
       "39842  Mercedes-Benz Trucks        Setra  328510.97             1.00   \n",
       "20399  Mercedes-Benz Trucks     Tourismo  305252.02             1.00   \n",
       "20400  Mercedes-Benz Trucks     Tourismo  303650.88             1.00   \n",
       "9700    Hyundai Truck & Bus     Universe  243388.74             1.00   \n",
       "9705    Hyundai Truck & Bus     Universe  242854.52             1.00   \n",
       "9701    Hyundai Truck & Bus     Universe  240826.56             2.00   \n",
       "9704    Hyundai Truck & Bus     Universe  239718.66             2.00   \n",
       "18758            Land Rover  Range Rover  218681.74             1.00   \n",
       "18778            Land Rover  Range Rover  209414.40             1.00   \n",
       "9699    Hyundai Truck & Bus     Universe  207148.62             1.00   \n",
       "21919               Porsche     Panamera  193600.00             1.00   \n",
       "18779            Land Rover  Range Rover  191090.64             1.00   \n",
       "18730            Land Rover  Range Rover  182356.67             1.00   \n",
       "18748            Land Rover  Range Rover  179957.43             2.00   \n",
       "18746            Land Rover  Range Rover  179957.43             1.00   \n",
       "18755            Land Rover  Range Rover  179896.02             1.00   \n",
       "18731            Land Rover  Range Rover  179713.82             3.00   \n",
       "18734            Land Rover  Range Rover  179713.82             1.00   \n",
       "18764            Land Rover  Range Rover  179160.95             1.00   \n",
       "18774            Land Rover  Range Rover  178940.84             1.00   \n",
       "\n",
       "            date          class_2013  \n",
       "39842 2019-07-31    Большие автобусы  \n",
       "20399 2019-05-31    Большие автобусы  \n",
       "20400 2019-06-30    Большие автобусы  \n",
       "9700  2019-03-31    Большие автобусы  \n",
       "9705  2019-09-30    Большие автобусы  \n",
       "9701  2019-06-30    Большие автобусы  \n",
       "9704  2019-07-31    Большие автобусы  \n",
       "18758 2019-04-30  Полноразмерные SUV  \n",
       "18778 2019-06-30  Полноразмерные SUV  \n",
       "9699  2019-01-31    Большие автобусы  \n",
       "21919 2019-05-31             F класс  \n",
       "18779 2019-06-30  Полноразмерные SUV  \n",
       "18730 2019-01-31  Полноразмерные SUV  \n",
       "18748 2019-02-28  Полноразмерные SUV  \n",
       "18746 2019-02-28  Полноразмерные SUV  \n",
       "18755 2019-03-31  Полноразмерные SUV  \n",
       "18731 2019-01-31  Полноразмерные SUV  \n",
       "18734 2019-01-31  Полноразмерные SUV  \n",
       "18764 2019-04-30  Полноразмерные SUV  \n",
       "18774 2019-05-31  Полноразмерные SUV  "
      ]
     },
     "metadata": {},
     "output_type": "display_data"
    },
    {
     "data": {
      "text/plain": [
       "Text(0, 0.5, 'Бренд авто')"
      ]
     },
     "execution_count": 55,
     "metadata": {},
     "output_type": "execute_result"
    },
    {
     "data": {
      "text/plain": [
       "<Figure size 1080x720 with 0 Axes>"
      ]
     },
     "metadata": {},
     "output_type": "display_data"
    },
    {
     "data": {
      "image/png": "[encoded data removed]",
      "text/plain": [
       "<Figure size 1080x432 with 1 Axes>"
      ]
     },
     "metadata": {
      "needs_background": "light"
     },
     "output_type": "display_data"
    }
   ],
   "source": [
    "plt.figure(figsize=(15,10))\n",
    "# Создаём DataFrame с выбросами price_usd и сортируем\n",
    "outliers = df[(df['price_usd'] < lower_whisker) | (df['price_usd'] > upper_whisker)].sort_values(by='duplicate_count', ascending=False)\n",
    "#отбираем столбцы для просмотра\n",
    "str_max_sale_usd= outliers[['company', 'manufacturer_country', 'brand', 'model', 'price_usd','duplicate_count','date','class_2013']].sort_values(by='price_usd' ,ascending=False).drop_duplicates()\n",
    "display(str_max_sale_usd.head(20))\n",
    "#выводим график топ 20 самых дорогих марок на график\n",
    "str_max_sale_usd.head(20).plot(x='brand', y='price_usd',kind='barh',figsize=(15,6), grid=True)\n",
    "plt.title('Топ-20 дорогих моделей')\n",
    "plt.xlabel('Цена в USD')\n",
    "plt.ylabel('Бренд авто')"
   ]
  },
  {
   "cell_type": "markdown",
   "id": "78a96fb3",
   "metadata": {},
   "source": [
    "Наибольшие цены также выглядят адекватно, цены соответсвуют брендам (это авто повышенной комфортности, среди них: внедорожники, автобусы и грузовики)."
   ]
  },
  {
   "cell_type": "markdown",
   "id": "2420facd",
   "metadata": {},
   "source": [
    "Посмотрим распределение значений в sale_usd и price_usd с помощью hist, исключив сильные выбросы."
   ]
  },
  {
   "cell_type": "code",
   "execution_count": 56,
   "id": "a4b20530",
   "metadata": {},
   "outputs": [
    {
     "name": "stdout",
     "output_type": "stream",
     "text": [
      "Корреляция между price_usd и sale_usd: 0.41\n"
     ]
    },
    {
     "data": {
      "image/png": "[encoded data removed]",
      "text/plain": [
       "<Figure size 1008x504 with 1 Axes>"
      ]
     },
     "metadata": {
      "needs_background": "light"
     },
     "output_type": "display_data"
    }
   ],
   "source": [
    "plt.figure(figsize=(14,7))\n",
    "df.query('quantity!=-1&sale_usd < 70000')['sale_usd'].hist(bins=200, alpha=0.5, label='Цены заказов')\n",
    "df.query('quantity!=-1&price_usd < 57000')['price_usd'].hist(bins=200, alpha=0.5, label='Цены авто')\n",
    "plt.xlabel('Цена в USD')\n",
    "plt.ylabel('Частота')\n",
    "plt.legend()\n",
    "print(\"Корреляция между price_usd и sale_usd:\", round(df['price_usd'].corr(df['sale_usd']),2))"
   ]
  },
  {
   "cell_type": "code",
   "execution_count": 57,
   "id": "0a3a6df3",
   "metadata": {},
   "outputs": [
    {
     "data": {
      "text/plain": [
       "0"
      ]
     },
     "execution_count": 57,
     "metadata": {},
     "output_type": "execute_result"
    }
   ],
   "source": [
    "df.query(' 5000 > price_usd < 10000')['model'].count()"
   ]
  },
  {
   "cell_type": "markdown",
   "id": "52a68179",
   "metadata": {},
   "source": [
    "Исключив выбросы, по графику видно, что есть определённая зависимость между распределением price_usd и sale_usd, чем выше цена авто, тем больше сумма чека (в том случае, если берут несколько авто).  \n",
    "Резкие скачки на графике говорят о том, что некоторых моделей может быть меньше или больше остальных по определённой цене. Больше всего авто ~ за 10 тыс.дол."
   ]
  },
  {
   "cell_type": "code",
   "execution_count": 58,
   "id": "036e9cc0",
   "metadata": {},
   "outputs": [
    {
     "name": "stderr",
     "output_type": "stream",
     "text": [
      "C:\\Users\\Redmi\\AppData\\Local\\Temp\\ipykernel_19140\\3091449808.py:2: FutureWarning: The default value of numeric_only in DataFrame.corr is deprecated. In a future version, it will default to False. Select only valid columns or specify the value of numeric_only to silence this warning.\n",
      "  correlation_matrix = df.corr()\n"
     ]
    },
    {
     "data": {
      "text/plain": [
       "Text(0.5, 1.0, 'Уровень корреляции между столбцами')"
      ]
     },
     "execution_count": 58,
     "metadata": {},
     "output_type": "execute_result"
    },
    {
     "data": {
      "image/png": "[encoded data removed]",
      "text/plain": [
       "<Figure size 864x648 with 2 Axes>"
      ]
     },
     "metadata": {
      "needs_background": "light"
     },
     "output_type": "display_data"
    }
   ],
   "source": [
    "plt.figure(figsize=(12,9))\n",
    "correlation_matrix = df.corr()\n",
    "sns.heatmap(correlation_matrix, annot=True, cmap='coolwarm', linewidths=0.5)\n",
    "plt.title('Уровень корреляции между столбцами')"
   ]
  },
  {
   "cell_type": "markdown",
   "id": "b01b309e",
   "metadata": {},
   "source": [
    "Есть 2 корреляции выше среднего: количество авто/сумма заказа, цена авто/объём двигателя.  \n",
    "Также есть корреляция чуть ниже среднего: цена авто/сумма заказа.  \n",
    "Остальные корреляции незначительны.  \n",
    "\n",
    "Теперь изучим столбец со значениями объёма двигателя на выбросы и избавимся от них."
   ]
  },
  {
   "cell_type": "code",
   "execution_count": 59,
   "id": "2649e793",
   "metadata": {},
   "outputs": [
    {
     "data": {
      "image/png": "[encoded data removed]",
      "text/plain": [
       "<Figure size 864x504 with 1 Axes>"
      ]
     },
     "metadata": {
      "needs_background": "light"
     },
     "output_type": "display_data"
    }
   ],
   "source": [
    "plt.figure(figsize=(12,7))\n",
    "df.boxplot('engine_capacity_liters')\n",
    "plt.ylim(0,10)\n",
    "median = df['engine_capacity_liters'].median()\n",
    "q1 = df['engine_capacity_liters'].quantile(0.25)\n",
    "q3 = df['engine_capacity_liters'].quantile(0.75)\n",
    "iqr = q3 - q1\n",
    "# Добавляем подпись к выбранной коробке с медианой\n",
    "plt.text(1, median, f'Median: {median:.2f}', fontsize=12, ha='left', va='bottom')\n",
    "# Добавляем подписи к Q1 и Q3\n",
    "plt.text(1, q1, f'Q1: {q1:.2f}', fontsize=12, ha='left', va='bottom')\n",
    "plt.text(1, q3, f'Q3: {q3:.2f}', fontsize=12, ha='left', va='bottom')\n",
    "plt.text(1.1, q3 + 1.5 * iqr, f'Max (без выбросов): {q3 + 1.5 * iqr:.2f}', ha='left', va='center', fontweight='bold', fontsize=12)\n",
    "plt.ylabel('Объём в литрах')\n",
    "plt.title('Box plot engine_capacity_liters')\n",
    "plt.show()\n",
    "#lower_whisker = q1 - 1.5 * iqr\n",
    "#upper_whisker = q3 + 1.5 * iqr"
   ]
  },
  {
   "cell_type": "markdown",
   "id": "b59c95da",
   "metadata": {},
   "source": []
  },
  {
   "cell_type": "code",
   "execution_count": 60,
   "id": "7a641432",
   "metadata": {},
   "outputs": [
    {
     "data": {
      "text/html": [
       "<div>\n",
       "<style scoped>\n",
       "    .dataframe tbody tr th:only-of-type {\n",
       "        vertical-align: middle;\n",
       "    }\n",
       "\n",
       "    .dataframe tbody tr th {\n",
       "        vertical-align: top;\n",
       "    }\n",
       "\n",
       "    .dataframe thead th {\n",
       "        text-align: right;\n",
       "    }\n",
       "</style>\n",
       "<table border=\"1\" class=\"dataframe\">\n",
       "  <thead>\n",
       "    <tr style=\"text-align: right;\">\n",
       "      <th></th>\n",
       "      <th>brand</th>\n",
       "      <th>model</th>\n",
       "      <th>engine_capacity_liters</th>\n",
       "    </tr>\n",
       "  </thead>\n",
       "  <tbody>\n",
       "    <tr>\n",
       "      <th>399</th>\n",
       "      <td>Chevrolet</td>\n",
       "      <td>Niva</td>\n",
       "      <td>26.70</td>\n",
       "    </tr>\n",
       "    <tr>\n",
       "      <th>400</th>\n",
       "      <td>Chevrolet</td>\n",
       "      <td>Niva</td>\n",
       "      <td>25.70</td>\n",
       "    </tr>\n",
       "    <tr>\n",
       "      <th>401</th>\n",
       "      <td>Chevrolet</td>\n",
       "      <td>Niva</td>\n",
       "      <td>24.70</td>\n",
       "    </tr>\n",
       "    <tr>\n",
       "      <th>402</th>\n",
       "      <td>Chevrolet</td>\n",
       "      <td>Niva</td>\n",
       "      <td>23.70</td>\n",
       "    </tr>\n",
       "    <tr>\n",
       "      <th>403</th>\n",
       "      <td>Chevrolet</td>\n",
       "      <td>Niva</td>\n",
       "      <td>22.70</td>\n",
       "    </tr>\n",
       "    <tr>\n",
       "      <th>404</th>\n",
       "      <td>Chevrolet</td>\n",
       "      <td>Niva</td>\n",
       "      <td>21.70</td>\n",
       "    </tr>\n",
       "    <tr>\n",
       "      <th>405</th>\n",
       "      <td>Chevrolet</td>\n",
       "      <td>Niva</td>\n",
       "      <td>20.70</td>\n",
       "    </tr>\n",
       "    <tr>\n",
       "      <th>406</th>\n",
       "      <td>Chevrolet</td>\n",
       "      <td>Niva</td>\n",
       "      <td>19.70</td>\n",
       "    </tr>\n",
       "    <tr>\n",
       "      <th>407</th>\n",
       "      <td>Chevrolet</td>\n",
       "      <td>Niva</td>\n",
       "      <td>18.70</td>\n",
       "    </tr>\n",
       "    <tr>\n",
       "      <th>408</th>\n",
       "      <td>Chevrolet</td>\n",
       "      <td>Niva</td>\n",
       "      <td>17.70</td>\n",
       "    </tr>\n",
       "    <tr>\n",
       "      <th>409</th>\n",
       "      <td>Chevrolet</td>\n",
       "      <td>Niva</td>\n",
       "      <td>16.70</td>\n",
       "    </tr>\n",
       "    <tr>\n",
       "      <th>410</th>\n",
       "      <td>Chevrolet</td>\n",
       "      <td>Niva</td>\n",
       "      <td>15.70</td>\n",
       "    </tr>\n",
       "    <tr>\n",
       "      <th>411</th>\n",
       "      <td>Chevrolet</td>\n",
       "      <td>Niva</td>\n",
       "      <td>14.70</td>\n",
       "    </tr>\n",
       "    <tr>\n",
       "      <th>412</th>\n",
       "      <td>Chevrolet</td>\n",
       "      <td>Niva</td>\n",
       "      <td>13.70</td>\n",
       "    </tr>\n",
       "    <tr>\n",
       "      <th>413</th>\n",
       "      <td>Chevrolet</td>\n",
       "      <td>Niva</td>\n",
       "      <td>12.70</td>\n",
       "    </tr>\n",
       "    <tr>\n",
       "      <th>414</th>\n",
       "      <td>Chevrolet</td>\n",
       "      <td>Niva</td>\n",
       "      <td>11.70</td>\n",
       "    </tr>\n",
       "    <tr>\n",
       "      <th>415</th>\n",
       "      <td>Chevrolet</td>\n",
       "      <td>Niva</td>\n",
       "      <td>10.70</td>\n",
       "    </tr>\n",
       "    <tr>\n",
       "      <th>9699</th>\n",
       "      <td>Hyundai Truck &amp; Bus</td>\n",
       "      <td>Universe</td>\n",
       "      <td>12.30</td>\n",
       "    </tr>\n",
       "    <tr>\n",
       "      <th>20209</th>\n",
       "      <td>MAN</td>\n",
       "      <td>TG</td>\n",
       "      <td>10.50</td>\n",
       "    </tr>\n",
       "    <tr>\n",
       "      <th>20383</th>\n",
       "      <td>Mercedes-Benz Trucks</td>\n",
       "      <td>Actros</td>\n",
       "      <td>12.00</td>\n",
       "    </tr>\n",
       "    <tr>\n",
       "      <th>20384</th>\n",
       "      <td>Mercedes-Benz Trucks</td>\n",
       "      <td>Actros</td>\n",
       "      <td>12.80</td>\n",
       "    </tr>\n",
       "    <tr>\n",
       "      <th>20386</th>\n",
       "      <td>Mercedes-Benz Trucks</td>\n",
       "      <td>Actros</td>\n",
       "      <td>11.00</td>\n",
       "    </tr>\n",
       "    <tr>\n",
       "      <th>20399</th>\n",
       "      <td>Mercedes-Benz Trucks</td>\n",
       "      <td>Tourismo</td>\n",
       "      <td>12.00</td>\n",
       "    </tr>\n",
       "    <tr>\n",
       "      <th>25427</th>\n",
       "      <td>Scania</td>\n",
       "      <td>G-Series</td>\n",
       "      <td>13.00</td>\n",
       "    </tr>\n",
       "    <tr>\n",
       "      <th>25428</th>\n",
       "      <td>Scania</td>\n",
       "      <td>P-Series</td>\n",
       "      <td>13.00</td>\n",
       "    </tr>\n",
       "    <tr>\n",
       "      <th>25430</th>\n",
       "      <td>Scania</td>\n",
       "      <td>R-Series</td>\n",
       "      <td>13.00</td>\n",
       "    </tr>\n",
       "    <tr>\n",
       "      <th>39175</th>\n",
       "      <td>Scania</td>\n",
       "      <td>S-Series</td>\n",
       "      <td>13.00</td>\n",
       "    </tr>\n",
       "  </tbody>\n",
       "</table>\n",
       "</div>"
      ],
      "text/plain": [
       "                      brand     model  engine_capacity_liters\n",
       "399               Chevrolet      Niva                   26.70\n",
       "400               Chevrolet      Niva                   25.70\n",
       "401               Chevrolet      Niva                   24.70\n",
       "402               Chevrolet      Niva                   23.70\n",
       "403               Chevrolet      Niva                   22.70\n",
       "404               Chevrolet      Niva                   21.70\n",
       "405               Chevrolet      Niva                   20.70\n",
       "406               Chevrolet      Niva                   19.70\n",
       "407               Chevrolet      Niva                   18.70\n",
       "408               Chevrolet      Niva                   17.70\n",
       "409               Chevrolet      Niva                   16.70\n",
       "410               Chevrolet      Niva                   15.70\n",
       "411               Chevrolet      Niva                   14.70\n",
       "412               Chevrolet      Niva                   13.70\n",
       "413               Chevrolet      Niva                   12.70\n",
       "414               Chevrolet      Niva                   11.70\n",
       "415               Chevrolet      Niva                   10.70\n",
       "9699    Hyundai Truck & Bus  Universe                   12.30\n",
       "20209                   MAN        TG                   10.50\n",
       "20383  Mercedes-Benz Trucks    Actros                   12.00\n",
       "20384  Mercedes-Benz Trucks    Actros                   12.80\n",
       "20386  Mercedes-Benz Trucks    Actros                   11.00\n",
       "20399  Mercedes-Benz Trucks  Tourismo                   12.00\n",
       "25427                Scania  G-Series                   13.00\n",
       "25428                Scania  P-Series                   13.00\n",
       "25430                Scania  R-Series                   13.00\n",
       "39175                Scania  S-Series                   13.00"
      ]
     },
     "execution_count": 60,
     "metadata": {},
     "output_type": "execute_result"
    }
   ],
   "source": [
    "#анализ выбросов в engine_capacity_liters\n",
    "df.query('engine_capacity_liters > 10.0')[['brand','model','engine_capacity_liters']].drop_duplicates()"
   ]
  },
  {
   "cell_type": "markdown",
   "id": "e3e3d8df",
   "metadata": {},
   "source": [
    "Много неверных значений у Chevrolet Niva, в реальности она имеет объём двигателя 1.7 и 1.8, заменим большие ошибочные значения на 1.7.   \n",
    "Для всех остальных моделей значения объёмов двигателей впорядке."
   ]
  },
  {
   "cell_type": "code",
   "execution_count": 61,
   "id": "c5e9dc27",
   "metadata": {},
   "outputs": [],
   "source": [
    "#перезавпись значений объёмов двигателей для Сhevrolet Niva на верное\n",
    "df.loc[(df['brand'] == 'Chevrolet') & (df['model'] == 'Niva'), 'engine_capacity_liters'] = 1.7\n"
   ]
  },
  {
   "cell_type": "code",
   "execution_count": 62,
   "id": "927f2155",
   "metadata": {},
   "outputs": [
    {
     "data": {
      "image/png": "[encoded data removed]",
      "text/plain": [
       "<Figure size 864x504 with 1 Axes>"
      ]
     },
     "metadata": {
      "needs_background": "light"
     },
     "output_type": "display_data"
    }
   ],
   "source": [
    "plt.figure(figsize=(12,7))\n",
    "plt.scatter(df['engine_capacity_liters'], df['price_usd'])\n",
    "plt.grid(True)"
   ]
  },
  {
   "cell_type": "markdown",
   "id": "5f0e5624",
   "metadata": {},
   "source": [
    "Больше всего автомобилей с объёмом двигателя от 1.7 до 6.2.   \n",
    "Cтоимость авто с объёмом двиг. < 2 как правило не превышает 10 тыс.дол.  \n",
    "В целом, есть тенденция - чем больше объём двигателя, тем выше цена."
   ]
  },
  {
   "cell_type": "code",
   "execution_count": 63,
   "id": "e60d5bb1",
   "metadata": {},
   "outputs": [
    {
     "data": {
      "image/png": "[encoded data removed]",
      "text/plain": [
       "<Figure size 864x504 with 1 Axes>"
      ]
     },
     "metadata": {
      "needs_background": "light"
     },
     "output_type": "display_data"
    }
   ],
   "source": [
    "plt.figure(figsize=(12,7))\n",
    "plt.scatter((df['price_usd']), df['transmission_type'])\n",
    "plt.grid(True)"
   ]
  },
  {
   "cell_type": "markdown",
   "id": "5274480e",
   "metadata": {},
   "source": [
    "Больше всего дорогих моделей среди авто с автоматической трансмиссией.  \n",
    "И в целом, на рынке Казахстана преобладают машины с автоматической коробкой передач."
   ]
  },
  {
   "cell_type": "markdown",
   "id": "f290f5eb",
   "metadata": {},
   "source": [
    "**Вывод по разделу \"исследовательский анализ\".**\n",
    "* Разобрались с дубликатами и решили *оставить* их:   \n",
    "1) Наибольшее количество дубликатов у покупок из автоцентров Allur Auto, Ravon Motors Kazakstan, Toyota Motor Kazakhstan, это связано с тем, что это популярные автоцентры.  \n",
    "2) Суммарно наибольшее количество дублей среди строк с моделями Ravon Nexia R3, Toyota Camry, Jac S3 (популярные модели средней цены).   \n",
    "3) В целом, чаще всего дублировались довольно простые и бюджетные авто, есть стабильность по месяцам.  \n",
    "\n",
    "*По результатам анализа дубликатов можно сказать, что скорее всего они - не ошибка при сборе данных, а реальные продажи с одинаковыми характеристиками.*   \n",
    "* Проанализировали выбросы в quantity:  \n",
    "1) Самый большой оптовый заказ: 115 штук Lada 4x4.\n",
    "2) Наибольшими партиями покупают бюджетные и средние варианты авто (Lada, Volkswagen Polo, Kia Rio).\n",
    "3) Самые дорогие оптовые заказы: городские автобусы и грузовики.     \n",
    "4) Среди больших оптовых партий нет моделей с наибольшим количеством дублей в строках (Toyota Camry и Ravon Nexia R3), значит, чаще всего их берут для личного пользования.  \n",
    "* Проанализировлаи выбросы в sale_usd:  \n",
    "1) Самый дорогой заказ 3млн 778тыс. долларов - 50 штук Daewoo BC095 (городской автобус среднего класса).  \n",
    "2) В выбросах самые дорогие заказы - оптовые.  \n",
    "2) Самые дорогие заказы делают юр.лица.\n",
    "3) Средний чек 25834 дол.  \n",
    "* Выбросы в price_usd: \n",
    "1) Самое дорогое авто - автобус Mercedes-benz Trunk Setra 328510.97$. \n",
    "2) В целом, высокие цены соответсвуют моделям (бизнес-класс, автобусы, грузовики).\n",
    "3) Чаще всего покупают авто по ценам от 15600$ до 32476$.\n",
    "2) Средняя цена машины 23930 дол.  \n",
    "\n",
    "*Выбросы в quantity, sale_usd, price_usd - не аномалии.*\n",
    "\n",
    "* Есть 2 корреляции выше среднего: \n",
    "1) Cумма заказа/количество авто.    \n",
    "2) Цена авто/объём двигателя (есть тенденция - чем больше объём двигателя, тем выше цена)."
   ]
  },
  {
   "cell_type": "markdown",
   "id": "54204004",
   "metadata": {},
   "source": [
    "## 3 Анализ рынка"
   ]
  },
  {
   "cell_type": "markdown",
   "id": "6d79338d",
   "metadata": {},
   "source": [
    "### 3.1 Топовые марки и продажи на рынке Казахстана."
   ]
  },
  {
   "cell_type": "code",
   "execution_count": 84,
   "id": "63644250",
   "metadata": {},
   "outputs": [
    {
     "data": {
      "text/plain": [
       "(array([0, 1, 2, 3, 4, 5, 6, 7, 8, 9]),\n",
       " [Text(0, 0, '(Camry, Toyota)'),\n",
       "  Text(1, 0, '(Tucson, Hyundai)'),\n",
       "  Text(2, 0, '(Accent, Hyundai)'),\n",
       "  Text(3, 0, '(Elantra, Hyundai)'),\n",
       "  Text(4, 0, '(Creta, Hyundai)'),\n",
       "  Text(5, 0, '(LC Prado, Toyota)'),\n",
       "  Text(6, 0, '(Nexia R3, Ravon)'),\n",
       "  Text(7, 0, '(S3, Jac)'),\n",
       "  Text(8, 0, '(RAV4, Toyota)'),\n",
       "  Text(9, 0, '(Corolla, Toyota)')])"
      ]
     },
     "execution_count": 84,
     "metadata": {},
     "output_type": "execute_result"
    },
    {
     "data": {
      "image/png": "[encoded data removed]",
      "text/plain": [
       "<Figure size 864x504 with 1 Axes>"
      ]
     },
     "metadata": {
      "needs_background": "light"
     },
     "output_type": "display_data"
    }
   ],
   "source": [
    "#построим график наибольшего количества проданных моделей\n",
    "plt.figure(figsize=(12, 7))\n",
    "df.groupby(['model','brand'])['model'].count().sort_values(ascending=False).head(10).plot(kind='bar', figsize=(12,7), grid=True)\n",
    "plt.title('Наиболее популярные марки в натуральном выражении')\n",
    "plt.xlabel('Модель авто')\n",
    "plt.ylabel('Количество проданных авто')\n",
    "plt.xticks(rotation=60)"
   ]
  },
  {
   "cell_type": "code",
   "execution_count": 86,
   "id": "b4911895",
   "metadata": {},
   "outputs": [
    {
     "data": {
      "text/plain": [
       "(array([0, 1, 2, 3, 4, 5, 6, 7, 8, 9]),\n",
       " [Text(0, 0, '(Camry, Toyota)'),\n",
       "  Text(1, 0, '(Tucson, Hyundai)'),\n",
       "  Text(2, 0, '(LC Prado, Toyota)'),\n",
       "  Text(3, 0, '(LC200, Toyota)'),\n",
       "  Text(4, 0, '(Elantra, Hyundai)'),\n",
       "  Text(5, 0, '(Accent, Hyundai)'),\n",
       "  Text(6, 0, '(Creta, Hyundai)'),\n",
       "  Text(7, 0, '(Corolla, Toyota)'),\n",
       "  Text(8, 0, '(RAV4, Toyota)'),\n",
       "  Text(9, 0, '(LX, Lexus)')])"
      ]
     },
     "execution_count": 86,
     "metadata": {},
     "output_type": "execute_result"
    },
    {
     "data": {
      "image/png": "[encoded data removed]",
      "text/plain": [
       "<Figure size 864x504 with 1 Axes>"
      ]
     },
     "metadata": {
      "needs_background": "light"
     },
     "output_type": "display_data"
    }
   ],
   "source": [
    "plt.figure(figsize=(12, 7))\n",
    "top_10_models = df.groupby(['model','brand'])['sale_usd'].sum().sort_values(ascending=False).head(10)\n",
    "top_10_models.plot(kind='bar', grid=True)\n",
    "plt.title('Наиболее популярные марки в денежном выражении')\n",
    "plt.xlabel('Модель авто')\n",
    "plt.ylabel('Количество проданных авто')\n",
    "# Добавляем числа на график\n",
    "for index, value in enumerate(top_10_models):\n",
    "    plt.annotate(f'{value:.2f}', xy=(index, value), ha='center', va='bottom')\n",
    "plt.xticks(rotation=60)"
   ]
  },
  {
   "cell_type": "markdown",
   "id": "075d7d2f",
   "metadata": {},
   "source": [
    "Наиболее популярная модель Toyota Camry, затем идут Hunday Tucson,  Hunday Accent и т.д.  \n",
    "В целом, наиболее популярные бредны Hynday и Toyota, они же приносят больше всего выручки.   \n",
    "Больше всего выручки с Toyota Camry (135 млн 317 тыс)."
   ]
  },
  {
   "cell_type": "markdown",
   "id": "e82647dc",
   "metadata": {},
   "source": [
    "### 3.2 Динамика продаж в целом по рынку (помесячно)."
   ]
  },
  {
   "cell_type": "code",
   "execution_count": 67,
   "id": "2f9efc17",
   "metadata": {},
   "outputs": [
    {
     "data": {
      "text/plain": [
       "Text(0, 0.5, 'Количество проданных авто')"
      ]
     },
     "execution_count": 67,
     "metadata": {},
     "output_type": "execute_result"
    },
    {
     "data": {
      "image/png": "[encoded data removed]",
      "text/plain": [
       "<Figure size 1080x576 with 1 Axes>"
      ]
     },
     "metadata": {
      "needs_background": "light"
     },
     "output_type": "display_data"
    }
   ],
   "source": [
    "plt.figure(figsize=(15, 8))\n",
    "df.groupby('month')['model'].count().sort_values(ascending=False).plot(kind='barh', grid=True)\n",
    "plt.title('Продажи помесячно в натуральном выражении')\n",
    "plt.xlabel('Месяц')\n",
    "plt.ylabel('Количество проданных авто')"
   ]
  },
  {
   "cell_type": "code",
   "execution_count": 68,
   "id": "d8515047",
   "metadata": {},
   "outputs": [
    {
     "data": {
      "text/plain": [
       "Text(0, 0.5, 'Сумма продаж, USD')"
      ]
     },
     "execution_count": 68,
     "metadata": {},
     "output_type": "execute_result"
    },
    {
     "data": {
      "image/png": "[encoded data removed]",
      "text/plain": [
       "<Figure size 864x504 with 1 Axes>"
      ]
     },
     "metadata": {
      "needs_background": "light"
     },
     "output_type": "display_data"
    }
   ],
   "source": [
    "plt.figure(figsize=(14, 7))\n",
    "df.groupby('month')['sale_usd'].sum().sort_values(ascending=False).plot(kind='barh', figsize=(12,7), grid=True)\n",
    "plt.title('Продажи помесячно в денежном выражении')\n",
    "plt.xlabel('Месяц')\n",
    "plt.ylabel('Сумма продаж, USD')"
   ]
  },
  {
   "cell_type": "markdown",
   "id": "a05cf3e3",
   "metadata": {},
   "source": [
    "Пик продаж приходится на апрель-сентябрь. В марте наименьшее количество продаж."
   ]
  },
  {
   "cell_type": "markdown",
   "id": "a0c1ab4d",
   "metadata": {},
   "source": [
    "### 3.3 Динамика продаж по категориям (помесячно): тип топлива, класс, сегмент "
   ]
  },
  {
   "cell_type": "code",
   "execution_count": 81,
   "id": "6eaca637",
   "metadata": {},
   "outputs": [
    {
     "data": {
      "image/png": "[encoded data removed]",
      "text/plain": [
       "<Figure size 864x504 with 1 Axes>"
      ]
     },
     "metadata": {
      "needs_background": "light"
     },
     "output_type": "display_data"
    }
   ],
   "source": [
    "# Группируем данные по месяцам и категории fuel_type, считаем сумму продаж в денежном выражении\n",
    "monthly_sales = df.groupby(['month', 'fuel_type'])['model'].count().reset_index()\n",
    "plt.figure(figsize=(12, 7))\n",
    "sns.barplot(data=monthly_sales, x='month', y='model', hue='fuel_type')\n",
    "plt.title('Динамика продаж по месяцам и типам топлива (в натуральном выражении)')\n",
    "plt.xlabel('Месяц')\n",
    "plt.ylabel('Количество авто')\n",
    "plt.xticks(rotation=45)\n",
    "plt.grid(True)\n",
    "plt.show()"
   ]
  },
  {
   "cell_type": "markdown",
   "id": "98bcf840",
   "metadata": {},
   "source": [
    "Больше всего продаются машины с Бензо движком и их больше всего на рынке (около 90%)"
   ]
  },
  {
   "cell_type": "code",
   "execution_count": 82,
   "id": "6e0fa645",
   "metadata": {},
   "outputs": [
    {
     "data": {
      "image/png": "[encoded data removed]",
      "text/plain": [
       "<Figure size 864x504 with 1 Axes>"
      ]
     },
     "metadata": {
      "needs_background": "light"
     },
     "output_type": "display_data"
    }
   ],
   "source": [
    "# Группируем данные по месяцам и сегментации, считаем сумму продаж в денежном выражении\n",
    "monthly_sales = df.groupby(['month', 'segmentation_2013'])['model'].count().reset_index()\n",
    "plt.figure(figsize=(12, 7))\n",
    "sns.barplot(data=monthly_sales, x='month', y='model', hue='segmentation_2013')\n",
    "plt.title('Динамика продаж по месяцам и сегментам (в натуральном выражении)')\n",
    "plt.xlabel('Месяц')\n",
    "plt.ylabel('Количество авто')\n",
    "plt.xticks(rotation=45)\n",
    "plt.grid(True)\n",
    "plt.show()"
   ]
  },
  {
   "cell_type": "markdown",
   "id": "3ba701d6",
   "metadata": {},
   "source": [
    "На Казахстанском рынке преобладают внедорожники. Они же приносят больше всего выручки. За ними идут легковые авто."
   ]
  },
  {
   "cell_type": "code",
   "execution_count": 71,
   "id": "e8cf191a",
   "metadata": {},
   "outputs": [
    {
     "data": {
      "image/png": "[encoded data removed]",
      "text/plain": [
       "<Figure size 864x504 with 1 Axes>"
      ]
     },
     "metadata": {
      "needs_background": "light"
     },
     "output_type": "display_data"
    }
   ],
   "source": [
    "# Группируем данные по месяцам и сегментации, считаем количество проданных авто\n",
    "monthly_sales = df.groupby('class_2013')['model'].count().sort_values()\n",
    "monthly_sales.plot(x='class_2013', y='model', kind='barh', figsize=(12, 7),grid=True)\n",
    "plt.title('Динамика продаж по классам в натуральном выражении')\n",
    "plt.xlabel('Количество авто')\n",
    "plt.ylabel('Месяц')\n",
    "plt.show()"
   ]
  },
  {
   "cell_type": "code",
   "execution_count": 72,
   "id": "552159a1",
   "metadata": {},
   "outputs": [
    {
     "data": {
      "image/png": "[encoded data removed]",
      "text/plain": [
       "<Figure size 864x504 with 1 Axes>"
      ]
     },
     "metadata": {
      "needs_background": "light"
     },
     "output_type": "display_data"
    }
   ],
   "source": [
    "# Группируем данные по месяцам и сегментации, считаем сумму продаж в денежном выражении\n",
    "monthly_sales = df.groupby('class_2013')['sale_usd'].sum().sort_values()\n",
    "monthly_sales.plot(x='class_2013', y='model', kind='barh', figsize=(12, 7), grid=True)\n",
    "plt.title('Динамика продаж по классам в денежном выражении')\n",
    "plt.xlabel('Количество авто')\n",
    "plt.ylabel('Месяц')\n",
    "plt.show()"
   ]
  },
  {
   "cell_type": "markdown",
   "id": "43148e13",
   "metadata": {},
   "source": [
    "Наиболее популярные авто B класса, компактные SUV и авто D класса.  \n",
    "Больше всего выручки было с компактных, среднеразмерных и полноразмерных SUV. "
   ]
  },
  {
   "cell_type": "markdown",
   "id": "6d142fb1",
   "metadata": {},
   "source": [
    "### 3.4 Продажи по регионам "
   ]
  },
  {
   "cell_type": "code",
   "execution_count": 83,
   "id": "6daaaa27",
   "metadata": {},
   "outputs": [
    {
     "data": {
      "image/png": "[encoded data removed]",
      "text/plain": [
       "<Figure size 864x504 with 1 Axes>"
      ]
     },
     "metadata": {
      "needs_background": "light"
     },
     "output_type": "display_data"
    }
   ],
   "source": [
    "plt.figure(figsize=(12, 7))\n",
    "sale_region = df.groupby('area')['sale_usd'].sum().sort_values()\n",
    "ax = sale_region.plot(kind='barh', figsize=(12,7), grid=True)\n",
    "plt.title('Сумма продаж по областям в денежном выражении')\n",
    "plt.xlabel('Область')\n",
    "plt.ylabel('Сумма продаж, USD')\n",
    "for i, v in enumerate(sale_region):\n",
    "    ax.text(v, i, f' {v:.2f}', va='center')"
   ]
  },
  {
   "cell_type": "code",
   "execution_count": 74,
   "id": "ae92dad9",
   "metadata": {},
   "outputs": [
    {
     "data": {
      "image/png": "[encoded data removed]",
      "text/plain": [
       "<Figure size 864x504 with 1 Axes>"
      ]
     },
     "metadata": {
      "needs_background": "light"
     },
     "output_type": "display_data"
    }
   ],
   "source": [
    "plt.figure(figsize=(12, 7))\n",
    "df.groupby('area')['model'].count().sort_values().plot(kind='barh', grid=True)\n",
    "plt.title('Динамика продаж по регионам в натуральном ')\n",
    "plt.xlabel('Количество авто')\n",
    "plt.ylabel('Регион')\n",
    "plt.show()"
   ]
  },
  {
   "cell_type": "markdown",
   "id": "16c1fb7a",
   "metadata": {},
   "source": [
    "Небольшая часть продаж на экспорт (около 36,6 млн дол.), основная масса покупателей - в Казахстане, больше всего машин было продано в г.Алматы (на сумму более 404 млн долларов)."
   ]
  },
  {
   "cell_type": "code",
   "execution_count": 75,
   "id": "ae81112e",
   "metadata": {},
   "outputs": [
    {
     "data": {
      "image/png": "[encoded data removed]",
      "text/plain": [
       "<Figure size 720x432 with 1 Axes>"
      ]
     },
     "metadata": {
      "needs_background": "light"
     },
     "output_type": "display_data"
    }
   ],
   "source": [
    "plt.figure(figsize=(12, 7))\n",
    "top_10_companies = df.groupby('company')['model'].count().sort_values().tail(10)\n",
    "ax = top_10_companies.plot(kind='barh', figsize=(10, 6), grid=True) \n",
    "plt.title('Топ-10 автоцентром по количеству проданных авто')\n",
    "plt.xlabel('Месяц')\n",
    "plt.ylabel('Количество авто')\n",
    "plt.show()"
   ]
  },
  {
   "cell_type": "markdown",
   "id": "632250a7",
   "metadata": {},
   "source": [
    "С сильным отрывом от конкурентов наибольшее количество автомобилей продали Toyota Motor Kazahstan(более 10 тысяч) и Astana Motors(чуть более 10 тысяч), затем идёт БИПЭК АВТО и т.д."
   ]
  },
  {
   "cell_type": "code",
   "execution_count": 76,
   "id": "cf2c6720",
   "metadata": {},
   "outputs": [
    {
     "data": {
      "image/png": "[encoded data removed]",
      "text/plain": [
       "<Figure size 720x432 with 1 Axes>"
      ]
     },
     "metadata": {
      "needs_background": "light"
     },
     "output_type": "display_data"
    }
   ],
   "source": [
    "plt.figure(figsize=(12, 7))\n",
    "top_10_mon_coun = df.groupby('manufacturer_country')['model'].count().sort_values().tail(10)\n",
    "ax = top_10_mon_coun.plot(kind='barh', figsize=(10, 6), grid=True) \n",
    "plt.title('Производители проданных авто')\n",
    "plt.xlabel('Количество авто')\n",
    "plt.ylabel('Страна-производитель')\n",
    "plt.show()\n",
    "\n"
   ]
  },
  {
   "cell_type": "code",
   "execution_count": 77,
   "id": "7e669b7f",
   "metadata": {},
   "outputs": [
    {
     "data": {
      "image/png": "[encoded data removed]",
      "text/plain": [
       "<Figure size 720x432 with 1 Axes>"
      ]
     },
     "metadata": {
      "needs_background": "light"
     },
     "output_type": "display_data"
    }
   ],
   "source": [
    "plt.figure(figsize=(12, 7))\n",
    "top_10_mon_coun = df.groupby('manufacturer_country')['sale_usd'].sum().sort_values().tail(10)\n",
    "ax = top_10_mon_coun.plot(kind='barh', figsize=(10, 6), grid=True) \n",
    "plt.title('Производители проданных авто')\n",
    "plt.xlabel('Выручка')\n",
    "plt.ylabel('Страна-производитель')\n",
    "\n",
    "# Добавляем цифры на бары\n",
    "for i, v in enumerate(top_10_mon_coun):\n",
    "    ax.text(v, i, f' {v:.2f}', va='center')\n",
    "plt.show()"
   ]
  },
  {
   "cell_type": "markdown",
   "id": "d685384f",
   "metadata": {},
   "source": [
    "На рынке Казахстана лидируют отечественные производители, затем идёт Россия и Япония.   \n",
    "Авто этих производителей принесли больше всего денег (KAZ- более 564 млн дол, RUS - более 322 млн дол.)  "
   ]
  },
  {
   "cell_type": "markdown",
   "id": "22bc0a78",
   "metadata": {},
   "source": [
    "## Вывод. \n",
    "В ходе исследования датасет был подготовлен к анализу рынка: провелась очистка данных от аномалий и дубликатов, изменены типы данных, устранены пропуски, проанализированы выбросы. В результате получены такие выводы:  \n",
    "* Средняя цена машины - 23930 дол.\n",
    "* Средний чек - 25834 дол.    .  \n",
    "* Больше всего оптом покупают бюджетные и средние варианты (Lada, Volkswagen Polo, Kia Rio).  \n",
    "* Наиболее популярные модели: Toyota Camry (куплено на сумму 135 млн), Hunday Tucson,  Hunday Accent.  \n",
    "* В целом, наиболее популярные бредны, которые приносят больше всего выручки: Toyota (куплено на 361 млн) и Hynday (229 млн).  \n",
    "* Лишь небольшая часть авто идёт на экспорт (менее 2х тысяч авто). Больше всего было продано в г.Алматы (на сумму более 404х млн долларов).  \n",
    "* Пик продаж приходится на апрель-сентябрь. В марте наименьшее количество продаж.  \n",
    "* Больше всего продаются машины с Бензо движком и их больше всего на рынке (около 90%).\n",
    "* На Казахстанском рынке преобладают внедорожники. Они же приносят больше всего выручки. За ними идут легковые авто. \n",
    "* Наиболее популярные авто B класса, компактные SUV и авто D класса. Больше всего выручки - с компактных, среднеразмерных и полноразмерных SUV.    \n",
    "* Наиболее популярные автоцентры: Toyota Motor Kazahstan(продали более 10 тысяч) и Astana Motors(чуть более 10 тысяч), затем идёт БИПЭК АВТО и т.д.\n",
    "* Больше всего проданных автомобилей собраны в Казахстане (около 19 тыс.), затем идёт Россия и Япония.    "
   ]
  }
 ],
 "metadata": {
  "kernelspec": {
   "display_name": "Python 3 (ipykernel)",
   "language": "python",
   "name": "python3"
  },
  "language_info": {
   "codemirror_mode": {
    "name": "ipython",
    "version": 3
   },
   "file_extension": ".py",
   "mimetype": "text/x-python",
   "name": "python",
   "nbconvert_exporter": "python",
   "pygments_lexer": "ipython3",
   "version": "3.9.13"
  },
  "toc": {
   "base_numbering": 1,
   "nav_menu": {
    "height": "115px",
    "width": "172px"
   },
   "number_sections": true,
   "sideBar": true,
   "skip_h1_title": false,
   "title_cell": "Table of Contents",
   "title_sidebar": "Contents",
   "toc_cell": false,
   "toc_position": {
    "height": "calc(100% - 180px)",
    "left": "10px",
    "top": "150px",
    "width": "307.2px"
   },
   "toc_section_display": true,
   "toc_window_display": true
  }
 },
 "nbformat": 4,
 "nbformat_minor": 5
}
